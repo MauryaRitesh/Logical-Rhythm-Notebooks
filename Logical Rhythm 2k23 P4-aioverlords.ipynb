{
 "cells": [
  {
   "cell_type": "code",
   "execution_count": 1,
   "id": "a3ae9c23",
   "metadata": {
    "_cell_guid": "b1076dfc-b9ad-4769-8c92-a6c4dae69d19",
    "_uuid": "8f2839f25d086af736a60e9eeb907d3b93b6e0e5",
    "execution": {
     "iopub.execute_input": "2023-11-23T16:02:54.763047Z",
     "iopub.status.busy": "2023-11-23T16:02:54.762065Z",
     "iopub.status.idle": "2023-11-23T16:02:55.781077Z",
     "shell.execute_reply": "2023-11-23T16:02:55.778405Z"
    },
    "papermill": {
     "duration": 1.055852,
     "end_time": "2023-11-23T16:02:55.785836",
     "exception": false,
     "start_time": "2023-11-23T16:02:54.729984",
     "status": "completed"
    },
    "tags": []
   },
   "outputs": [
    {
     "name": "stdout",
     "output_type": "stream",
     "text": [
      "/kaggle/input/anyas-gojo-revival-space-shop/sample_submission.csv\n",
      "/kaggle/input/anyas-gojo-revival-space-shop/test.tsv\n",
      "/kaggle/input/anyas-gojo-revival-space-shop/train.tsv\n"
     ]
    }
   ],
   "source": [
    "# This Python 3 environment comes with many helpful analytics libraries installed\n",
    "# It is defined by the kaggle/python Docker image: https://github.com/kaggle/docker-python\n",
    "# For example, here's several helpful packages to load\n",
    "\n",
    "import numpy as np # linear algebra\n",
    "import pandas as pd # data processing, CSV file I/O (e.g. pd.read_csv)\n",
    "\n",
    "# Input data files are available in the read-only \"../input/\" directory\n",
    "# For example, running this (by clicking run or pressing Shift+Enter) will list all files under the input directory\n",
    "\n",
    "import os\n",
    "for dirname, _, filenames in os.walk('/kaggle/input'):\n",
    "    for filename in filenames:\n",
    "        print(os.path.join(dirname, filename))\n",
    "\n",
    "# You can write up to 20GB to the current directory (/kaggle/working/) that gets preserved as output when you create a version using \"Save & Run All\" \n",
    "# You can also write temporary files to /kaggle/temp/, but they won't be saved outside of the current session"
   ]
  },
  {
   "cell_type": "code",
   "execution_count": 2,
   "id": "5deb5f20",
   "metadata": {
    "execution": {
     "iopub.execute_input": "2023-11-23T16:02:55.845483Z",
     "iopub.status.busy": "2023-11-23T16:02:55.843993Z",
     "iopub.status.idle": "2023-11-23T16:02:55.916472Z",
     "shell.execute_reply": "2023-11-23T16:02:55.915053Z"
    },
    "papermill": {
     "duration": 0.105349,
     "end_time": "2023-11-23T16:02:55.919976",
     "exception": false,
     "start_time": "2023-11-23T16:02:55.814627",
     "status": "completed"
    },
    "tags": []
   },
   "outputs": [],
   "source": [
    "train_data = pd.read_csv('/kaggle/input/anyas-gojo-revival-space-shop/train.tsv', sep='\\t')\n",
    "test_data = pd.read_csv('/kaggle/input/anyas-gojo-revival-space-shop/test.tsv', sep='\\t')\n"
   ]
  },
  {
   "cell_type": "code",
   "execution_count": 3,
   "id": "b6c73dff",
   "metadata": {
    "execution": {
     "iopub.execute_input": "2023-11-23T16:02:55.977347Z",
     "iopub.status.busy": "2023-11-23T16:02:55.976936Z",
     "iopub.status.idle": "2023-11-23T16:02:56.020554Z",
     "shell.execute_reply": "2023-11-23T16:02:56.019007Z"
    },
    "papermill": {
     "duration": 0.07587,
     "end_time": "2023-11-23T16:02:56.024271",
     "exception": false,
     "start_time": "2023-11-23T16:02:55.948401",
     "status": "completed"
    },
    "tags": []
   },
   "outputs": [
    {
     "data": {
      "text/html": [
       "<div>\n",
       "<style scoped>\n",
       "    .dataframe tbody tr th:only-of-type {\n",
       "        vertical-align: middle;\n",
       "    }\n",
       "\n",
       "    .dataframe tbody tr th {\n",
       "        vertical-align: top;\n",
       "    }\n",
       "\n",
       "    .dataframe thead th {\n",
       "        text-align: right;\n",
       "    }\n",
       "</style>\n",
       "<table border=\"1\" class=\"dataframe\">\n",
       "  <thead>\n",
       "    <tr style=\"text-align: right;\">\n",
       "      <th></th>\n",
       "      <th>date</th>\n",
       "      <th>time</th>\n",
       "      <th>id</th>\n",
       "      <th>reviewer name</th>\n",
       "      <th>reviewer address</th>\n",
       "      <th>contact number</th>\n",
       "      <th>variation</th>\n",
       "      <th>verified_reviews</th>\n",
       "      <th>feedback</th>\n",
       "    </tr>\n",
       "  </thead>\n",
       "  <tbody>\n",
       "    <tr>\n",
       "      <th>0</th>\n",
       "      <td>29-Jul-18</td>\n",
       "      <td>16:47:11</td>\n",
       "      <td>6074908</td>\n",
       "      <td>Russell Hensley</td>\n",
       "      <td>9059 Morales Run Suite 912\\nSouth Charles, MH ...</td>\n",
       "      <td>6932290613</td>\n",
       "      <td>Heather Gray Fabric</td>\n",
       "      <td>I have the original Alexa and the Tap and so f...</td>\n",
       "      <td>1</td>\n",
       "    </tr>\n",
       "    <tr>\n",
       "      <th>1</th>\n",
       "      <td>28-Jul-18</td>\n",
       "      <td>17:49:58</td>\n",
       "      <td>1159008</td>\n",
       "      <td>Adam Baxter</td>\n",
       "      <td>13728 Jones Mission Apt. 526\\nSouth Tylerfurt,...</td>\n",
       "      <td>385-994-9458</td>\n",
       "      <td>Black  Plus</td>\n",
       "      <td>Great product. More skills are needed. I love it.</td>\n",
       "      <td>1</td>\n",
       "    </tr>\n",
       "    <tr>\n",
       "      <th>2</th>\n",
       "      <td>30-Jul-18</td>\n",
       "      <td>16:46:29</td>\n",
       "      <td>1759753</td>\n",
       "      <td>Sarah Contreras</td>\n",
       "      <td>7113 Pratt Plains\\nPalmermouth, IN 02370</td>\n",
       "      <td>(738)354-8387</td>\n",
       "      <td>Configuration: Fire TV Stick</td>\n",
       "      <td>I will never buy anything Amazon makes again!T...</td>\n",
       "      <td>0</td>\n",
       "    </tr>\n",
       "    <tr>\n",
       "      <th>3</th>\n",
       "      <td>29-Jul-18</td>\n",
       "      <td>19:23:32</td>\n",
       "      <td>1861422</td>\n",
       "      <td>Tim Castillo</td>\n",
       "      <td>93586 Cook Union Apt. 080\\nMorganmouth, WI 51175</td>\n",
       "      <td>(294)877-6223</td>\n",
       "      <td>Black  Plus</td>\n",
       "      <td>Not perfect but very good! A few times Alexa p...</td>\n",
       "      <td>1</td>\n",
       "    </tr>\n",
       "    <tr>\n",
       "      <th>4</th>\n",
       "      <td>28-Jul-18</td>\n",
       "      <td>16:15:25</td>\n",
       "      <td>3116018</td>\n",
       "      <td>Barry Young</td>\n",
       "      <td>69809 Harrington Meadows Apt. 256\\nLake Courtn...</td>\n",
       "      <td>262-863-1391</td>\n",
       "      <td>Black  Show</td>\n",
       "      <td>Kids like it for games.  Showing the lyrics fo...</td>\n",
       "      <td>1</td>\n",
       "    </tr>\n",
       "    <tr>\n",
       "      <th>...</th>\n",
       "      <td>...</td>\n",
       "      <td>...</td>\n",
       "      <td>...</td>\n",
       "      <td>...</td>\n",
       "      <td>...</td>\n",
       "      <td>...</td>\n",
       "      <td>...</td>\n",
       "      <td>...</td>\n",
       "      <td>...</td>\n",
       "    </tr>\n",
       "    <tr>\n",
       "      <th>625</th>\n",
       "      <td>26-Jul-18</td>\n",
       "      <td>07:35:53</td>\n",
       "      <td>6856853</td>\n",
       "      <td>Isabel Buck</td>\n",
       "      <td>6835 Stephanie Ferry\\nPort Joshuaview, NM 29165</td>\n",
       "      <td>(427)926-2339</td>\n",
       "      <td>Black  Spot</td>\n",
       "      <td>Best thing I have ever owned! Started with the...</td>\n",
       "      <td>1</td>\n",
       "    </tr>\n",
       "    <tr>\n",
       "      <th>626</th>\n",
       "      <td>30-Jul-18</td>\n",
       "      <td>19:06:51</td>\n",
       "      <td>774782</td>\n",
       "      <td>Courtney Hall</td>\n",
       "      <td>00273 Eric Ridges Suite 412\\nNorth Rebecca, ID...</td>\n",
       "      <td>(938)979-3805</td>\n",
       "      <td>Black  Dot</td>\n",
       "      <td>I love being able to control lights, doors and...</td>\n",
       "      <td>1</td>\n",
       "    </tr>\n",
       "    <tr>\n",
       "      <th>627</th>\n",
       "      <td>30-Jul-18</td>\n",
       "      <td>14:49:59</td>\n",
       "      <td>1194506</td>\n",
       "      <td>Jason Hurley</td>\n",
       "      <td>722 Dillon Island Apt. 544\\nEast Denise, ID 65102</td>\n",
       "      <td>5998688684</td>\n",
       "      <td>Configuration: Fire TV Stick</td>\n",
       "      <td>works great</td>\n",
       "      <td>1</td>\n",
       "    </tr>\n",
       "    <tr>\n",
       "      <th>628</th>\n",
       "      <td>16-Jun-18</td>\n",
       "      <td>06:36:33</td>\n",
       "      <td>4145653</td>\n",
       "      <td>Danielle Grant DDS</td>\n",
       "      <td>4107 Valdez Lights\\nGailhaven, PA 90512</td>\n",
       "      <td>7659892488</td>\n",
       "      <td>White</td>\n",
       "      <td>Purchased for my 83 year old mother-she loves ...</td>\n",
       "      <td>1</td>\n",
       "    </tr>\n",
       "    <tr>\n",
       "      <th>629</th>\n",
       "      <td>26-Jul-18</td>\n",
       "      <td>18:08:04</td>\n",
       "      <td>7267404</td>\n",
       "      <td>Maureen Riley</td>\n",
       "      <td>2653 Proctor Extension Apt. 170\\nChadfort, CT ...</td>\n",
       "      <td>(250)932-5304</td>\n",
       "      <td>Black  Spot</td>\n",
       "      <td>Fun so far...still learning how it all works</td>\n",
       "      <td>1</td>\n",
       "    </tr>\n",
       "  </tbody>\n",
       "</table>\n",
       "<p>630 rows × 9 columns</p>\n",
       "</div>"
      ],
      "text/plain": [
       "          date      time       id       reviewer name  \\\n",
       "0    29-Jul-18  16:47:11  6074908     Russell Hensley   \n",
       "1    28-Jul-18  17:49:58  1159008         Adam Baxter   \n",
       "2    30-Jul-18  16:46:29  1759753     Sarah Contreras   \n",
       "3    29-Jul-18  19:23:32  1861422        Tim Castillo   \n",
       "4    28-Jul-18  16:15:25  3116018         Barry Young   \n",
       "..         ...       ...      ...                 ...   \n",
       "625  26-Jul-18  07:35:53  6856853         Isabel Buck   \n",
       "626  30-Jul-18  19:06:51   774782       Courtney Hall   \n",
       "627  30-Jul-18  14:49:59  1194506        Jason Hurley   \n",
       "628  16-Jun-18  06:36:33  4145653  Danielle Grant DDS   \n",
       "629  26-Jul-18  18:08:04  7267404       Maureen Riley   \n",
       "\n",
       "                                      reviewer address contact number  \\\n",
       "0    9059 Morales Run Suite 912\\nSouth Charles, MH ...     6932290613   \n",
       "1    13728 Jones Mission Apt. 526\\nSouth Tylerfurt,...   385-994-9458   \n",
       "2             7113 Pratt Plains\\nPalmermouth, IN 02370  (738)354-8387   \n",
       "3     93586 Cook Union Apt. 080\\nMorganmouth, WI 51175  (294)877-6223   \n",
       "4    69809 Harrington Meadows Apt. 256\\nLake Courtn...   262-863-1391   \n",
       "..                                                 ...            ...   \n",
       "625    6835 Stephanie Ferry\\nPort Joshuaview, NM 29165  (427)926-2339   \n",
       "626  00273 Eric Ridges Suite 412\\nNorth Rebecca, ID...  (938)979-3805   \n",
       "627  722 Dillon Island Apt. 544\\nEast Denise, ID 65102     5998688684   \n",
       "628            4107 Valdez Lights\\nGailhaven, PA 90512     7659892488   \n",
       "629  2653 Proctor Extension Apt. 170\\nChadfort, CT ...  (250)932-5304   \n",
       "\n",
       "                        variation  \\\n",
       "0            Heather Gray Fabric    \n",
       "1                     Black  Plus   \n",
       "2    Configuration: Fire TV Stick   \n",
       "3                     Black  Plus   \n",
       "4                     Black  Show   \n",
       "..                            ...   \n",
       "625                   Black  Spot   \n",
       "626                    Black  Dot   \n",
       "627  Configuration: Fire TV Stick   \n",
       "628                         White   \n",
       "629                   Black  Spot   \n",
       "\n",
       "                                      verified_reviews  feedback  \n",
       "0    I have the original Alexa and the Tap and so f...         1  \n",
       "1    Great product. More skills are needed. I love it.         1  \n",
       "2    I will never buy anything Amazon makes again!T...         0  \n",
       "3    Not perfect but very good! A few times Alexa p...         1  \n",
       "4    Kids like it for games.  Showing the lyrics fo...         1  \n",
       "..                                                 ...       ...  \n",
       "625  Best thing I have ever owned! Started with the...         1  \n",
       "626  I love being able to control lights, doors and...         1  \n",
       "627                                        works great         1  \n",
       "628  Purchased for my 83 year old mother-she loves ...         1  \n",
       "629       Fun so far...still learning how it all works         1  \n",
       "\n",
       "[630 rows x 9 columns]"
      ]
     },
     "execution_count": 3,
     "metadata": {},
     "output_type": "execute_result"
    }
   ],
   "source": [
    "test_data"
   ]
  },
  {
   "cell_type": "code",
   "execution_count": 4,
   "id": "12d2a9a9",
   "metadata": {
    "execution": {
     "iopub.execute_input": "2023-11-23T16:02:56.081126Z",
     "iopub.status.busy": "2023-11-23T16:02:56.080569Z",
     "iopub.status.idle": "2023-11-23T16:02:56.094065Z",
     "shell.execute_reply": "2023-11-23T16:02:56.092492Z"
    },
    "papermill": {
     "duration": 0.045338,
     "end_time": "2023-11-23T16:02:56.096823",
     "exception": false,
     "start_time": "2023-11-23T16:02:56.051485",
     "status": "completed"
    },
    "tags": []
   },
   "outputs": [],
   "source": [
    "train_data.drop(columns=['date', 'time', 'id', 'reviewer name', 'reviewer address', 'contact number', 'variation'], inplace=True)\n"
   ]
  },
  {
   "cell_type": "code",
   "execution_count": 5,
   "id": "c2dd7e9d",
   "metadata": {
    "execution": {
     "iopub.execute_input": "2023-11-23T16:02:56.153765Z",
     "iopub.status.busy": "2023-11-23T16:02:56.153284Z",
     "iopub.status.idle": "2023-11-23T16:02:56.162964Z",
     "shell.execute_reply": "2023-11-23T16:02:56.161455Z"
    },
    "papermill": {
     "duration": 0.041648,
     "end_time": "2023-11-23T16:02:56.166038",
     "exception": false,
     "start_time": "2023-11-23T16:02:56.124390",
     "status": "completed"
    },
    "tags": []
   },
   "outputs": [],
   "source": [
    "test_data.drop(columns=['date', 'time', 'id', 'reviewer name', 'reviewer address', 'contact number', 'variation'], inplace=True)\n",
    "\n",
    "\n",
    "test_data.verified_reviews=test_data.verified_reviews.astype(str)\n"
   ]
  },
  {
   "cell_type": "code",
   "execution_count": 6,
   "id": "f08799d2",
   "metadata": {
    "execution": {
     "iopub.execute_input": "2023-11-23T16:02:56.293949Z",
     "iopub.status.busy": "2023-11-23T16:02:56.292275Z",
     "iopub.status.idle": "2023-11-23T16:02:56.311279Z",
     "shell.execute_reply": "2023-11-23T16:02:56.309815Z"
    },
    "papermill": {
     "duration": 0.121831,
     "end_time": "2023-11-23T16:02:56.314894",
     "exception": false,
     "start_time": "2023-11-23T16:02:56.193063",
     "status": "completed"
    },
    "tags": []
   },
   "outputs": [
    {
     "data": {
      "text/html": [
       "<div>\n",
       "<style scoped>\n",
       "    .dataframe tbody tr th:only-of-type {\n",
       "        vertical-align: middle;\n",
       "    }\n",
       "\n",
       "    .dataframe tbody tr th {\n",
       "        vertical-align: top;\n",
       "    }\n",
       "\n",
       "    .dataframe thead th {\n",
       "        text-align: right;\n",
       "    }\n",
       "</style>\n",
       "<table border=\"1\" class=\"dataframe\">\n",
       "  <thead>\n",
       "    <tr style=\"text-align: right;\">\n",
       "      <th></th>\n",
       "      <th>verified_reviews</th>\n",
       "      <th>feedback</th>\n",
       "    </tr>\n",
       "  </thead>\n",
       "  <tbody>\n",
       "    <tr>\n",
       "      <th>0</th>\n",
       "      <td>I have the original Alexa and the Tap and so f...</td>\n",
       "      <td>1</td>\n",
       "    </tr>\n",
       "    <tr>\n",
       "      <th>1</th>\n",
       "      <td>Great product. More skills are needed. I love it.</td>\n",
       "      <td>1</td>\n",
       "    </tr>\n",
       "    <tr>\n",
       "      <th>2</th>\n",
       "      <td>I will never buy anything Amazon makes again!T...</td>\n",
       "      <td>0</td>\n",
       "    </tr>\n",
       "    <tr>\n",
       "      <th>3</th>\n",
       "      <td>Not perfect but very good! A few times Alexa p...</td>\n",
       "      <td>1</td>\n",
       "    </tr>\n",
       "    <tr>\n",
       "      <th>4</th>\n",
       "      <td>Kids like it for games.  Showing the lyrics fo...</td>\n",
       "      <td>1</td>\n",
       "    </tr>\n",
       "    <tr>\n",
       "      <th>...</th>\n",
       "      <td>...</td>\n",
       "      <td>...</td>\n",
       "    </tr>\n",
       "    <tr>\n",
       "      <th>625</th>\n",
       "      <td>Best thing I have ever owned! Started with the...</td>\n",
       "      <td>1</td>\n",
       "    </tr>\n",
       "    <tr>\n",
       "      <th>626</th>\n",
       "      <td>I love being able to control lights, doors and...</td>\n",
       "      <td>1</td>\n",
       "    </tr>\n",
       "    <tr>\n",
       "      <th>627</th>\n",
       "      <td>works great</td>\n",
       "      <td>1</td>\n",
       "    </tr>\n",
       "    <tr>\n",
       "      <th>628</th>\n",
       "      <td>Purchased for my 83 year old mother-she loves ...</td>\n",
       "      <td>1</td>\n",
       "    </tr>\n",
       "    <tr>\n",
       "      <th>629</th>\n",
       "      <td>Fun so far...still learning how it all works</td>\n",
       "      <td>1</td>\n",
       "    </tr>\n",
       "  </tbody>\n",
       "</table>\n",
       "<p>630 rows × 2 columns</p>\n",
       "</div>"
      ],
      "text/plain": [
       "                                      verified_reviews  feedback\n",
       "0    I have the original Alexa and the Tap and so f...         1\n",
       "1    Great product. More skills are needed. I love it.         1\n",
       "2    I will never buy anything Amazon makes again!T...         0\n",
       "3    Not perfect but very good! A few times Alexa p...         1\n",
       "4    Kids like it for games.  Showing the lyrics fo...         1\n",
       "..                                                 ...       ...\n",
       "625  Best thing I have ever owned! Started with the...         1\n",
       "626  I love being able to control lights, doors and...         1\n",
       "627                                        works great         1\n",
       "628  Purchased for my 83 year old mother-she loves ...         1\n",
       "629       Fun so far...still learning how it all works         1\n",
       "\n",
       "[630 rows x 2 columns]"
      ]
     },
     "execution_count": 6,
     "metadata": {},
     "output_type": "execute_result"
    }
   ],
   "source": [
    "test_data"
   ]
  },
  {
   "cell_type": "code",
   "execution_count": 7,
   "id": "f391d736",
   "metadata": {
    "execution": {
     "iopub.execute_input": "2023-11-23T16:02:56.384834Z",
     "iopub.status.busy": "2023-11-23T16:02:56.383678Z",
     "iopub.status.idle": "2023-11-23T16:02:56.389232Z",
     "shell.execute_reply": "2023-11-23T16:02:56.388287Z"
    },
    "papermill": {
     "duration": 0.040437,
     "end_time": "2023-11-23T16:02:56.391867",
     "exception": false,
     "start_time": "2023-11-23T16:02:56.351430",
     "status": "completed"
    },
    "tags": []
   },
   "outputs": [],
   "source": [
    "train_data.reset_index(drop=True, inplace=True)"
   ]
  },
  {
   "cell_type": "code",
   "execution_count": 8,
   "id": "20a8f725",
   "metadata": {
    "execution": {
     "iopub.execute_input": "2023-11-23T16:02:56.450651Z",
     "iopub.status.busy": "2023-11-23T16:02:56.449362Z",
     "iopub.status.idle": "2023-11-23T16:02:56.470896Z",
     "shell.execute_reply": "2023-11-23T16:02:56.469679Z"
    },
    "papermill": {
     "duration": 0.053879,
     "end_time": "2023-11-23T16:02:56.473659",
     "exception": false,
     "start_time": "2023-11-23T16:02:56.419780",
     "status": "completed"
    },
    "tags": []
   },
   "outputs": [
    {
     "data": {
      "text/html": [
       "<div>\n",
       "<style scoped>\n",
       "    .dataframe tbody tr th:only-of-type {\n",
       "        vertical-align: middle;\n",
       "    }\n",
       "\n",
       "    .dataframe tbody tr th {\n",
       "        vertical-align: top;\n",
       "    }\n",
       "\n",
       "    .dataframe thead th {\n",
       "        text-align: right;\n",
       "    }\n",
       "</style>\n",
       "<table border=\"1\" class=\"dataframe\">\n",
       "  <thead>\n",
       "    <tr style=\"text-align: right;\">\n",
       "      <th></th>\n",
       "      <th>verified_reviews</th>\n",
       "      <th>sentiment</th>\n",
       "      <th>feedback</th>\n",
       "    </tr>\n",
       "  </thead>\n",
       "  <tbody>\n",
       "    <tr>\n",
       "      <th>0</th>\n",
       "      <td>Love my new Echo Plus</td>\n",
       "      <td>5</td>\n",
       "      <td>1</td>\n",
       "    </tr>\n",
       "    <tr>\n",
       "      <th>1</th>\n",
       "      <td>Works really well.</td>\n",
       "      <td>5</td>\n",
       "      <td>1</td>\n",
       "    </tr>\n",
       "    <tr>\n",
       "      <th>2</th>\n",
       "      <td>Echo Show is said to work with certain apps bu...</td>\n",
       "      <td>2</td>\n",
       "      <td>0</td>\n",
       "    </tr>\n",
       "    <tr>\n",
       "      <th>3</th>\n",
       "      <td>Very cool product. Speaker sounds good with my...</td>\n",
       "      <td>5</td>\n",
       "      <td>1</td>\n",
       "    </tr>\n",
       "    <tr>\n",
       "      <th>4</th>\n",
       "      <td>So far I love it.  It was easy to set up - if ...</td>\n",
       "      <td>5</td>\n",
       "      <td>1</td>\n",
       "    </tr>\n",
       "    <tr>\n",
       "      <th>...</th>\n",
       "      <td>...</td>\n",
       "      <td>...</td>\n",
       "      <td>...</td>\n",
       "    </tr>\n",
       "    <tr>\n",
       "      <th>2515</th>\n",
       "      <td>Bought this for my son and it didn’t work. He ...</td>\n",
       "      <td>1</td>\n",
       "      <td>0</td>\n",
       "    </tr>\n",
       "    <tr>\n",
       "      <th>2516</th>\n",
       "      <td>Alexa is phenomenal!</td>\n",
       "      <td>5</td>\n",
       "      <td>1</td>\n",
       "    </tr>\n",
       "    <tr>\n",
       "      <th>2517</th>\n",
       "      <td>The sound is amazing and many collections of a...</td>\n",
       "      <td>5</td>\n",
       "      <td>1</td>\n",
       "    </tr>\n",
       "    <tr>\n",
       "      <th>2518</th>\n",
       "      <td>Love how it shows the song info on the screen ...</td>\n",
       "      <td>5</td>\n",
       "      <td>1</td>\n",
       "    </tr>\n",
       "    <tr>\n",
       "      <th>2519</th>\n",
       "      <td>It works just like my other Dots.</td>\n",
       "      <td>5</td>\n",
       "      <td>1</td>\n",
       "    </tr>\n",
       "  </tbody>\n",
       "</table>\n",
       "<p>2520 rows × 3 columns</p>\n",
       "</div>"
      ],
      "text/plain": [
       "                                       verified_reviews  sentiment  feedback\n",
       "0                                 Love my new Echo Plus          5         1\n",
       "1                                    Works really well.          5         1\n",
       "2     Echo Show is said to work with certain apps bu...          2         0\n",
       "3     Very cool product. Speaker sounds good with my...          5         1\n",
       "4     So far I love it.  It was easy to set up - if ...          5         1\n",
       "...                                                 ...        ...       ...\n",
       "2515  Bought this for my son and it didn’t work. He ...          1         0\n",
       "2516                               Alexa is phenomenal!          5         1\n",
       "2517  The sound is amazing and many collections of a...          5         1\n",
       "2518  Love how it shows the song info on the screen ...          5         1\n",
       "2519                  It works just like my other Dots.          5         1\n",
       "\n",
       "[2520 rows x 3 columns]"
      ]
     },
     "execution_count": 8,
     "metadata": {},
     "output_type": "execute_result"
    }
   ],
   "source": [
    "train_data"
   ]
  },
  {
   "cell_type": "code",
   "execution_count": 9,
   "id": "d6703dc2",
   "metadata": {
    "execution": {
     "iopub.execute_input": "2023-11-23T16:02:56.555471Z",
     "iopub.status.busy": "2023-11-23T16:02:56.554878Z",
     "iopub.status.idle": "2023-11-23T16:02:58.350746Z",
     "shell.execute_reply": "2023-11-23T16:02:58.349073Z"
    },
    "papermill": {
     "duration": 1.837921,
     "end_time": "2023-11-23T16:02:58.354691",
     "exception": false,
     "start_time": "2023-11-23T16:02:56.516770",
     "status": "completed"
    },
    "tags": []
   },
   "outputs": [],
   "source": [
    "#importing required libraries\n",
    "import os\n",
    "import pandas as pd\n",
    "import re\n",
    "import string\n",
    "import pickle\n",
    "\n",
    "from sklearn.model_selection import train_test_split\n",
    "from sklearn.feature_extraction.text import TfidfVectorizer\n",
    "from sklearn.linear_model import LogisticRegression\n",
    "from sklearn.pipeline import Pipeline\n",
    "from sklearn.metrics import confusion_matrix\n",
    "from sklearn.metrics import accuracy_score, precision_score, recall_score"
   ]
  },
  {
   "cell_type": "code",
   "execution_count": 10,
   "id": "1f7125e9",
   "metadata": {
    "execution": {
     "iopub.execute_input": "2023-11-23T16:02:58.416354Z",
     "iopub.status.busy": "2023-11-23T16:02:58.415433Z",
     "iopub.status.idle": "2023-11-23T16:02:58.419969Z",
     "shell.execute_reply": "2023-11-23T16:02:58.419153Z"
    },
    "papermill": {
     "duration": 0.037235,
     "end_time": "2023-11-23T16:02:58.422515",
     "exception": false,
     "start_time": "2023-11-23T16:02:58.385280",
     "status": "completed"
    },
    "tags": []
   },
   "outputs": [],
   "source": [
    "import warnings\n",
    "warnings.filterwarnings('ignore')"
   ]
  },
  {
   "cell_type": "code",
   "execution_count": 11,
   "id": "99498583",
   "metadata": {
    "execution": {
     "iopub.execute_input": "2023-11-23T16:02:58.483747Z",
     "iopub.status.busy": "2023-11-23T16:02:58.483099Z",
     "iopub.status.idle": "2023-11-23T16:02:58.490674Z",
     "shell.execute_reply": "2023-11-23T16:02:58.489165Z"
    },
    "papermill": {
     "duration": 0.043023,
     "end_time": "2023-11-23T16:02:58.494057",
     "exception": false,
     "start_time": "2023-11-23T16:02:58.451034",
     "status": "completed"
    },
    "tags": []
   },
   "outputs": [],
   "source": [
    "def text_clean(text):\n",
    "    text=text.lower()\n",
    "    rext=re.sub('\\[.*?\\]','',text)\n",
    "    text=re.sub('[%s]'%re.escape(string.punctuation),'',text)\n",
    "    text=re.sub('\\w*\\d\\w\\*','',text)\n",
    "    return text\n",
    "\n",
    "def text_clean2(text):\n",
    "    text=re.sub('\\n','',text)\n",
    "    return text"
   ]
  },
  {
   "cell_type": "code",
   "execution_count": 12,
   "id": "e7006932",
   "metadata": {
    "execution": {
     "iopub.execute_input": "2023-11-23T16:02:58.557965Z",
     "iopub.status.busy": "2023-11-23T16:02:58.557192Z",
     "iopub.status.idle": "2023-11-23T16:02:58.563556Z",
     "shell.execute_reply": "2023-11-23T16:02:58.562491Z"
    },
    "papermill": {
     "duration": 0.041344,
     "end_time": "2023-11-23T16:02:58.566271",
     "exception": false,
     "start_time": "2023-11-23T16:02:58.524927",
     "status": "completed"
    },
    "tags": []
   },
   "outputs": [],
   "source": [
    "cleaned=lambda x:text_clean(x)"
   ]
  },
  {
   "cell_type": "code",
   "execution_count": 13,
   "id": "784e8f7a",
   "metadata": {
    "execution": {
     "iopub.execute_input": "2023-11-23T16:02:58.630026Z",
     "iopub.status.busy": "2023-11-23T16:02:58.629136Z",
     "iopub.status.idle": "2023-11-23T16:02:58.654211Z",
     "shell.execute_reply": "2023-11-23T16:02:58.652936Z"
    },
    "papermill": {
     "duration": 0.059828,
     "end_time": "2023-11-23T16:02:58.657373",
     "exception": false,
     "start_time": "2023-11-23T16:02:58.597545",
     "status": "completed"
    },
    "tags": []
   },
   "outputs": [
    {
     "name": "stdout",
     "output_type": "stream",
     "text": [
      "<class 'pandas.core.frame.DataFrame'>\n",
      "RangeIndex: 2520 entries, 0 to 2519\n",
      "Data columns (total 3 columns):\n",
      " #   Column            Non-Null Count  Dtype \n",
      "---  ------            --------------  ----- \n",
      " 0   verified_reviews  2519 non-null   object\n",
      " 1   sentiment         2520 non-null   int64 \n",
      " 2   feedback          2520 non-null   int64 \n",
      "dtypes: int64(2), object(1)\n",
      "memory usage: 59.2+ KB\n"
     ]
    }
   ],
   "source": [
    "train_data.info()"
   ]
  },
  {
   "cell_type": "code",
   "execution_count": 14,
   "id": "f8901272",
   "metadata": {
    "execution": {
     "iopub.execute_input": "2023-11-23T16:02:58.718777Z",
     "iopub.status.busy": "2023-11-23T16:02:58.718300Z",
     "iopub.status.idle": "2023-11-23T16:02:58.847360Z",
     "shell.execute_reply": "2023-11-23T16:02:58.845870Z"
    },
    "papermill": {
     "duration": 0.163521,
     "end_time": "2023-11-23T16:02:58.851061",
     "exception": false,
     "start_time": "2023-11-23T16:02:58.687540",
     "status": "completed"
    },
    "tags": []
   },
   "outputs": [],
   "source": [
    "train_data.verified_reviews=train_data.verified_reviews.astype(str)\n",
    "\n",
    "train_data['cleaned_desc']=pd.DataFrame(train_data.verified_reviews.apply(cleaned))\n"
   ]
  },
  {
   "cell_type": "code",
   "execution_count": 15,
   "id": "6dff2995",
   "metadata": {
    "execution": {
     "iopub.execute_input": "2023-11-23T16:02:58.913949Z",
     "iopub.status.busy": "2023-11-23T16:02:58.913249Z",
     "iopub.status.idle": "2023-11-23T16:02:58.929279Z",
     "shell.execute_reply": "2023-11-23T16:02:58.927623Z"
    },
    "papermill": {
     "duration": 0.051076,
     "end_time": "2023-11-23T16:02:58.932111",
     "exception": false,
     "start_time": "2023-11-23T16:02:58.881035",
     "status": "completed"
    },
    "tags": []
   },
   "outputs": [],
   "source": [
    "cleaned2=lambda x:text_clean2(x)\n",
    "\n",
    "train_data['Reviews']=pd.DataFrame(train_data['cleaned_desc'].apply(cleaned2))"
   ]
  },
  {
   "cell_type": "code",
   "execution_count": 16,
   "id": "64817658",
   "metadata": {
    "execution": {
     "iopub.execute_input": "2023-11-23T16:02:58.996704Z",
     "iopub.status.busy": "2023-11-23T16:02:58.995563Z",
     "iopub.status.idle": "2023-11-23T16:02:59.037780Z",
     "shell.execute_reply": "2023-11-23T16:02:59.036104Z"
    },
    "papermill": {
     "duration": 0.077244,
     "end_time": "2023-11-23T16:02:59.041212",
     "exception": false,
     "start_time": "2023-11-23T16:02:58.963968",
     "status": "completed"
    },
    "tags": []
   },
   "outputs": [],
   "source": [
    "test_data['cleaned_desc']=pd.DataFrame(test_data.verified_reviews.apply(cleaned))\n",
    "\n",
    "test_data['Reviews']=pd.DataFrame(test_data['cleaned_desc'].apply(cleaned2))"
   ]
  },
  {
   "cell_type": "code",
   "execution_count": null,
   "id": "153f78a3",
   "metadata": {
    "papermill": {
     "duration": 0.031702,
     "end_time": "2023-11-23T16:02:59.102940",
     "exception": false,
     "start_time": "2023-11-23T16:02:59.071238",
     "status": "completed"
    },
    "tags": []
   },
   "outputs": [],
   "source": []
  },
  {
   "cell_type": "code",
   "execution_count": 17,
   "id": "9fc10fa1",
   "metadata": {
    "execution": {
     "iopub.execute_input": "2023-11-23T16:02:59.166216Z",
     "iopub.status.busy": "2023-11-23T16:02:59.165672Z",
     "iopub.status.idle": "2023-11-23T16:02:59.174938Z",
     "shell.execute_reply": "2023-11-23T16:02:59.173957Z"
    },
    "papermill": {
     "duration": 0.044299,
     "end_time": "2023-11-23T16:02:59.177712",
     "exception": false,
     "start_time": "2023-11-23T16:02:59.133413",
     "status": "completed"
    },
    "tags": []
   },
   "outputs": [],
   "source": [
    "indep = train_data.Reviews\n",
    "dep = train_data.sentiment\n",
    "\n",
    "X_train, X_test, Y_train, Y_test = train_test_split(indep, dep, test_size=0.1, random_state=225)\n"
   ]
  },
  {
   "cell_type": "code",
   "execution_count": null,
   "id": "a7559efb",
   "metadata": {
    "papermill": {
     "duration": 0.032099,
     "end_time": "2023-11-23T16:02:59.239865",
     "exception": false,
     "start_time": "2023-11-23T16:02:59.207766",
     "status": "completed"
    },
    "tags": []
   },
   "outputs": [],
   "source": []
  },
  {
   "cell_type": "code",
   "execution_count": 18,
   "id": "399dea12",
   "metadata": {
    "execution": {
     "iopub.execute_input": "2023-11-23T16:02:59.303364Z",
     "iopub.status.busy": "2023-11-23T16:02:59.302876Z",
     "iopub.status.idle": "2023-11-23T16:02:59.426874Z",
     "shell.execute_reply": "2023-11-23T16:02:59.425317Z"
    },
    "papermill": {
     "duration": 0.158494,
     "end_time": "2023-11-23T16:02:59.430234",
     "exception": false,
     "start_time": "2023-11-23T16:02:59.271740",
     "status": "completed"
    },
    "tags": []
   },
   "outputs": [],
   "source": [
    "import pandas as pd\n",
    "import pickle\n",
    "import sys\n",
    "from sklearn.model_selection import train_test_split\n",
    "from sklearn.linear_model import LinearRegression\n",
    "from sklearn.tree import DecisionTreeRegressor\n",
    "from sklearn.svm import SVR\n",
    "from sklearn import linear_model\n",
    "\n",
    "\n",
    "y = train_data.sentiment\n",
    "X = train_data\n",
    "X.drop(columns = ['sentiment'], inplace = True)"
   ]
  },
  {
   "cell_type": "code",
   "execution_count": 19,
   "id": "b3215ce4",
   "metadata": {
    "execution": {
     "iopub.execute_input": "2023-11-23T16:02:59.490272Z",
     "iopub.status.busy": "2023-11-23T16:02:59.489809Z",
     "iopub.status.idle": "2023-11-23T16:02:59.495569Z",
     "shell.execute_reply": "2023-11-23T16:02:59.494398Z"
    },
    "papermill": {
     "duration": 0.039644,
     "end_time": "2023-11-23T16:02:59.498513",
     "exception": false,
     "start_time": "2023-11-23T16:02:59.458869",
     "status": "completed"
    },
    "tags": []
   },
   "outputs": [],
   "source": [
    "Test = test_data\n"
   ]
  },
  {
   "cell_type": "code",
   "execution_count": 20,
   "id": "c40660a8",
   "metadata": {
    "execution": {
     "iopub.execute_input": "2023-11-23T16:02:59.561083Z",
     "iopub.status.busy": "2023-11-23T16:02:59.560620Z",
     "iopub.status.idle": "2023-11-23T16:02:59.570718Z",
     "shell.execute_reply": "2023-11-23T16:02:59.569335Z"
    },
    "papermill": {
     "duration": 0.045408,
     "end_time": "2023-11-23T16:02:59.573900",
     "exception": false,
     "start_time": "2023-11-23T16:02:59.528492",
     "status": "completed"
    },
    "tags": []
   },
   "outputs": [],
   "source": [
    "X.drop(columns=['verified_reviews', 'cleaned_desc'], inplace=True)\n",
    "Test.drop(columns=['verified_reviews', 'cleaned_desc'], inplace=True)\n"
   ]
  },
  {
   "cell_type": "code",
   "execution_count": 21,
   "id": "f7682ecf",
   "metadata": {
    "execution": {
     "iopub.execute_input": "2023-11-23T16:02:59.639072Z",
     "iopub.status.busy": "2023-11-23T16:02:59.638620Z",
     "iopub.status.idle": "2023-11-23T16:02:59.652973Z",
     "shell.execute_reply": "2023-11-23T16:02:59.651747Z"
    },
    "papermill": {
     "duration": 0.049751,
     "end_time": "2023-11-23T16:02:59.655754",
     "exception": false,
     "start_time": "2023-11-23T16:02:59.606003",
     "status": "completed"
    },
    "tags": []
   },
   "outputs": [
    {
     "data": {
      "text/html": [
       "<div>\n",
       "<style scoped>\n",
       "    .dataframe tbody tr th:only-of-type {\n",
       "        vertical-align: middle;\n",
       "    }\n",
       "\n",
       "    .dataframe tbody tr th {\n",
       "        vertical-align: top;\n",
       "    }\n",
       "\n",
       "    .dataframe thead th {\n",
       "        text-align: right;\n",
       "    }\n",
       "</style>\n",
       "<table border=\"1\" class=\"dataframe\">\n",
       "  <thead>\n",
       "    <tr style=\"text-align: right;\">\n",
       "      <th></th>\n",
       "      <th>feedback</th>\n",
       "      <th>Reviews</th>\n",
       "    </tr>\n",
       "  </thead>\n",
       "  <tbody>\n",
       "    <tr>\n",
       "      <th>0</th>\n",
       "      <td>1</td>\n",
       "      <td>i have the original alexa and the tap and so f...</td>\n",
       "    </tr>\n",
       "    <tr>\n",
       "      <th>1</th>\n",
       "      <td>1</td>\n",
       "      <td>great product more skills are needed i love it</td>\n",
       "    </tr>\n",
       "    <tr>\n",
       "      <th>2</th>\n",
       "      <td>0</td>\n",
       "      <td>i will never buy anything amazon makes againth...</td>\n",
       "    </tr>\n",
       "    <tr>\n",
       "      <th>3</th>\n",
       "      <td>1</td>\n",
       "      <td>not perfect but very good a few times alexa pi...</td>\n",
       "    </tr>\n",
       "    <tr>\n",
       "      <th>4</th>\n",
       "      <td>1</td>\n",
       "      <td>kids like it for games  showing the lyrics for...</td>\n",
       "    </tr>\n",
       "    <tr>\n",
       "      <th>...</th>\n",
       "      <td>...</td>\n",
       "      <td>...</td>\n",
       "    </tr>\n",
       "    <tr>\n",
       "      <th>625</th>\n",
       "      <td>1</td>\n",
       "      <td>best thing i have ever owned started with the ...</td>\n",
       "    </tr>\n",
       "    <tr>\n",
       "      <th>626</th>\n",
       "      <td>1</td>\n",
       "      <td>i love being able to control lights doors and ...</td>\n",
       "    </tr>\n",
       "    <tr>\n",
       "      <th>627</th>\n",
       "      <td>1</td>\n",
       "      <td>works great</td>\n",
       "    </tr>\n",
       "    <tr>\n",
       "      <th>628</th>\n",
       "      <td>1</td>\n",
       "      <td>purchased for my 83 year old mothershe loves t...</td>\n",
       "    </tr>\n",
       "    <tr>\n",
       "      <th>629</th>\n",
       "      <td>1</td>\n",
       "      <td>fun so farstill learning how it all works</td>\n",
       "    </tr>\n",
       "  </tbody>\n",
       "</table>\n",
       "<p>630 rows × 2 columns</p>\n",
       "</div>"
      ],
      "text/plain": [
       "     feedback                                            Reviews\n",
       "0           1  i have the original alexa and the tap and so f...\n",
       "1           1     great product more skills are needed i love it\n",
       "2           0  i will never buy anything amazon makes againth...\n",
       "3           1  not perfect but very good a few times alexa pi...\n",
       "4           1  kids like it for games  showing the lyrics for...\n",
       "..        ...                                                ...\n",
       "625         1  best thing i have ever owned started with the ...\n",
       "626         1  i love being able to control lights doors and ...\n",
       "627         1                                        works great\n",
       "628         1  purchased for my 83 year old mothershe loves t...\n",
       "629         1          fun so farstill learning how it all works\n",
       "\n",
       "[630 rows x 2 columns]"
      ]
     },
     "execution_count": 21,
     "metadata": {},
     "output_type": "execute_result"
    }
   ],
   "source": [
    "# Test.drop(columns=['cleaned_new'], inplace=True)\n",
    "Test"
   ]
  },
  {
   "cell_type": "code",
   "execution_count": 22,
   "id": "9ac689d7",
   "metadata": {
    "execution": {
     "iopub.execute_input": "2023-11-23T16:02:59.716291Z",
     "iopub.status.busy": "2023-11-23T16:02:59.715815Z",
     "iopub.status.idle": "2023-11-23T16:02:59.728952Z",
     "shell.execute_reply": "2023-11-23T16:02:59.727905Z"
    },
    "papermill": {
     "duration": 0.047244,
     "end_time": "2023-11-23T16:02:59.731882",
     "exception": false,
     "start_time": "2023-11-23T16:02:59.684638",
     "status": "completed"
    },
    "tags": []
   },
   "outputs": [],
   "source": [
    "#for test\n",
    "one_hot_encoded_training_test = pd.get_dummies(Test)"
   ]
  },
  {
   "cell_type": "code",
   "execution_count": 23,
   "id": "9a8d63b3",
   "metadata": {
    "execution": {
     "iopub.execute_input": "2023-11-23T16:02:59.796178Z",
     "iopub.status.busy": "2023-11-23T16:02:59.795350Z",
     "iopub.status.idle": "2023-11-23T16:02:59.850183Z",
     "shell.execute_reply": "2023-11-23T16:02:59.849178Z"
    },
    "papermill": {
     "duration": 0.090105,
     "end_time": "2023-11-23T16:02:59.853147",
     "exception": false,
     "start_time": "2023-11-23T16:02:59.763042",
     "status": "completed"
    },
    "tags": []
   },
   "outputs": [],
   "source": [
    "one_hot_encoded_training_predictors = pd.get_dummies(X)\n"
   ]
  },
  {
   "cell_type": "code",
   "execution_count": 24,
   "id": "2fcac7cd",
   "metadata": {
    "execution": {
     "iopub.execute_input": "2023-11-23T16:02:59.914474Z",
     "iopub.status.busy": "2023-11-23T16:02:59.913615Z",
     "iopub.status.idle": "2023-11-23T16:02:59.948655Z",
     "shell.execute_reply": "2023-11-23T16:02:59.947006Z"
    },
    "papermill": {
     "duration": 0.071953,
     "end_time": "2023-11-23T16:02:59.954720",
     "exception": false,
     "start_time": "2023-11-23T16:02:59.882767",
     "status": "completed"
    },
    "tags": []
   },
   "outputs": [
    {
     "data": {
      "text/html": [
       "<div>\n",
       "<style scoped>\n",
       "    .dataframe tbody tr th:only-of-type {\n",
       "        vertical-align: middle;\n",
       "    }\n",
       "\n",
       "    .dataframe tbody tr th {\n",
       "        vertical-align: top;\n",
       "    }\n",
       "\n",
       "    .dataframe thead th {\n",
       "        text-align: right;\n",
       "    }\n",
       "</style>\n",
       "<table border=\"1\" class=\"dataframe\">\n",
       "  <thead>\n",
       "    <tr style=\"text-align: right;\">\n",
       "      <th></th>\n",
       "      <th>feedback</th>\n",
       "      <th>Reviews_</th>\n",
       "      <th>Reviews_4 out of 5 stars i have the original tall echo 4 dots 2 spots and 1 show  the only thing im finding a problem with is the speakers in the spot when using drop in  sometimes im not being heard on the other spot and vice versa  the voices tends break up or the sound coming through is intermittent the optical is fine its just the sound sometimes ill have to repeat the wake word 23 times and im only 8 feet away plus its on one of those 20 stands  i find the echo dot original echo and the show has much better sound quality  thats one reason i bought the echo show</th>\n",
       "      <th>Reviews_45 out of 5 stars i generally like this product its great at doing what you ask of it like playing music setting timers and making calls reason why i didnt rate it 5 out of 5 is that sometimes the connection dies and my echo stops playing music and shows a red ring seems to be a connection issue overall great product</th>\n",
       "      <th>Reviews_a great product  i would buy another</th>\n",
       "      <th>Reviews_absolutely love it after much persuasion from a friend i finally gave in and bought one lets just say that the moment alexa enters my life i turn around and tell siri to get the hell out</th>\n",
       "      <th>Reviews_access to apps</th>\n",
       "      <th>Reviews_after purchasing my echo spot to add to our other 4 amazon echoesi am very pleased with the echo spoti use  it with our arlo security cameras and ring video doorbell and works without any problems</th>\n",
       "      <th>Reviews_alexa is a decent speaker if thats all you need she is terrible at most other things she consistently answers questions that were not asked or says 34hmmm i dont know that34 for everything else weve gone back to just using our phones because she cant really look anything up pretty much everyone makes fun of me for spending money on this when i had an awesome bose bluetooth already i bought her because my mother who lives alone uses hers a lot and is happy with it but we have a full house with kids and im less than impressed id never recommend it to anyone except for senior citizens who love alone and need to be able to shout out for help in the event of a fall</th>\n",
       "      <th>Reviews_alexa is awesome the first day i got my echo plus i found out things that she can do that i didn’t think were even possible i highly recommend this product along with all the accessories</th>\n",
       "      <th>...</th>\n",
       "      <th>Reviews_works perfect</th>\n",
       "      <th>Reviews_works perfect no wear and tear on the device i love alexa working on making my home smart 😂</th>\n",
       "      <th>Reviews_works perfectly</th>\n",
       "      <th>Reviews_works well pictures awesome sound could be better must be on the same bandwidth as other alexa devices for whole home music 24ghz vs 5ghz</th>\n",
       "      <th>Reviews_works well with optional cameras  conferencing is good  still feel like bezos is spying on me</th>\n",
       "      <th>Reviews_yet another exho for our home and love them all</th>\n",
       "      <th>Reviews_you could not tell this was refurbished works excellent i would highly recommended instead of purchasing new</th>\n",
       "      <th>Reviews_you need a harvard law degree to operate this thing its going back very soon</th>\n",
       "      <th>Reviews_you’re all i needna na nana</th>\n",
       "      <th>Reviews_😄😄</th>\n",
       "    </tr>\n",
       "  </thead>\n",
       "  <tbody>\n",
       "    <tr>\n",
       "      <th>0</th>\n",
       "      <td>1</td>\n",
       "      <td>False</td>\n",
       "      <td>False</td>\n",
       "      <td>False</td>\n",
       "      <td>False</td>\n",
       "      <td>False</td>\n",
       "      <td>False</td>\n",
       "      <td>False</td>\n",
       "      <td>False</td>\n",
       "      <td>False</td>\n",
       "      <td>...</td>\n",
       "      <td>False</td>\n",
       "      <td>False</td>\n",
       "      <td>False</td>\n",
       "      <td>False</td>\n",
       "      <td>False</td>\n",
       "      <td>False</td>\n",
       "      <td>False</td>\n",
       "      <td>False</td>\n",
       "      <td>False</td>\n",
       "      <td>False</td>\n",
       "    </tr>\n",
       "    <tr>\n",
       "      <th>1</th>\n",
       "      <td>1</td>\n",
       "      <td>False</td>\n",
       "      <td>False</td>\n",
       "      <td>False</td>\n",
       "      <td>False</td>\n",
       "      <td>False</td>\n",
       "      <td>False</td>\n",
       "      <td>False</td>\n",
       "      <td>False</td>\n",
       "      <td>False</td>\n",
       "      <td>...</td>\n",
       "      <td>False</td>\n",
       "      <td>False</td>\n",
       "      <td>False</td>\n",
       "      <td>False</td>\n",
       "      <td>False</td>\n",
       "      <td>False</td>\n",
       "      <td>False</td>\n",
       "      <td>False</td>\n",
       "      <td>False</td>\n",
       "      <td>False</td>\n",
       "    </tr>\n",
       "    <tr>\n",
       "      <th>2</th>\n",
       "      <td>0</td>\n",
       "      <td>False</td>\n",
       "      <td>False</td>\n",
       "      <td>False</td>\n",
       "      <td>False</td>\n",
       "      <td>False</td>\n",
       "      <td>False</td>\n",
       "      <td>False</td>\n",
       "      <td>False</td>\n",
       "      <td>False</td>\n",
       "      <td>...</td>\n",
       "      <td>False</td>\n",
       "      <td>False</td>\n",
       "      <td>False</td>\n",
       "      <td>False</td>\n",
       "      <td>False</td>\n",
       "      <td>False</td>\n",
       "      <td>False</td>\n",
       "      <td>False</td>\n",
       "      <td>False</td>\n",
       "      <td>False</td>\n",
       "    </tr>\n",
       "    <tr>\n",
       "      <th>3</th>\n",
       "      <td>1</td>\n",
       "      <td>False</td>\n",
       "      <td>False</td>\n",
       "      <td>False</td>\n",
       "      <td>False</td>\n",
       "      <td>False</td>\n",
       "      <td>False</td>\n",
       "      <td>False</td>\n",
       "      <td>False</td>\n",
       "      <td>False</td>\n",
       "      <td>...</td>\n",
       "      <td>False</td>\n",
       "      <td>False</td>\n",
       "      <td>False</td>\n",
       "      <td>False</td>\n",
       "      <td>False</td>\n",
       "      <td>False</td>\n",
       "      <td>False</td>\n",
       "      <td>False</td>\n",
       "      <td>False</td>\n",
       "      <td>False</td>\n",
       "    </tr>\n",
       "    <tr>\n",
       "      <th>4</th>\n",
       "      <td>1</td>\n",
       "      <td>False</td>\n",
       "      <td>False</td>\n",
       "      <td>False</td>\n",
       "      <td>False</td>\n",
       "      <td>False</td>\n",
       "      <td>False</td>\n",
       "      <td>False</td>\n",
       "      <td>False</td>\n",
       "      <td>False</td>\n",
       "      <td>...</td>\n",
       "      <td>False</td>\n",
       "      <td>False</td>\n",
       "      <td>False</td>\n",
       "      <td>False</td>\n",
       "      <td>False</td>\n",
       "      <td>False</td>\n",
       "      <td>False</td>\n",
       "      <td>False</td>\n",
       "      <td>False</td>\n",
       "      <td>False</td>\n",
       "    </tr>\n",
       "    <tr>\n",
       "      <th>...</th>\n",
       "      <td>...</td>\n",
       "      <td>...</td>\n",
       "      <td>...</td>\n",
       "      <td>...</td>\n",
       "      <td>...</td>\n",
       "      <td>...</td>\n",
       "      <td>...</td>\n",
       "      <td>...</td>\n",
       "      <td>...</td>\n",
       "      <td>...</td>\n",
       "      <td>...</td>\n",
       "      <td>...</td>\n",
       "      <td>...</td>\n",
       "      <td>...</td>\n",
       "      <td>...</td>\n",
       "      <td>...</td>\n",
       "      <td>...</td>\n",
       "      <td>...</td>\n",
       "      <td>...</td>\n",
       "      <td>...</td>\n",
       "      <td>...</td>\n",
       "    </tr>\n",
       "    <tr>\n",
       "      <th>625</th>\n",
       "      <td>1</td>\n",
       "      <td>False</td>\n",
       "      <td>False</td>\n",
       "      <td>False</td>\n",
       "      <td>False</td>\n",
       "      <td>False</td>\n",
       "      <td>False</td>\n",
       "      <td>False</td>\n",
       "      <td>False</td>\n",
       "      <td>False</td>\n",
       "      <td>...</td>\n",
       "      <td>False</td>\n",
       "      <td>False</td>\n",
       "      <td>False</td>\n",
       "      <td>False</td>\n",
       "      <td>False</td>\n",
       "      <td>False</td>\n",
       "      <td>False</td>\n",
       "      <td>False</td>\n",
       "      <td>False</td>\n",
       "      <td>False</td>\n",
       "    </tr>\n",
       "    <tr>\n",
       "      <th>626</th>\n",
       "      <td>1</td>\n",
       "      <td>False</td>\n",
       "      <td>False</td>\n",
       "      <td>False</td>\n",
       "      <td>False</td>\n",
       "      <td>False</td>\n",
       "      <td>False</td>\n",
       "      <td>False</td>\n",
       "      <td>False</td>\n",
       "      <td>False</td>\n",
       "      <td>...</td>\n",
       "      <td>False</td>\n",
       "      <td>False</td>\n",
       "      <td>False</td>\n",
       "      <td>False</td>\n",
       "      <td>False</td>\n",
       "      <td>False</td>\n",
       "      <td>False</td>\n",
       "      <td>False</td>\n",
       "      <td>False</td>\n",
       "      <td>False</td>\n",
       "    </tr>\n",
       "    <tr>\n",
       "      <th>627</th>\n",
       "      <td>1</td>\n",
       "      <td>False</td>\n",
       "      <td>False</td>\n",
       "      <td>False</td>\n",
       "      <td>False</td>\n",
       "      <td>False</td>\n",
       "      <td>False</td>\n",
       "      <td>False</td>\n",
       "      <td>False</td>\n",
       "      <td>False</td>\n",
       "      <td>...</td>\n",
       "      <td>False</td>\n",
       "      <td>False</td>\n",
       "      <td>False</td>\n",
       "      <td>False</td>\n",
       "      <td>False</td>\n",
       "      <td>False</td>\n",
       "      <td>False</td>\n",
       "      <td>False</td>\n",
       "      <td>False</td>\n",
       "      <td>False</td>\n",
       "    </tr>\n",
       "    <tr>\n",
       "      <th>628</th>\n",
       "      <td>1</td>\n",
       "      <td>False</td>\n",
       "      <td>False</td>\n",
       "      <td>False</td>\n",
       "      <td>False</td>\n",
       "      <td>False</td>\n",
       "      <td>False</td>\n",
       "      <td>False</td>\n",
       "      <td>False</td>\n",
       "      <td>False</td>\n",
       "      <td>...</td>\n",
       "      <td>False</td>\n",
       "      <td>False</td>\n",
       "      <td>False</td>\n",
       "      <td>False</td>\n",
       "      <td>False</td>\n",
       "      <td>False</td>\n",
       "      <td>False</td>\n",
       "      <td>False</td>\n",
       "      <td>False</td>\n",
       "      <td>False</td>\n",
       "    </tr>\n",
       "    <tr>\n",
       "      <th>629</th>\n",
       "      <td>1</td>\n",
       "      <td>False</td>\n",
       "      <td>False</td>\n",
       "      <td>False</td>\n",
       "      <td>False</td>\n",
       "      <td>False</td>\n",
       "      <td>False</td>\n",
       "      <td>False</td>\n",
       "      <td>False</td>\n",
       "      <td>False</td>\n",
       "      <td>...</td>\n",
       "      <td>False</td>\n",
       "      <td>False</td>\n",
       "      <td>False</td>\n",
       "      <td>False</td>\n",
       "      <td>False</td>\n",
       "      <td>False</td>\n",
       "      <td>False</td>\n",
       "      <td>False</td>\n",
       "      <td>False</td>\n",
       "      <td>False</td>\n",
       "    </tr>\n",
       "  </tbody>\n",
       "</table>\n",
       "<p>630 rows × 565 columns</p>\n",
       "</div>"
      ],
      "text/plain": [
       "     feedback  Reviews_   \\\n",
       "0           1      False   \n",
       "1           1      False   \n",
       "2           0      False   \n",
       "3           1      False   \n",
       "4           1      False   \n",
       "..        ...        ...   \n",
       "625         1      False   \n",
       "626         1      False   \n",
       "627         1      False   \n",
       "628         1      False   \n",
       "629         1      False   \n",
       "\n",
       "     Reviews_4 out of 5 stars i have the original tall echo 4 dots 2 spots and 1 show  the only thing im finding a problem with is the speakers in the spot when using drop in  sometimes im not being heard on the other spot and vice versa  the voices tends break up or the sound coming through is intermittent the optical is fine its just the sound sometimes ill have to repeat the wake word 23 times and im only 8 feet away plus its on one of those 20 stands  i find the echo dot original echo and the show has much better sound quality  thats one reason i bought the echo show  \\\n",
       "0                                                False                                                                                                                                                                                                                                                                                                                                                                                                                                                                                                                                              \n",
       "1                                                False                                                                                                                                                                                                                                                                                                                                                                                                                                                                                                                                              \n",
       "2                                                False                                                                                                                                                                                                                                                                                                                                                                                                                                                                                                                                              \n",
       "3                                                False                                                                                                                                                                                                                                                                                                                                                                                                                                                                                                                                              \n",
       "4                                                False                                                                                                                                                                                                                                                                                                                                                                                                                                                                                                                                              \n",
       "..                                                 ...                                                                                                                                                                                                                                                                                                                                                                                                                                                                                                                                              \n",
       "625                                              False                                                                                                                                                                                                                                                                                                                                                                                                                                                                                                                                              \n",
       "626                                              False                                                                                                                                                                                                                                                                                                                                                                                                                                                                                                                                              \n",
       "627                                              False                                                                                                                                                                                                                                                                                                                                                                                                                                                                                                                                              \n",
       "628                                              False                                                                                                                                                                                                                                                                                                                                                                                                                                                                                                                                              \n",
       "629                                              False                                                                                                                                                                                                                                                                                                                                                                                                                                                                                                                                              \n",
       "\n",
       "     Reviews_45 out of 5 stars i generally like this product its great at doing what you ask of it like playing music setting timers and making calls reason why i didnt rate it 5 out of 5 is that sometimes the connection dies and my echo stops playing music and shows a red ring seems to be a connection issue overall great product  \\\n",
       "0                                                False                                                                                                                                                                                                                                                                                        \n",
       "1                                                False                                                                                                                                                                                                                                                                                        \n",
       "2                                                False                                                                                                                                                                                                                                                                                        \n",
       "3                                                False                                                                                                                                                                                                                                                                                        \n",
       "4                                                False                                                                                                                                                                                                                                                                                        \n",
       "..                                                 ...                                                                                                                                                                                                                                                                                        \n",
       "625                                              False                                                                                                                                                                                                                                                                                        \n",
       "626                                              False                                                                                                                                                                                                                                                                                        \n",
       "627                                              False                                                                                                                                                                                                                                                                                        \n",
       "628                                              False                                                                                                                                                                                                                                                                                        \n",
       "629                                              False                                                                                                                                                                                                                                                                                        \n",
       "\n",
       "     Reviews_a great product  i would buy another  \\\n",
       "0                                           False   \n",
       "1                                           False   \n",
       "2                                           False   \n",
       "3                                           False   \n",
       "4                                           False   \n",
       "..                                            ...   \n",
       "625                                         False   \n",
       "626                                         False   \n",
       "627                                         False   \n",
       "628                                         False   \n",
       "629                                         False   \n",
       "\n",
       "     Reviews_absolutely love it after much persuasion from a friend i finally gave in and bought one lets just say that the moment alexa enters my life i turn around and tell siri to get the hell out  \\\n",
       "0                                                False                                                                                                                                                    \n",
       "1                                                False                                                                                                                                                    \n",
       "2                                                False                                                                                                                                                    \n",
       "3                                                False                                                                                                                                                    \n",
       "4                                                False                                                                                                                                                    \n",
       "..                                                 ...                                                                                                                                                    \n",
       "625                                              False                                                                                                                                                    \n",
       "626                                              False                                                                                                                                                    \n",
       "627                                              False                                                                                                                                                    \n",
       "628                                              False                                                                                                                                                    \n",
       "629                                              False                                                                                                                                                    \n",
       "\n",
       "     Reviews_access to apps  \\\n",
       "0                     False   \n",
       "1                     False   \n",
       "2                     False   \n",
       "3                     False   \n",
       "4                     False   \n",
       "..                      ...   \n",
       "625                   False   \n",
       "626                   False   \n",
       "627                   False   \n",
       "628                   False   \n",
       "629                   False   \n",
       "\n",
       "     Reviews_after purchasing my echo spot to add to our other 4 amazon echoesi am very pleased with the echo spoti use  it with our arlo security cameras and ring video doorbell and works without any problems  \\\n",
       "0                                                False                                                                                                                                                              \n",
       "1                                                False                                                                                                                                                              \n",
       "2                                                False                                                                                                                                                              \n",
       "3                                                False                                                                                                                                                              \n",
       "4                                                False                                                                                                                                                              \n",
       "..                                                 ...                                                                                                                                                              \n",
       "625                                              False                                                                                                                                                              \n",
       "626                                              False                                                                                                                                                              \n",
       "627                                              False                                                                                                                                                              \n",
       "628                                              False                                                                                                                                                              \n",
       "629                                              False                                                                                                                                                              \n",
       "\n",
       "     Reviews_alexa is a decent speaker if thats all you need she is terrible at most other things she consistently answers questions that were not asked or says 34hmmm i dont know that34 for everything else weve gone back to just using our phones because she cant really look anything up pretty much everyone makes fun of me for spending money on this when i had an awesome bose bluetooth already i bought her because my mother who lives alone uses hers a lot and is happy with it but we have a full house with kids and im less than impressed id never recommend it to anyone except for senior citizens who love alone and need to be able to shout out for help in the event of a fall  \\\n",
       "0                                                False                                                                                                                                                                                                                                                                                                                                                                                                                                                                                                                                                                                                                                                      \n",
       "1                                                False                                                                                                                                                                                                                                                                                                                                                                                                                                                                                                                                                                                                                                                      \n",
       "2                                                False                                                                                                                                                                                                                                                                                                                                                                                                                                                                                                                                                                                                                                                      \n",
       "3                                                False                                                                                                                                                                                                                                                                                                                                                                                                                                                                                                                                                                                                                                                      \n",
       "4                                                False                                                                                                                                                                                                                                                                                                                                                                                                                                                                                                                                                                                                                                                      \n",
       "..                                                 ...                                                                                                                                                                                                                                                                                                                                                                                                                                                                                                                                                                                                                                                      \n",
       "625                                              False                                                                                                                                                                                                                                                                                                                                                                                                                                                                                                                                                                                                                                                      \n",
       "626                                              False                                                                                                                                                                                                                                                                                                                                                                                                                                                                                                                                                                                                                                                      \n",
       "627                                              False                                                                                                                                                                                                                                                                                                                                                                                                                                                                                                                                                                                                                                                      \n",
       "628                                              False                                                                                                                                                                                                                                                                                                                                                                                                                                                                                                                                                                                                                                                      \n",
       "629                                              False                                                                                                                                                                                                                                                                                                                                                                                                                                                                                                                                                                                                                                                      \n",
       "\n",
       "     Reviews_alexa is awesome the first day i got my echo plus i found out things that she can do that i didn’t think were even possible i highly recommend this product along with all the accessories  \\\n",
       "0                                                False                                                                                                                                                    \n",
       "1                                                False                                                                                                                                                    \n",
       "2                                                False                                                                                                                                                    \n",
       "3                                                False                                                                                                                                                    \n",
       "4                                                False                                                                                                                                                    \n",
       "..                                                 ...                                                                                                                                                    \n",
       "625                                              False                                                                                                                                                    \n",
       "626                                              False                                                                                                                                                    \n",
       "627                                              False                                                                                                                                                    \n",
       "628                                              False                                                                                                                                                    \n",
       "629                                              False                                                                                                                                                    \n",
       "\n",
       "     ...  Reviews_works perfect  \\\n",
       "0    ...                  False   \n",
       "1    ...                  False   \n",
       "2    ...                  False   \n",
       "3    ...                  False   \n",
       "4    ...                  False   \n",
       "..   ...                    ...   \n",
       "625  ...                  False   \n",
       "626  ...                  False   \n",
       "627  ...                  False   \n",
       "628  ...                  False   \n",
       "629  ...                  False   \n",
       "\n",
       "     Reviews_works perfect no wear and tear on the device i love alexa working on making my home smart 😂  \\\n",
       "0                                                False                                                     \n",
       "1                                                False                                                     \n",
       "2                                                False                                                     \n",
       "3                                                False                                                     \n",
       "4                                                False                                                     \n",
       "..                                                 ...                                                     \n",
       "625                                              False                                                     \n",
       "626                                              False                                                     \n",
       "627                                              False                                                     \n",
       "628                                              False                                                     \n",
       "629                                              False                                                     \n",
       "\n",
       "     Reviews_works perfectly  \\\n",
       "0                      False   \n",
       "1                      False   \n",
       "2                      False   \n",
       "3                      False   \n",
       "4                      False   \n",
       "..                       ...   \n",
       "625                    False   \n",
       "626                    False   \n",
       "627                    False   \n",
       "628                    False   \n",
       "629                    False   \n",
       "\n",
       "     Reviews_works well pictures awesome sound could be better must be on the same bandwidth as other alexa devices for whole home music 24ghz vs 5ghz  \\\n",
       "0                                                False                                                                                                   \n",
       "1                                                False                                                                                                   \n",
       "2                                                False                                                                                                   \n",
       "3                                                False                                                                                                   \n",
       "4                                                False                                                                                                   \n",
       "..                                                 ...                                                                                                   \n",
       "625                                              False                                                                                                   \n",
       "626                                              False                                                                                                   \n",
       "627                                              False                                                                                                   \n",
       "628                                              False                                                                                                   \n",
       "629                                              False                                                                                                   \n",
       "\n",
       "     Reviews_works well with optional cameras  conferencing is good  still feel like bezos is spying on me  \\\n",
       "0                                                False                                                       \n",
       "1                                                False                                                       \n",
       "2                                                False                                                       \n",
       "3                                                False                                                       \n",
       "4                                                False                                                       \n",
       "..                                                 ...                                                       \n",
       "625                                              False                                                       \n",
       "626                                              False                                                       \n",
       "627                                              False                                                       \n",
       "628                                              False                                                       \n",
       "629                                              False                                                       \n",
       "\n",
       "     Reviews_yet another exho for our home and love them all  \\\n",
       "0                                                False         \n",
       "1                                                False         \n",
       "2                                                False         \n",
       "3                                                False         \n",
       "4                                                False         \n",
       "..                                                 ...         \n",
       "625                                              False         \n",
       "626                                              False         \n",
       "627                                              False         \n",
       "628                                              False         \n",
       "629                                              False         \n",
       "\n",
       "     Reviews_you could not tell this was refurbished works excellent i would highly recommended instead of purchasing new  \\\n",
       "0                                                False                                                                      \n",
       "1                                                False                                                                      \n",
       "2                                                False                                                                      \n",
       "3                                                False                                                                      \n",
       "4                                                False                                                                      \n",
       "..                                                 ...                                                                      \n",
       "625                                              False                                                                      \n",
       "626                                              False                                                                      \n",
       "627                                              False                                                                      \n",
       "628                                              False                                                                      \n",
       "629                                              False                                                                      \n",
       "\n",
       "     Reviews_you need a harvard law degree to operate this thing its going back very soon  \\\n",
       "0                                                False                                      \n",
       "1                                                False                                      \n",
       "2                                                False                                      \n",
       "3                                                False                                      \n",
       "4                                                False                                      \n",
       "..                                                 ...                                      \n",
       "625                                              False                                      \n",
       "626                                              False                                      \n",
       "627                                              False                                      \n",
       "628                                              False                                      \n",
       "629                                              False                                      \n",
       "\n",
       "     Reviews_you’re all i needna na nana  Reviews_😄😄  \n",
       "0                                  False       False  \n",
       "1                                  False       False  \n",
       "2                                  False       False  \n",
       "3                                  False       False  \n",
       "4                                  False       False  \n",
       "..                                   ...         ...  \n",
       "625                                False       False  \n",
       "626                                False       False  \n",
       "627                                False       False  \n",
       "628                                False       False  \n",
       "629                                False       False  \n",
       "\n",
       "[630 rows x 565 columns]"
      ]
     },
     "execution_count": 24,
     "metadata": {},
     "output_type": "execute_result"
    }
   ],
   "source": [
    "one_hot_encoded_training_test"
   ]
  },
  {
   "cell_type": "code",
   "execution_count": 25,
   "id": "e5058393",
   "metadata": {
    "execution": {
     "iopub.execute_input": "2023-11-23T16:03:00.027981Z",
     "iopub.status.busy": "2023-11-23T16:03:00.027485Z",
     "iopub.status.idle": "2023-11-23T16:03:00.045984Z",
     "shell.execute_reply": "2023-11-23T16:03:00.044318Z"
    },
    "papermill": {
     "duration": 0.060424,
     "end_time": "2023-11-23T16:03:00.049400",
     "exception": false,
     "start_time": "2023-11-23T16:02:59.988976",
     "status": "completed"
    },
    "tags": []
   },
   "outputs": [],
   "source": [
    "final_train, final_test = one_hot_encoded_training_predictors.align(one_hot_encoded_training_test,\n",
    "                                                                    join='left', axis = 1)"
   ]
  },
  {
   "cell_type": "code",
   "execution_count": null,
   "id": "f2e5ac98",
   "metadata": {
    "papermill": {
     "duration": 0.030132,
     "end_time": "2023-11-23T16:03:00.111529",
     "exception": false,
     "start_time": "2023-11-23T16:03:00.081397",
     "status": "completed"
    },
    "tags": []
   },
   "outputs": [],
   "source": []
  },
  {
   "cell_type": "code",
   "execution_count": 26,
   "id": "8a4b9acb",
   "metadata": {
    "execution": {
     "iopub.execute_input": "2023-11-23T16:03:00.173522Z",
     "iopub.status.busy": "2023-11-23T16:03:00.173091Z",
     "iopub.status.idle": "2023-11-23T16:03:00.194339Z",
     "shell.execute_reply": "2023-11-23T16:03:00.192778Z"
    },
    "papermill": {
     "duration": 0.055876,
     "end_time": "2023-11-23T16:03:00.197420",
     "exception": false,
     "start_time": "2023-11-23T16:03:00.141544",
     "status": "completed"
    },
    "tags": []
   },
   "outputs": [],
   "source": [
    "\n",
    "x_train, x_test, y_train, y_test = train_test_split(one_hot_encoded_training_predictors, y, test_size=0.20, random_state=42)"
   ]
  },
  {
   "cell_type": "markdown",
   "id": "bdd5d2a8",
   "metadata": {
    "papermill": {
     "duration": 0.0302,
     "end_time": "2023-11-23T16:03:00.257708",
     "exception": false,
     "start_time": "2023-11-23T16:03:00.227508",
     "status": "completed"
    },
    "tags": []
   },
   "source": []
  },
  {
   "cell_type": "code",
   "execution_count": 27,
   "id": "e20ade1b",
   "metadata": {
    "execution": {
     "iopub.execute_input": "2023-11-23T16:03:00.320007Z",
     "iopub.status.busy": "2023-11-23T16:03:00.319556Z",
     "iopub.status.idle": "2023-11-23T16:03:11.499162Z",
     "shell.execute_reply": "2023-11-23T16:03:11.497543Z"
    },
    "papermill": {
     "duration": 11.217231,
     "end_time": "2023-11-23T16:03:11.505201",
     "exception": false,
     "start_time": "2023-11-23T16:03:00.287970",
     "status": "completed"
    },
    "tags": []
   },
   "outputs": [
    {
     "data": {
      "text/html": [
       "<style>#sk-container-id-1 {color: black;background-color: white;}#sk-container-id-1 pre{padding: 0;}#sk-container-id-1 div.sk-toggleable {background-color: white;}#sk-container-id-1 label.sk-toggleable__label {cursor: pointer;display: block;width: 100%;margin-bottom: 0;padding: 0.3em;box-sizing: border-box;text-align: center;}#sk-container-id-1 label.sk-toggleable__label-arrow:before {content: \"▸\";float: left;margin-right: 0.25em;color: #696969;}#sk-container-id-1 label.sk-toggleable__label-arrow:hover:before {color: black;}#sk-container-id-1 div.sk-estimator:hover label.sk-toggleable__label-arrow:before {color: black;}#sk-container-id-1 div.sk-toggleable__content {max-height: 0;max-width: 0;overflow: hidden;text-align: left;background-color: #f0f8ff;}#sk-container-id-1 div.sk-toggleable__content pre {margin: 0.2em;color: black;border-radius: 0.25em;background-color: #f0f8ff;}#sk-container-id-1 input.sk-toggleable__control:checked~div.sk-toggleable__content {max-height: 200px;max-width: 100%;overflow: auto;}#sk-container-id-1 input.sk-toggleable__control:checked~label.sk-toggleable__label-arrow:before {content: \"▾\";}#sk-container-id-1 div.sk-estimator input.sk-toggleable__control:checked~label.sk-toggleable__label {background-color: #d4ebff;}#sk-container-id-1 div.sk-label input.sk-toggleable__control:checked~label.sk-toggleable__label {background-color: #d4ebff;}#sk-container-id-1 input.sk-hidden--visually {border: 0;clip: rect(1px 1px 1px 1px);clip: rect(1px, 1px, 1px, 1px);height: 1px;margin: -1px;overflow: hidden;padding: 0;position: absolute;width: 1px;}#sk-container-id-1 div.sk-estimator {font-family: monospace;background-color: #f0f8ff;border: 1px dotted black;border-radius: 0.25em;box-sizing: border-box;margin-bottom: 0.5em;}#sk-container-id-1 div.sk-estimator:hover {background-color: #d4ebff;}#sk-container-id-1 div.sk-parallel-item::after {content: \"\";width: 100%;border-bottom: 1px solid gray;flex-grow: 1;}#sk-container-id-1 div.sk-label:hover label.sk-toggleable__label {background-color: #d4ebff;}#sk-container-id-1 div.sk-serial::before {content: \"\";position: absolute;border-left: 1px solid gray;box-sizing: border-box;top: 0;bottom: 0;left: 50%;z-index: 0;}#sk-container-id-1 div.sk-serial {display: flex;flex-direction: column;align-items: center;background-color: white;padding-right: 0.2em;padding-left: 0.2em;position: relative;}#sk-container-id-1 div.sk-item {position: relative;z-index: 1;}#sk-container-id-1 div.sk-parallel {display: flex;align-items: stretch;justify-content: center;background-color: white;position: relative;}#sk-container-id-1 div.sk-item::before, #sk-container-id-1 div.sk-parallel-item::before {content: \"\";position: absolute;border-left: 1px solid gray;box-sizing: border-box;top: 0;bottom: 0;left: 50%;z-index: -1;}#sk-container-id-1 div.sk-parallel-item {display: flex;flex-direction: column;z-index: 1;position: relative;background-color: white;}#sk-container-id-1 div.sk-parallel-item:first-child::after {align-self: flex-end;width: 50%;}#sk-container-id-1 div.sk-parallel-item:last-child::after {align-self: flex-start;width: 50%;}#sk-container-id-1 div.sk-parallel-item:only-child::after {width: 0;}#sk-container-id-1 div.sk-dashed-wrapped {border: 1px dashed gray;margin: 0 0.4em 0.5em 0.4em;box-sizing: border-box;padding-bottom: 0.4em;background-color: white;}#sk-container-id-1 div.sk-label label {font-family: monospace;font-weight: bold;display: inline-block;line-height: 1.2em;}#sk-container-id-1 div.sk-label-container {text-align: center;}#sk-container-id-1 div.sk-container {/* jupyter's `normalize.less` sets `[hidden] { display: none; }` but bootstrap.min.css set `[hidden] { display: none !important; }` so we also need the `!important` here to be able to override the default hidden behavior on the sphinx rendered scikit-learn.org. See: https://github.com/scikit-learn/scikit-learn/issues/21755 */display: inline-block !important;position: relative;}#sk-container-id-1 div.sk-text-repr-fallback {display: none;}</style><div id=\"sk-container-id-1\" class=\"sk-top-container\"><div class=\"sk-text-repr-fallback\"><pre>Lasso(alpha=0.1)</pre><b>In a Jupyter environment, please rerun this cell to show the HTML representation or trust the notebook. <br />On GitHub, the HTML representation is unable to render, please try loading this page with nbviewer.org.</b></div><div class=\"sk-container\" hidden><div class=\"sk-item\"><div class=\"sk-estimator sk-toggleable\"><input class=\"sk-toggleable__control sk-hidden--visually\" id=\"sk-estimator-id-1\" type=\"checkbox\" checked><label for=\"sk-estimator-id-1\" class=\"sk-toggleable__label sk-toggleable__label-arrow\">Lasso</label><div class=\"sk-toggleable__content\"><pre>Lasso(alpha=0.1)</pre></div></div></div></div></div>"
      ],
      "text/plain": [
       "Lasso(alpha=0.1)"
      ]
     },
     "execution_count": 27,
     "metadata": {},
     "output_type": "execute_result"
    }
   ],
   "source": [
    "\n",
    "# Model 1 - Linear Regression\n",
    "m1 = LinearRegression()\n",
    "m1.fit(x_train, y_train)\n",
    "\n",
    "# print(res1)\n",
    "\n",
    "# Model 2 -  Decision Tree Regressor\n",
    "m2 = DecisionTreeRegressor()\n",
    "m2.fit(x_train, y_train)\n",
    "\n",
    "# print(res2)\n",
    "\n",
    "# Model 3 - Support Vector Regressor\n",
    "m3 = SVR()\n",
    "m3.fit(x_train, y_train)\n",
    "\n",
    "# print(res3)\n",
    "\n",
    "# Model 4 - Lasso Regressor\n",
    "m4 = linear_model.Lasso(alpha=0.1)\n",
    "m4.fit(x_train, y_train)"
   ]
  },
  {
   "cell_type": "code",
   "execution_count": 28,
   "id": "bcc6144d",
   "metadata": {
    "execution": {
     "iopub.execute_input": "2023-11-23T16:03:11.621543Z",
     "iopub.status.busy": "2023-11-23T16:03:11.621073Z",
     "iopub.status.idle": "2023-11-23T16:03:14.114097Z",
     "shell.execute_reply": "2023-11-23T16:03:14.112699Z"
    },
    "papermill": {
     "duration": 2.543371,
     "end_time": "2023-11-23T16:03:14.117058",
     "exception": false,
     "start_time": "2023-11-23T16:03:11.573687",
     "status": "completed"
    },
    "tags": []
   },
   "outputs": [
    {
     "data": {
      "image/png": "[encoded data removed]",
      "text/plain": [
       "<Figure size 640x480 with 1 Axes>"
      ]
     },
     "metadata": {},
     "output_type": "display_data"
    }
   ],
   "source": [
    "import matplotlib.pyplot as plt\n",
    "from sklearn.metrics import r2_score\n",
    "\n",
    "# Model predictions\n",
    "y_pred_m1 = m1.predict(x_test)\n",
    "y_pred_m2 = m2.predict(x_test)\n",
    "y_pred_m3 = m3.predict(x_test)\n",
    "y_pred_m4 = m4.predict(x_test)\n",
    "\n",
    "# R-squared scores\n",
    "r2_m1 = r2_score(y_test, y_pred_m1)\n",
    "r2_m2 = r2_score(y_test, y_pred_m2)\n",
    "r2_m3 = r2_score(y_test, y_pred_m3)\n",
    "r2_m4 = r2_score(y_test, y_pred_m4)\n",
    "\n",
    "# Convert R-squared scores to percentage\n",
    "r2_m1_percentage = r2_m1 * 100\n",
    "r2_m2_percentage = r2_m2 * 100\n",
    "r2_m3_percentage = r2_m3 * 100\n",
    "r2_m4_percentage = r2_m4 * 100\n",
    "\n",
    "# Create a bar plot\n",
    "models = ['Linear Regression', 'Decision Tree', 'Support Vector', 'Lasso']\n",
    "r2_scores = [r2_m1_percentage, r2_m2_percentage, r2_m3_percentage, r2_m4_percentage]\n",
    "\n",
    "plt.bar(models, r2_scores, color='b', alpha=0.7)\n",
    "plt.xlabel('Models')\n",
    "plt.ylabel('R-squared Score (%)')\n",
    "plt.title('R-squared Score for Different Models')\n",
    "plt.show()\n"
   ]
  },
  {
   "cell_type": "code",
   "execution_count": 29,
   "id": "aee3be02",
   "metadata": {
    "execution": {
     "iopub.execute_input": "2023-11-23T16:03:14.180745Z",
     "iopub.status.busy": "2023-11-23T16:03:14.180289Z",
     "iopub.status.idle": "2023-11-23T16:03:14.476995Z",
     "shell.execute_reply": "2023-11-23T16:03:14.475808Z"
    },
    "papermill": {
     "duration": 0.331753,
     "end_time": "2023-11-23T16:03:14.479645",
     "exception": false,
     "start_time": "2023-11-23T16:03:14.147892",
     "status": "completed"
    },
    "tags": []
   },
   "outputs": [
    {
     "data": {
      "image/png": "[encoded data removed]",
      "text/plain": [
       "<Figure size 640x480 with 1 Axes>"
      ]
     },
     "metadata": {},
     "output_type": "display_data"
    }
   ],
   "source": [
    "# Create a bar plot\n",
    "models = ['Decision Tree', 'Support Vector', 'Lasso']\n",
    "r2_scores = [r2_m2_percentage, r2_m3_percentage, r2_m4_percentage]\n",
    "\n",
    "plt.bar(models, r2_scores, color='b', alpha=0.7)\n",
    "plt.xlabel('Models')\n",
    "plt.ylabel('R-squared Score (%)')\n",
    "plt.title('R-squared Score for Different Models')\n",
    "plt.show()\n"
   ]
  },
  {
   "cell_type": "code",
   "execution_count": 30,
   "id": "a7408750",
   "metadata": {
    "execution": {
     "iopub.execute_input": "2023-11-23T16:03:14.545251Z",
     "iopub.status.busy": "2023-11-23T16:03:14.544741Z",
     "iopub.status.idle": "2023-11-23T16:03:14.550776Z",
     "shell.execute_reply": "2023-11-23T16:03:14.549079Z"
    },
    "papermill": {
     "duration": 0.042251,
     "end_time": "2023-11-23T16:03:14.553553",
     "exception": false,
     "start_time": "2023-11-23T16:03:14.511302",
     "status": "completed"
    },
    "tags": []
   },
   "outputs": [],
   "source": [
    "# y_pred_m3 = m3.predict(one_hot_encoded_training_test)\n"
   ]
  },
  {
   "cell_type": "code",
   "execution_count": 31,
   "id": "b692adfd",
   "metadata": {
    "execution": {
     "iopub.execute_input": "2023-11-23T16:03:14.623121Z",
     "iopub.status.busy": "2023-11-23T16:03:14.622661Z",
     "iopub.status.idle": "2023-11-23T16:03:14.630342Z",
     "shell.execute_reply": "2023-11-23T16:03:14.628829Z"
    },
    "papermill": {
     "duration": 0.046591,
     "end_time": "2023-11-23T16:03:14.633334",
     "exception": false,
     "start_time": "2023-11-23T16:03:14.586743",
     "status": "completed"
    },
    "tags": []
   },
   "outputs": [],
   "source": [
    "import math\n",
    "def round(final):\n",
    "    rounded_values = [math.ceil(value) if value - int(value) >= 0.5 else math.floor(value) for value in final]\n",
    "    int_values = [int(value) for value in rounded_values]\n",
    "    \n",
    "    return int_values"
   ]
  },
  {
   "cell_type": "code",
   "execution_count": null,
   "id": "27357c6f",
   "metadata": {
    "papermill": {
     "duration": 0.032259,
     "end_time": "2023-11-23T16:03:14.698033",
     "exception": false,
     "start_time": "2023-11-23T16:03:14.665774",
     "status": "completed"
    },
    "tags": []
   },
   "outputs": [],
   "source": []
  },
  {
   "cell_type": "code",
   "execution_count": 32,
   "id": "b2d331ad",
   "metadata": {
    "execution": {
     "iopub.execute_input": "2023-11-23T16:03:14.765431Z",
     "iopub.status.busy": "2023-11-23T16:03:14.765020Z",
     "iopub.status.idle": "2023-11-23T16:03:14.770432Z",
     "shell.execute_reply": "2023-11-23T16:03:14.769064Z"
    },
    "papermill": {
     "duration": 0.042288,
     "end_time": "2023-11-23T16:03:14.773261",
     "exception": false,
     "start_time": "2023-11-23T16:03:14.730973",
     "status": "completed"
    },
    "tags": []
   },
   "outputs": [],
   "source": [
    "# import pandas as pd\n",
    "# test = pd.read_csv('/kaggle/input/anyas-gojo-revival-space-shop/test.tsv', sep='\\t')\n",
    "\n",
    "# df = pd.DataFrame({'id': test['id'], 'sentiment': int_values})\n",
    "# df.set_index('id', inplace=True)\n",
    "# df.to_csv('output.csv')"
   ]
  },
  {
   "cell_type": "code",
   "execution_count": null,
   "id": "95a86c69",
   "metadata": {
    "papermill": {
     "duration": 0.031139,
     "end_time": "2023-11-23T16:03:14.836368",
     "exception": false,
     "start_time": "2023-11-23T16:03:14.805229",
     "status": "completed"
    },
    "tags": []
   },
   "outputs": [],
   "source": []
  },
  {
   "cell_type": "code",
   "execution_count": null,
   "id": "4bafd768",
   "metadata": {
    "papermill": {
     "duration": 0.03182,
     "end_time": "2023-11-23T16:03:14.900950",
     "exception": false,
     "start_time": "2023-11-23T16:03:14.869130",
     "status": "completed"
    },
    "tags": []
   },
   "outputs": [],
   "source": []
  },
  {
   "cell_type": "code",
   "execution_count": null,
   "id": "82944c66",
   "metadata": {
    "papermill": {
     "duration": 0.039903,
     "end_time": "2023-11-23T16:03:14.975234",
     "exception": false,
     "start_time": "2023-11-23T16:03:14.935331",
     "status": "completed"
    },
    "tags": []
   },
   "outputs": [],
   "source": []
  },
  {
   "cell_type": "code",
   "execution_count": 33,
   "id": "c1cb120c",
   "metadata": {
    "execution": {
     "iopub.execute_input": "2023-11-23T16:03:15.047285Z",
     "iopub.status.busy": "2023-11-23T16:03:15.046771Z",
     "iopub.status.idle": "2023-11-23T16:03:15.902154Z",
     "shell.execute_reply": "2023-11-23T16:03:15.900697Z"
    },
    "papermill": {
     "duration": 0.895622,
     "end_time": "2023-11-23T16:03:15.906297",
     "exception": false,
     "start_time": "2023-11-23T16:03:15.010675",
     "status": "completed"
    },
    "tags": []
   },
   "outputs": [
    {
     "data": {
      "text/html": [
       "<style>#sk-container-id-2 {color: black;background-color: white;}#sk-container-id-2 pre{padding: 0;}#sk-container-id-2 div.sk-toggleable {background-color: white;}#sk-container-id-2 label.sk-toggleable__label {cursor: pointer;display: block;width: 100%;margin-bottom: 0;padding: 0.3em;box-sizing: border-box;text-align: center;}#sk-container-id-2 label.sk-toggleable__label-arrow:before {content: \"▸\";float: left;margin-right: 0.25em;color: #696969;}#sk-container-id-2 label.sk-toggleable__label-arrow:hover:before {color: black;}#sk-container-id-2 div.sk-estimator:hover label.sk-toggleable__label-arrow:before {color: black;}#sk-container-id-2 div.sk-toggleable__content {max-height: 0;max-width: 0;overflow: hidden;text-align: left;background-color: #f0f8ff;}#sk-container-id-2 div.sk-toggleable__content pre {margin: 0.2em;color: black;border-radius: 0.25em;background-color: #f0f8ff;}#sk-container-id-2 input.sk-toggleable__control:checked~div.sk-toggleable__content {max-height: 200px;max-width: 100%;overflow: auto;}#sk-container-id-2 input.sk-toggleable__control:checked~label.sk-toggleable__label-arrow:before {content: \"▾\";}#sk-container-id-2 div.sk-estimator input.sk-toggleable__control:checked~label.sk-toggleable__label {background-color: #d4ebff;}#sk-container-id-2 div.sk-label input.sk-toggleable__control:checked~label.sk-toggleable__label {background-color: #d4ebff;}#sk-container-id-2 input.sk-hidden--visually {border: 0;clip: rect(1px 1px 1px 1px);clip: rect(1px, 1px, 1px, 1px);height: 1px;margin: -1px;overflow: hidden;padding: 0;position: absolute;width: 1px;}#sk-container-id-2 div.sk-estimator {font-family: monospace;background-color: #f0f8ff;border: 1px dotted black;border-radius: 0.25em;box-sizing: border-box;margin-bottom: 0.5em;}#sk-container-id-2 div.sk-estimator:hover {background-color: #d4ebff;}#sk-container-id-2 div.sk-parallel-item::after {content: \"\";width: 100%;border-bottom: 1px solid gray;flex-grow: 1;}#sk-container-id-2 div.sk-label:hover label.sk-toggleable__label {background-color: #d4ebff;}#sk-container-id-2 div.sk-serial::before {content: \"\";position: absolute;border-left: 1px solid gray;box-sizing: border-box;top: 0;bottom: 0;left: 50%;z-index: 0;}#sk-container-id-2 div.sk-serial {display: flex;flex-direction: column;align-items: center;background-color: white;padding-right: 0.2em;padding-left: 0.2em;position: relative;}#sk-container-id-2 div.sk-item {position: relative;z-index: 1;}#sk-container-id-2 div.sk-parallel {display: flex;align-items: stretch;justify-content: center;background-color: white;position: relative;}#sk-container-id-2 div.sk-item::before, #sk-container-id-2 div.sk-parallel-item::before {content: \"\";position: absolute;border-left: 1px solid gray;box-sizing: border-box;top: 0;bottom: 0;left: 50%;z-index: -1;}#sk-container-id-2 div.sk-parallel-item {display: flex;flex-direction: column;z-index: 1;position: relative;background-color: white;}#sk-container-id-2 div.sk-parallel-item:first-child::after {align-self: flex-end;width: 50%;}#sk-container-id-2 div.sk-parallel-item:last-child::after {align-self: flex-start;width: 50%;}#sk-container-id-2 div.sk-parallel-item:only-child::after {width: 0;}#sk-container-id-2 div.sk-dashed-wrapped {border: 1px dashed gray;margin: 0 0.4em 0.5em 0.4em;box-sizing: border-box;padding-bottom: 0.4em;background-color: white;}#sk-container-id-2 div.sk-label label {font-family: monospace;font-weight: bold;display: inline-block;line-height: 1.2em;}#sk-container-id-2 div.sk-label-container {text-align: center;}#sk-container-id-2 div.sk-container {/* jupyter's `normalize.less` sets `[hidden] { display: none; }` but bootstrap.min.css set `[hidden] { display: none !important; }` so we also need the `!important` here to be able to override the default hidden behavior on the sphinx rendered scikit-learn.org. See: https://github.com/scikit-learn/scikit-learn/issues/21755 */display: inline-block !important;position: relative;}#sk-container-id-2 div.sk-text-repr-fallback {display: none;}</style><div id=\"sk-container-id-2\" class=\"sk-top-container\"><div class=\"sk-text-repr-fallback\"><pre>Pipeline(steps=[(&#x27;vectorizer&#x27;, TfidfVectorizer()),\n",
       "                (&#x27;classifier&#x27;, LogisticRegression())])</pre><b>In a Jupyter environment, please rerun this cell to show the HTML representation or trust the notebook. <br />On GitHub, the HTML representation is unable to render, please try loading this page with nbviewer.org.</b></div><div class=\"sk-container\" hidden><div class=\"sk-item sk-dashed-wrapped\"><div class=\"sk-label-container\"><div class=\"sk-label sk-toggleable\"><input class=\"sk-toggleable__control sk-hidden--visually\" id=\"sk-estimator-id-2\" type=\"checkbox\" ><label for=\"sk-estimator-id-2\" class=\"sk-toggleable__label sk-toggleable__label-arrow\">Pipeline</label><div class=\"sk-toggleable__content\"><pre>Pipeline(steps=[(&#x27;vectorizer&#x27;, TfidfVectorizer()),\n",
       "                (&#x27;classifier&#x27;, LogisticRegression())])</pre></div></div></div><div class=\"sk-serial\"><div class=\"sk-item\"><div class=\"sk-estimator sk-toggleable\"><input class=\"sk-toggleable__control sk-hidden--visually\" id=\"sk-estimator-id-3\" type=\"checkbox\" ><label for=\"sk-estimator-id-3\" class=\"sk-toggleable__label sk-toggleable__label-arrow\">TfidfVectorizer</label><div class=\"sk-toggleable__content\"><pre>TfidfVectorizer()</pre></div></div></div><div class=\"sk-item\"><div class=\"sk-estimator sk-toggleable\"><input class=\"sk-toggleable__control sk-hidden--visually\" id=\"sk-estimator-id-4\" type=\"checkbox\" ><label for=\"sk-estimator-id-4\" class=\"sk-toggleable__label sk-toggleable__label-arrow\">LogisticRegression</label><div class=\"sk-toggleable__content\"><pre>LogisticRegression()</pre></div></div></div></div></div></div></div>"
      ],
      "text/plain": [
       "Pipeline(steps=[('vectorizer', TfidfVectorizer()),\n",
       "                ('classifier', LogisticRegression())])"
      ]
     },
     "execution_count": 33,
     "metadata": {},
     "output_type": "execute_result"
    }
   ],
   "source": [
    "tvec = TfidfVectorizer()\n",
    "clf2 = LogisticRegression(solver='lbfgs')\n",
    "\n",
    "model = Pipeline([('vectorizer', tvec), ('classifier', clf2)])\n",
    "model.fit(X_train, Y_train)\n"
   ]
  },
  {
   "cell_type": "code",
   "execution_count": 34,
   "id": "540811e5",
   "metadata": {
    "execution": {
     "iopub.execute_input": "2023-11-23T16:03:16.040499Z",
     "iopub.status.busy": "2023-11-23T16:03:16.040068Z",
     "iopub.status.idle": "2023-11-23T16:03:16.056350Z",
     "shell.execute_reply": "2023-11-23T16:03:16.055322Z"
    },
    "papermill": {
     "duration": 0.052927,
     "end_time": "2023-11-23T16:03:16.059428",
     "exception": false,
     "start_time": "2023-11-23T16:03:16.006501",
     "status": "completed"
    },
    "tags": []
   },
   "outputs": [],
   "source": [
    "predictions = model.predict(X_test)"
   ]
  },
  {
   "cell_type": "code",
   "execution_count": 35,
   "id": "5d20b463",
   "metadata": {
    "execution": {
     "iopub.execute_input": "2023-11-23T16:03:16.127183Z",
     "iopub.status.busy": "2023-11-23T16:03:16.126733Z",
     "iopub.status.idle": "2023-11-23T16:03:16.140405Z",
     "shell.execute_reply": "2023-11-23T16:03:16.138665Z"
    },
    "papermill": {
     "duration": 0.050799,
     "end_time": "2023-11-23T16:03:16.143447",
     "exception": false,
     "start_time": "2023-11-23T16:03:16.092648",
     "status": "completed"
    },
    "tags": []
   },
   "outputs": [
    {
     "name": "stdout",
     "output_type": "stream",
     "text": [
      "Accuracy:  0.7420634920634921\n"
     ]
    }
   ],
   "source": [
    "confusion_matrix(predictions, Y_test)\n",
    "print(\"Accuracy: \", accuracy_score(predictions, Y_test))\n",
    "\n",
    "nlp = open('nlp.sav', 'wb') \n",
    "pickle.dump(model, nlp)\n",
    "nlp.close()"
   ]
  },
  {
   "cell_type": "code",
   "execution_count": 36,
   "id": "996a42b9",
   "metadata": {
    "execution": {
     "iopub.execute_input": "2023-11-23T16:03:16.211701Z",
     "iopub.status.busy": "2023-11-23T16:03:16.211180Z",
     "iopub.status.idle": "2023-11-23T16:03:16.243939Z",
     "shell.execute_reply": "2023-11-23T16:03:16.242521Z"
    },
    "papermill": {
     "duration": 0.070415,
     "end_time": "2023-11-23T16:03:16.247205",
     "exception": false,
     "start_time": "2023-11-23T16:03:16.176790",
     "status": "completed"
    },
    "tags": []
   },
   "outputs": [],
   "source": [
    "final = model.predict(test_data['Reviews'])\n",
    "# predictions = model.predict(test_data['Reviews'])"
   ]
  },
  {
   "cell_type": "code",
   "execution_count": 37,
   "id": "62a65c4d",
   "metadata": {
    "execution": {
     "iopub.execute_input": "2023-11-23T16:03:16.321905Z",
     "iopub.status.busy": "2023-11-23T16:03:16.321379Z",
     "iopub.status.idle": "2023-11-23T16:03:16.330226Z",
     "shell.execute_reply": "2023-11-23T16:03:16.328610Z"
    },
    "papermill": {
     "duration": 0.052233,
     "end_time": "2023-11-23T16:03:16.332709",
     "exception": false,
     "start_time": "2023-11-23T16:03:16.280476",
     "status": "completed"
    },
    "tags": []
   },
   "outputs": [
    {
     "data": {
      "text/plain": [
       "630"
      ]
     },
     "execution_count": 37,
     "metadata": {},
     "output_type": "execute_result"
    }
   ],
   "source": [
    "len(final)"
   ]
  },
  {
   "cell_type": "code",
   "execution_count": 38,
   "id": "1bf85632",
   "metadata": {
    "execution": {
     "iopub.execute_input": "2023-11-23T16:03:16.398851Z",
     "iopub.status.busy": "2023-11-23T16:03:16.398382Z",
     "iopub.status.idle": "2023-11-23T16:03:16.408359Z",
     "shell.execute_reply": "2023-11-23T16:03:16.406700Z"
    },
    "papermill": {
     "duration": 0.046538,
     "end_time": "2023-11-23T16:03:16.411633",
     "exception": false,
     "start_time": "2023-11-23T16:03:16.365095",
     "status": "completed"
    },
    "tags": []
   },
   "outputs": [
    {
     "name": "stdout",
     "output_type": "stream",
     "text": [
      "[5, 5, 5, 5, 5, 5, 5, 5, 5, 5, 5, 5, 5, 5, 5, 5, 5, 5, 5, 5, 5, 5, 5, 5, 5, 5, 5, 5, 5, 5, 5, 5, 5, 5, 5, 5, 5, 5, 5, 5, 5, 4, 5, 5, 5, 5, 5, 5, 5, 5, 5, 5, 5, 5, 5, 5, 5, 5, 5, 5, 5, 5, 5, 5, 5, 5, 5, 5, 5, 5, 5, 5, 5, 5, 5, 5, 5, 5, 5, 5, 5, 5, 5, 5, 5, 5, 5, 5, 5, 5, 5, 5, 5, 5, 5, 5, 5, 5, 5, 5, 5, 4, 5, 5, 5, 5, 5, 5, 5, 5, 5, 5, 5, 5, 5, 5, 5, 5, 5, 5, 5, 5, 5, 5, 3, 5, 5, 5, 5, 5, 5, 5, 5, 5, 5, 5, 5, 5, 5, 5, 5, 5, 5, 5, 5, 5, 5, 5, 5, 5, 5, 5, 5, 5, 5, 5, 5, 5, 5, 5, 5, 5, 5, 5, 5, 5, 5, 5, 5, 5, 5, 5, 5, 5, 4, 5, 5, 5, 5, 5, 5, 5, 5, 4, 5, 5, 5, 5, 4, 5, 5, 5, 5, 5, 5, 5, 5, 5, 5, 5, 5, 5, 5, 5, 5, 5, 5, 5, 5, 5, 5, 5, 5, 5, 5, 5, 5, 5, 5, 5, 5, 5, 5, 5, 5, 5, 5, 5, 1, 5, 5, 5, 5, 5, 5, 5, 5, 5, 5, 5, 5, 5, 5, 5, 3, 5, 5, 5, 5, 5, 1, 5, 5, 5, 5, 5, 4, 5, 5, 5, 4, 5, 5, 5, 5, 4, 5, 5, 5, 5, 5, 5, 5, 4, 5, 5, 5, 5, 5, 5, 5, 5, 4, 5, 5, 5, 5, 5, 5, 5, 5, 5, 5, 5, 5, 5, 5, 5, 5, 5, 5, 5, 5, 5, 5, 5, 5, 5, 5, 5, 5, 5, 5, 1, 5, 5, 5, 5, 5, 5, 5, 5, 5, 5, 5, 5, 5, 5, 5, 4, 5, 5, 5, 5, 5, 5, 5, 4, 5, 5, 5, 5, 5, 5, 4, 5, 5, 5, 5, 5, 5, 5, 5, 5, 5, 5, 5, 5, 5, 4, 5, 5, 5, 4, 5, 5, 5, 5, 5, 4, 5, 5, 5, 5, 5, 5, 5, 5, 5, 5, 5, 5, 5, 5, 5, 5, 5, 5, 4, 5, 5, 5, 5, 5, 5, 5, 5, 5, 5, 5, 5, 5, 5, 5, 5, 5, 5, 4, 5, 5, 5, 5, 5, 5, 5, 5, 5, 5, 5, 5, 5, 5, 5, 5, 5, 5, 5, 5, 5, 5, 5, 5, 5, 5, 5, 5, 5, 5, 5, 5, 5, 5, 5, 5, 5, 5, 5, 5, 5, 5, 5, 5, 5, 5, 5, 5, 5, 5, 5, 5, 5, 5, 5, 5, 5, 5, 5, 5, 5, 5, 5, 5, 5, 5, 5, 5, 5, 5, 5, 5, 5, 5, 5, 5, 3, 5, 5, 5, 5, 5, 5, 5, 5, 5, 5, 5, 5, 5, 5, 5, 5, 5, 5, 5, 5, 5, 5, 5, 5, 5, 5, 5, 5, 5, 5, 5, 5, 5, 5, 5, 5, 5, 5, 1, 5, 5, 5, 5, 5, 4, 5, 5, 5, 5, 5, 5, 5, 5, 5, 5, 5, 5, 4, 5, 5, 4, 5, 5, 5, 5, 5, 5, 5, 5, 5, 5, 5, 5, 5, 5, 5, 5, 5, 5, 5, 5, 5, 5, 5, 5, 5, 5, 5, 5, 5, 5, 5, 5, 5, 5, 5, 5, 5, 5, 5, 5, 4, 5, 5, 5, 5, 5, 5, 5, 5, 5, 5, 5, 5, 5, 5, 5, 5, 5, 5, 5, 4, 5, 5, 5, 5, 5, 5, 5, 5, 5, 5, 5, 5, 4, 5, 5, 5, 5, 5, 5, 5, 5, 5, 5]\n"
     ]
    }
   ],
   "source": [
    "int_values = round(final)\n",
    "print(int_values)"
   ]
  },
  {
   "cell_type": "code",
   "execution_count": 39,
   "id": "3d92fe6a",
   "metadata": {
    "execution": {
     "iopub.execute_input": "2023-11-23T16:03:16.497575Z",
     "iopub.status.busy": "2023-11-23T16:03:16.495828Z",
     "iopub.status.idle": "2023-11-23T16:03:16.522082Z",
     "shell.execute_reply": "2023-11-23T16:03:16.520665Z"
    },
    "papermill": {
     "duration": 0.075291,
     "end_time": "2023-11-23T16:03:16.525127",
     "exception": false,
     "start_time": "2023-11-23T16:03:16.449836",
     "status": "completed"
    },
    "tags": []
   },
   "outputs": [],
   "source": [
    "import pandas as pd\n",
    "test = pd.read_csv('/kaggle/input/anyas-gojo-revival-space-shop/test.tsv', sep='\\t')\n",
    "\n",
    "df = pd.DataFrame({'id': test['id'], 'sentiment': int_values})\n",
    "df.set_index('id', inplace=True)\n",
    "df.to_csv('output.csv')"
   ]
  },
  {
   "cell_type": "code",
   "execution_count": 40,
   "id": "f29344a4",
   "metadata": {
    "execution": {
     "iopub.execute_input": "2023-11-23T16:03:16.597256Z",
     "iopub.status.busy": "2023-11-23T16:03:16.596829Z",
     "iopub.status.idle": "2023-11-23T16:03:16.603684Z",
     "shell.execute_reply": "2023-11-23T16:03:16.601716Z"
    },
    "papermill": {
     "duration": 0.043889,
     "end_time": "2023-11-23T16:03:16.606718",
     "exception": false,
     "start_time": "2023-11-23T16:03:16.562829",
     "status": "completed"
    },
    "tags": []
   },
   "outputs": [],
   "source": [
    "#--------------------------------------------------------------------------------"
   ]
  },
  {
   "cell_type": "code",
   "execution_count": null,
   "id": "b1bbf790",
   "metadata": {
    "papermill": {
     "duration": 0.03152,
     "end_time": "2023-11-23T16:03:16.671248",
     "exception": false,
     "start_time": "2023-11-23T16:03:16.639728",
     "status": "completed"
    },
    "tags": []
   },
   "outputs": [],
   "source": []
  },
  {
   "cell_type": "code",
   "execution_count": 41,
   "id": "e9a819af",
   "metadata": {
    "execution": {
     "iopub.execute_input": "2023-11-23T16:03:16.737478Z",
     "iopub.status.busy": "2023-11-23T16:03:16.736978Z",
     "iopub.status.idle": "2023-11-23T16:03:23.583450Z",
     "shell.execute_reply": "2023-11-23T16:03:23.581999Z"
    },
    "papermill": {
     "duration": 6.883798,
     "end_time": "2023-11-23T16:03:23.586888",
     "exception": false,
     "start_time": "2023-11-23T16:03:16.703090",
     "status": "completed"
    },
    "tags": []
   },
   "outputs": [],
   "source": [
    "import numpy as np\n",
    "import pandas as pd\n",
    "\n",
    "from sklearn.model_selection import train_test_split\n",
    "from sklearn.feature_extraction.text import TfidfVectorizer\n",
    "from sklearn.preprocessing import LabelEncoder\n",
    "from sklearn.pipeline import Pipeline\n",
    "from sklearn.naive_bayes import MultinomialNB\n",
    "from sklearn.ensemble import RandomForestClassifier\n",
    "from sklearn.metrics import accuracy_score, classification_report\n",
    "\n",
    "import spacy"
   ]
  },
  {
   "cell_type": "code",
   "execution_count": 42,
   "id": "6c5142f2",
   "metadata": {
    "execution": {
     "iopub.execute_input": "2023-11-23T16:03:23.656308Z",
     "iopub.status.busy": "2023-11-23T16:03:23.655636Z",
     "iopub.status.idle": "2023-11-23T16:03:23.699966Z",
     "shell.execute_reply": "2023-11-23T16:03:23.698680Z"
    },
    "papermill": {
     "duration": 0.082308,
     "end_time": "2023-11-23T16:03:23.702818",
     "exception": false,
     "start_time": "2023-11-23T16:03:23.620510",
     "status": "completed"
    },
    "tags": []
   },
   "outputs": [
    {
     "name": "stdout",
     "output_type": "stream",
     "text": [
      "(2520, 10)\n"
     ]
    },
    {
     "data": {
      "text/html": [
       "<div>\n",
       "<style scoped>\n",
       "    .dataframe tbody tr th:only-of-type {\n",
       "        vertical-align: middle;\n",
       "    }\n",
       "\n",
       "    .dataframe tbody tr th {\n",
       "        vertical-align: top;\n",
       "    }\n",
       "\n",
       "    .dataframe thead th {\n",
       "        text-align: right;\n",
       "    }\n",
       "</style>\n",
       "<table border=\"1\" class=\"dataframe\">\n",
       "  <thead>\n",
       "    <tr style=\"text-align: right;\">\n",
       "      <th></th>\n",
       "      <th>date</th>\n",
       "      <th>time</th>\n",
       "      <th>id</th>\n",
       "      <th>reviewer name</th>\n",
       "      <th>reviewer address</th>\n",
       "      <th>contact number</th>\n",
       "      <th>variation</th>\n",
       "      <th>verified_reviews</th>\n",
       "      <th>sentiment</th>\n",
       "      <th>feedback</th>\n",
       "    </tr>\n",
       "  </thead>\n",
       "  <tbody>\n",
       "    <tr>\n",
       "      <th>0</th>\n",
       "      <td>30-Jul-18</td>\n",
       "      <td>02:16:00</td>\n",
       "      <td>5138527</td>\n",
       "      <td>Theresa Diaz</td>\n",
       "      <td>2373 Long Mews\\nSouth Lorraine, FL 83715</td>\n",
       "      <td>7445448464</td>\n",
       "      <td>Black  Plus</td>\n",
       "      <td>Love my new Echo Plus</td>\n",
       "      <td>5</td>\n",
       "      <td>1</td>\n",
       "    </tr>\n",
       "    <tr>\n",
       "      <th>1</th>\n",
       "      <td>30-Jul-18</td>\n",
       "      <td>20:13:24</td>\n",
       "      <td>7881409</td>\n",
       "      <td>Michael Wagner</td>\n",
       "      <td>34120 James Well Apt. 930\\nSouth Kenneth, AK 5...</td>\n",
       "      <td>(202)233-6662</td>\n",
       "      <td>Configuration: Fire TV Stick</td>\n",
       "      <td>Works really well.</td>\n",
       "      <td>5</td>\n",
       "      <td>1</td>\n",
       "    </tr>\n",
       "    <tr>\n",
       "      <th>2</th>\n",
       "      <td>29-Jul-18</td>\n",
       "      <td>03:20:48</td>\n",
       "      <td>5658396</td>\n",
       "      <td>Erin Rodriguez</td>\n",
       "      <td>7996 Booth Mission\\nTaylorport, AL 13457</td>\n",
       "      <td>(219)882-0705</td>\n",
       "      <td>Black  Show</td>\n",
       "      <td>Echo Show is said to work with certain apps bu...</td>\n",
       "      <td>2</td>\n",
       "      <td>0</td>\n",
       "    </tr>\n",
       "    <tr>\n",
       "      <th>3</th>\n",
       "      <td>30-Jul-18</td>\n",
       "      <td>22:48:21</td>\n",
       "      <td>4317957</td>\n",
       "      <td>Christine Perez</td>\n",
       "      <td>USS Schaefer\\nFPO AA 86432</td>\n",
       "      <td>291-900-6087</td>\n",
       "      <td>Heather Gray Fabric</td>\n",
       "      <td>Very cool product. Speaker sounds good with my...</td>\n",
       "      <td>5</td>\n",
       "      <td>1</td>\n",
       "    </tr>\n",
       "    <tr>\n",
       "      <th>4</th>\n",
       "      <td>23-Jul-18</td>\n",
       "      <td>12:36:42</td>\n",
       "      <td>7570569</td>\n",
       "      <td>Jamie Davila</td>\n",
       "      <td>000 Kevin Cliffs Suite 674\\nBrennanview, NM 77690</td>\n",
       "      <td>9527296610</td>\n",
       "      <td>Black  Plus</td>\n",
       "      <td>So far I love it.  It was easy to set up - if ...</td>\n",
       "      <td>5</td>\n",
       "      <td>1</td>\n",
       "    </tr>\n",
       "  </tbody>\n",
       "</table>\n",
       "</div>"
      ],
      "text/plain": [
       "        date      time       id    reviewer name  \\\n",
       "0  30-Jul-18  02:16:00  5138527     Theresa Diaz   \n",
       "1  30-Jul-18  20:13:24  7881409   Michael Wagner   \n",
       "2  29-Jul-18  03:20:48  5658396   Erin Rodriguez   \n",
       "3  30-Jul-18  22:48:21  4317957  Christine Perez   \n",
       "4  23-Jul-18  12:36:42  7570569     Jamie Davila   \n",
       "\n",
       "                                    reviewer address contact number  \\\n",
       "0           2373 Long Mews\\nSouth Lorraine, FL 83715     7445448464   \n",
       "1  34120 James Well Apt. 930\\nSouth Kenneth, AK 5...  (202)233-6662   \n",
       "2           7996 Booth Mission\\nTaylorport, AL 13457  (219)882-0705   \n",
       "3                         USS Schaefer\\nFPO AA 86432   291-900-6087   \n",
       "4  000 Kevin Cliffs Suite 674\\nBrennanview, NM 77690     9527296610   \n",
       "\n",
       "                      variation  \\\n",
       "0                   Black  Plus   \n",
       "1  Configuration: Fire TV Stick   \n",
       "2                   Black  Show   \n",
       "3          Heather Gray Fabric    \n",
       "4                   Black  Plus   \n",
       "\n",
       "                                    verified_reviews  sentiment  feedback  \n",
       "0                              Love my new Echo Plus          5         1  \n",
       "1                                 Works really well.          5         1  \n",
       "2  Echo Show is said to work with certain apps bu...          2         0  \n",
       "3  Very cool product. Speaker sounds good with my...          5         1  \n",
       "4  So far I love it.  It was easy to set up - if ...          5         1  "
      ]
     },
     "execution_count": 42,
     "metadata": {},
     "output_type": "execute_result"
    }
   ],
   "source": [
    "# Read the dataset with name \"Emotion_classify_Data.csv\" and store it in a variable df\n",
    "columns = ['verified_reviews', 'sentiment', 'feedback']\n",
    "df = pd.read_csv('/kaggle/input/anyas-gojo-revival-space-shop/train.tsv', sep='\\t') #, names = columns\n",
    "\n",
    "# Print the shape of dataframe\n",
    "print(df.shape)\n",
    "\n",
    "# Print top 5 rows\n",
    "df.head(5)"
   ]
  },
  {
   "cell_type": "code",
   "execution_count": 43,
   "id": "0191deaa",
   "metadata": {
    "execution": {
     "iopub.execute_input": "2023-11-23T16:03:23.770649Z",
     "iopub.status.busy": "2023-11-23T16:03:23.770151Z",
     "iopub.status.idle": "2023-11-23T16:03:23.788261Z",
     "shell.execute_reply": "2023-11-23T16:03:23.786666Z"
    },
    "papermill": {
     "duration": 0.05587,
     "end_time": "2023-11-23T16:03:23.792093",
     "exception": false,
     "start_time": "2023-11-23T16:03:23.736223",
     "status": "completed"
    },
    "tags": []
   },
   "outputs": [
    {
     "name": "stdout",
     "output_type": "stream",
     "text": [
      "<class 'pandas.core.frame.DataFrame'>\n",
      "RangeIndex: 2520 entries, 0 to 2519\n",
      "Data columns (total 10 columns):\n",
      " #   Column            Non-Null Count  Dtype \n",
      "---  ------            --------------  ----- \n",
      " 0   date              2520 non-null   object\n",
      " 1   time              2520 non-null   object\n",
      " 2   id                2520 non-null   int64 \n",
      " 3   reviewer name     2520 non-null   object\n",
      " 4   reviewer address  2520 non-null   object\n",
      " 5   contact number    2520 non-null   object\n",
      " 6   variation         2520 non-null   object\n",
      " 7   verified_reviews  2519 non-null   object\n",
      " 8   sentiment         2520 non-null   int64 \n",
      " 9   feedback          2520 non-null   int64 \n",
      "dtypes: int64(3), object(7)\n",
      "memory usage: 197.0+ KB\n"
     ]
    }
   ],
   "source": [
    "df.info()"
   ]
  },
  {
   "cell_type": "code",
   "execution_count": 44,
   "id": "9183f904",
   "metadata": {
    "execution": {
     "iopub.execute_input": "2023-11-23T16:03:23.863114Z",
     "iopub.status.busy": "2023-11-23T16:03:23.862696Z",
     "iopub.status.idle": "2023-11-23T16:03:23.871503Z",
     "shell.execute_reply": "2023-11-23T16:03:23.870656Z"
    },
    "papermill": {
     "duration": 0.047116,
     "end_time": "2023-11-23T16:03:23.874655",
     "exception": false,
     "start_time": "2023-11-23T16:03:23.827539",
     "status": "completed"
    },
    "tags": []
   },
   "outputs": [
    {
     "data": {
      "text/plain": [
       "sentiment\n",
       "5    1816\n",
       "4     372\n",
       "1     131\n",
       "3     127\n",
       "2      74\n",
       "Name: count, dtype: int64"
      ]
     },
     "execution_count": 44,
     "metadata": {},
     "output_type": "execute_result"
    }
   ],
   "source": [
    "df['sentiment'].value_counts()"
   ]
  },
  {
   "cell_type": "code",
   "execution_count": 45,
   "id": "0214bcaf",
   "metadata": {
    "execution": {
     "iopub.execute_input": "2023-11-23T16:03:23.949736Z",
     "iopub.status.busy": "2023-11-23T16:03:23.949247Z",
     "iopub.status.idle": "2023-11-23T16:03:23.956182Z",
     "shell.execute_reply": "2023-11-23T16:03:23.954677Z"
    },
    "papermill": {
     "duration": 0.048158,
     "end_time": "2023-11-23T16:03:23.959145",
     "exception": false,
     "start_time": "2023-11-23T16:03:23.910987",
     "status": "completed"
    },
    "tags": []
   },
   "outputs": [],
   "source": [
    "#Todo: normalize values, 5 is too much :("
   ]
  },
  {
   "cell_type": "code",
   "execution_count": 46,
   "id": "91c7cd5f",
   "metadata": {
    "execution": {
     "iopub.execute_input": "2023-11-23T16:03:24.032890Z",
     "iopub.status.busy": "2023-11-23T16:03:24.032432Z",
     "iopub.status.idle": "2023-11-23T16:03:25.451841Z",
     "shell.execute_reply": "2023-11-23T16:03:25.449918Z"
    },
    "papermill": {
     "duration": 1.460653,
     "end_time": "2023-11-23T16:03:25.455304",
     "exception": false,
     "start_time": "2023-11-23T16:03:23.994651",
     "status": "completed"
    },
    "tags": []
   },
   "outputs": [],
   "source": [
    "nlp = spacy.load(\"en_core_web_sm\") "
   ]
  },
  {
   "cell_type": "code",
   "execution_count": 47,
   "id": "5eb4609b",
   "metadata": {
    "execution": {
     "iopub.execute_input": "2023-11-23T16:03:25.528994Z",
     "iopub.status.busy": "2023-11-23T16:03:25.528560Z",
     "iopub.status.idle": "2023-11-23T16:03:25.536233Z",
     "shell.execute_reply": "2023-11-23T16:03:25.534790Z"
    },
    "papermill": {
     "duration": 0.049112,
     "end_time": "2023-11-23T16:03:25.539410",
     "exception": false,
     "start_time": "2023-11-23T16:03:25.490298",
     "status": "completed"
    },
    "tags": []
   },
   "outputs": [],
   "source": [
    "# use this utility function to get the preprocessed text data\n",
    "def preprocess(text):\n",
    "    # remove stop words and lemmatize the text\n",
    "    doc = nlp(text)\n",
    "    filtered_tokens = []\n",
    "    for token in doc:\n",
    "        if token.is_stop or token.is_punct:\n",
    "            continue\n",
    "        filtered_tokens.append(token.lemma_)\n",
    "    \n",
    "    return \" \".join(filtered_tokens) "
   ]
  },
  {
   "cell_type": "code",
   "execution_count": 48,
   "id": "97a12388",
   "metadata": {
    "execution": {
     "iopub.execute_input": "2023-11-23T16:03:25.612874Z",
     "iopub.status.busy": "2023-11-23T16:03:25.612309Z",
     "iopub.status.idle": "2023-11-23T16:03:57.710557Z",
     "shell.execute_reply": "2023-11-23T16:03:57.708945Z"
    },
    "papermill": {
     "duration": 32.139309,
     "end_time": "2023-11-23T16:03:57.713989",
     "exception": false,
     "start_time": "2023-11-23T16:03:25.574680",
     "status": "completed"
    },
    "tags": []
   },
   "outputs": [],
   "source": [
    "df.verified_reviews=df.verified_reviews.astype(str)\n",
    "df['Preprocessed'] = df['verified_reviews'].apply(preprocess) "
   ]
  },
  {
   "cell_type": "code",
   "execution_count": 49,
   "id": "2e93f7bf",
   "metadata": {
    "execution": {
     "iopub.execute_input": "2023-11-23T16:03:57.783283Z",
     "iopub.status.busy": "2023-11-23T16:03:57.782862Z",
     "iopub.status.idle": "2023-11-23T16:03:57.808001Z",
     "shell.execute_reply": "2023-11-23T16:03:57.806424Z"
    },
    "papermill": {
     "duration": 0.063284,
     "end_time": "2023-11-23T16:03:57.810825",
     "exception": false,
     "start_time": "2023-11-23T16:03:57.747541",
     "status": "completed"
    },
    "tags": []
   },
   "outputs": [
    {
     "data": {
      "text/html": [
       "<div>\n",
       "<style scoped>\n",
       "    .dataframe tbody tr th:only-of-type {\n",
       "        vertical-align: middle;\n",
       "    }\n",
       "\n",
       "    .dataframe tbody tr th {\n",
       "        vertical-align: top;\n",
       "    }\n",
       "\n",
       "    .dataframe thead th {\n",
       "        text-align: right;\n",
       "    }\n",
       "</style>\n",
       "<table border=\"1\" class=\"dataframe\">\n",
       "  <thead>\n",
       "    <tr style=\"text-align: right;\">\n",
       "      <th></th>\n",
       "      <th>date</th>\n",
       "      <th>time</th>\n",
       "      <th>id</th>\n",
       "      <th>reviewer name</th>\n",
       "      <th>reviewer address</th>\n",
       "      <th>contact number</th>\n",
       "      <th>variation</th>\n",
       "      <th>verified_reviews</th>\n",
       "      <th>sentiment</th>\n",
       "      <th>feedback</th>\n",
       "      <th>Preprocessed</th>\n",
       "    </tr>\n",
       "  </thead>\n",
       "  <tbody>\n",
       "    <tr>\n",
       "      <th>0</th>\n",
       "      <td>30-Jul-18</td>\n",
       "      <td>02:16:00</td>\n",
       "      <td>5138527</td>\n",
       "      <td>Theresa Diaz</td>\n",
       "      <td>2373 Long Mews\\nSouth Lorraine, FL 83715</td>\n",
       "      <td>7445448464</td>\n",
       "      <td>Black  Plus</td>\n",
       "      <td>Love my new Echo Plus</td>\n",
       "      <td>5</td>\n",
       "      <td>1</td>\n",
       "      <td>love new Echo Plus</td>\n",
       "    </tr>\n",
       "    <tr>\n",
       "      <th>1</th>\n",
       "      <td>30-Jul-18</td>\n",
       "      <td>20:13:24</td>\n",
       "      <td>7881409</td>\n",
       "      <td>Michael Wagner</td>\n",
       "      <td>34120 James Well Apt. 930\\nSouth Kenneth, AK 5...</td>\n",
       "      <td>(202)233-6662</td>\n",
       "      <td>Configuration: Fire TV Stick</td>\n",
       "      <td>Works really well.</td>\n",
       "      <td>5</td>\n",
       "      <td>1</td>\n",
       "      <td>work</td>\n",
       "    </tr>\n",
       "    <tr>\n",
       "      <th>2</th>\n",
       "      <td>29-Jul-18</td>\n",
       "      <td>03:20:48</td>\n",
       "      <td>5658396</td>\n",
       "      <td>Erin Rodriguez</td>\n",
       "      <td>7996 Booth Mission\\nTaylorport, AL 13457</td>\n",
       "      <td>(219)882-0705</td>\n",
       "      <td>Black  Show</td>\n",
       "      <td>Echo Show is said to work with certain apps bu...</td>\n",
       "      <td>2</td>\n",
       "      <td>0</td>\n",
       "      <td>Echo say work certain app cozi state work Echo...</td>\n",
       "    </tr>\n",
       "    <tr>\n",
       "      <th>3</th>\n",
       "      <td>30-Jul-18</td>\n",
       "      <td>22:48:21</td>\n",
       "      <td>4317957</td>\n",
       "      <td>Christine Perez</td>\n",
       "      <td>USS Schaefer\\nFPO AA 86432</td>\n",
       "      <td>291-900-6087</td>\n",
       "      <td>Heather Gray Fabric</td>\n",
       "      <td>Very cool product. Speaker sounds good with my...</td>\n",
       "      <td>5</td>\n",
       "      <td>1</td>\n",
       "      <td>cool product Speaker sound good spotify blast</td>\n",
       "    </tr>\n",
       "    <tr>\n",
       "      <th>4</th>\n",
       "      <td>23-Jul-18</td>\n",
       "      <td>12:36:42</td>\n",
       "      <td>7570569</td>\n",
       "      <td>Jamie Davila</td>\n",
       "      <td>000 Kevin Cliffs Suite 674\\nBrennanview, NM 77690</td>\n",
       "      <td>9527296610</td>\n",
       "      <td>Black  Plus</td>\n",
       "      <td>So far I love it.  It was easy to set up - if ...</td>\n",
       "      <td>5</td>\n",
       "      <td>1</td>\n",
       "      <td>far love   easy set anybody   speaker great fu...</td>\n",
       "    </tr>\n",
       "    <tr>\n",
       "      <th>...</th>\n",
       "      <td>...</td>\n",
       "      <td>...</td>\n",
       "      <td>...</td>\n",
       "      <td>...</td>\n",
       "      <td>...</td>\n",
       "      <td>...</td>\n",
       "      <td>...</td>\n",
       "      <td>...</td>\n",
       "      <td>...</td>\n",
       "      <td>...</td>\n",
       "      <td>...</td>\n",
       "    </tr>\n",
       "    <tr>\n",
       "      <th>2515</th>\n",
       "      <td>12-Jun-18</td>\n",
       "      <td>14:34:57</td>\n",
       "      <td>40769</td>\n",
       "      <td>Dennis Wells</td>\n",
       "      <td>416 Murphy Hill Suite 083\\nPort Garyshire, RI ...</td>\n",
       "      <td>4454701228</td>\n",
       "      <td>Black</td>\n",
       "      <td>Bought this for my son and it didn’t work. He ...</td>\n",
       "      <td>1</td>\n",
       "      <td>0</td>\n",
       "      <td>buy son work return</td>\n",
       "    </tr>\n",
       "    <tr>\n",
       "      <th>2516</th>\n",
       "      <td>30-Jul-18</td>\n",
       "      <td>21:46:21</td>\n",
       "      <td>7343959</td>\n",
       "      <td>Jennifer Lutz</td>\n",
       "      <td>46716 Jackson Common Suite 050\\nWest Stephen, ...</td>\n",
       "      <td>(798)227-0483</td>\n",
       "      <td>Black  Dot</td>\n",
       "      <td>Alexa is phenomenal!</td>\n",
       "      <td>5</td>\n",
       "      <td>1</td>\n",
       "      <td>Alexa phenomenal</td>\n",
       "    </tr>\n",
       "    <tr>\n",
       "      <th>2517</th>\n",
       "      <td>30-Jul-18</td>\n",
       "      <td>14:57:44</td>\n",
       "      <td>2100710</td>\n",
       "      <td>Kevin Hanson</td>\n",
       "      <td>724 Miller Center Apt. 352\\nSouth Maurice, ND ...</td>\n",
       "      <td>(472)841-0473</td>\n",
       "      <td>Heather Gray Fabric</td>\n",
       "      <td>The sound is amazing and many collections of a...</td>\n",
       "      <td>5</td>\n",
       "      <td>1</td>\n",
       "      <td>sound amazing collection music</td>\n",
       "    </tr>\n",
       "    <tr>\n",
       "      <th>2518</th>\n",
       "      <td>28-Jul-18</td>\n",
       "      <td>18:09:07</td>\n",
       "      <td>6703141</td>\n",
       "      <td>Justin Schneider</td>\n",
       "      <td>149 Hall Valleys Suite 629\\nBryantown, NV 69983</td>\n",
       "      <td>270-658-6063</td>\n",
       "      <td>Black  Show</td>\n",
       "      <td>Love how it shows the song info on the screen ...</td>\n",
       "      <td>5</td>\n",
       "      <td>1</td>\n",
       "      <td>love show song info screen play time notificat...</td>\n",
       "    </tr>\n",
       "    <tr>\n",
       "      <th>2519</th>\n",
       "      <td>30-Jul-18</td>\n",
       "      <td>03:01:49</td>\n",
       "      <td>8475950</td>\n",
       "      <td>Danielle Castro</td>\n",
       "      <td>2899 Connie Springs Suite 598\\nBridgesborough,...</td>\n",
       "      <td>8863140484</td>\n",
       "      <td>Black  Dot</td>\n",
       "      <td>It works just like my other Dots.</td>\n",
       "      <td>5</td>\n",
       "      <td>1</td>\n",
       "      <td>work like Dots</td>\n",
       "    </tr>\n",
       "  </tbody>\n",
       "</table>\n",
       "<p>2520 rows × 11 columns</p>\n",
       "</div>"
      ],
      "text/plain": [
       "           date      time       id     reviewer name  \\\n",
       "0     30-Jul-18  02:16:00  5138527      Theresa Diaz   \n",
       "1     30-Jul-18  20:13:24  7881409    Michael Wagner   \n",
       "2     29-Jul-18  03:20:48  5658396    Erin Rodriguez   \n",
       "3     30-Jul-18  22:48:21  4317957   Christine Perez   \n",
       "4     23-Jul-18  12:36:42  7570569      Jamie Davila   \n",
       "...         ...       ...      ...               ...   \n",
       "2515  12-Jun-18  14:34:57    40769      Dennis Wells   \n",
       "2516  30-Jul-18  21:46:21  7343959     Jennifer Lutz   \n",
       "2517  30-Jul-18  14:57:44  2100710      Kevin Hanson   \n",
       "2518  28-Jul-18  18:09:07  6703141  Justin Schneider   \n",
       "2519  30-Jul-18  03:01:49  8475950   Danielle Castro   \n",
       "\n",
       "                                       reviewer address contact number  \\\n",
       "0              2373 Long Mews\\nSouth Lorraine, FL 83715     7445448464   \n",
       "1     34120 James Well Apt. 930\\nSouth Kenneth, AK 5...  (202)233-6662   \n",
       "2              7996 Booth Mission\\nTaylorport, AL 13457  (219)882-0705   \n",
       "3                            USS Schaefer\\nFPO AA 86432   291-900-6087   \n",
       "4     000 Kevin Cliffs Suite 674\\nBrennanview, NM 77690     9527296610   \n",
       "...                                                 ...            ...   \n",
       "2515  416 Murphy Hill Suite 083\\nPort Garyshire, RI ...     4454701228   \n",
       "2516  46716 Jackson Common Suite 050\\nWest Stephen, ...  (798)227-0483   \n",
       "2517  724 Miller Center Apt. 352\\nSouth Maurice, ND ...  (472)841-0473   \n",
       "2518    149 Hall Valleys Suite 629\\nBryantown, NV 69983   270-658-6063   \n",
       "2519  2899 Connie Springs Suite 598\\nBridgesborough,...     8863140484   \n",
       "\n",
       "                         variation  \\\n",
       "0                      Black  Plus   \n",
       "1     Configuration: Fire TV Stick   \n",
       "2                      Black  Show   \n",
       "3             Heather Gray Fabric    \n",
       "4                      Black  Plus   \n",
       "...                            ...   \n",
       "2515                         Black   \n",
       "2516                    Black  Dot   \n",
       "2517          Heather Gray Fabric    \n",
       "2518                   Black  Show   \n",
       "2519                    Black  Dot   \n",
       "\n",
       "                                       verified_reviews  sentiment  feedback  \\\n",
       "0                                 Love my new Echo Plus          5         1   \n",
       "1                                    Works really well.          5         1   \n",
       "2     Echo Show is said to work with certain apps bu...          2         0   \n",
       "3     Very cool product. Speaker sounds good with my...          5         1   \n",
       "4     So far I love it.  It was easy to set up - if ...          5         1   \n",
       "...                                                 ...        ...       ...   \n",
       "2515  Bought this for my son and it didn’t work. He ...          1         0   \n",
       "2516                               Alexa is phenomenal!          5         1   \n",
       "2517  The sound is amazing and many collections of a...          5         1   \n",
       "2518  Love how it shows the song info on the screen ...          5         1   \n",
       "2519                  It works just like my other Dots.          5         1   \n",
       "\n",
       "                                           Preprocessed  \n",
       "0                                    love new Echo Plus  \n",
       "1                                                  work  \n",
       "2     Echo say work certain app cozi state work Echo...  \n",
       "3         cool product Speaker sound good spotify blast  \n",
       "4     far love   easy set anybody   speaker great fu...  \n",
       "...                                                 ...  \n",
       "2515                                buy son work return  \n",
       "2516                                   Alexa phenomenal  \n",
       "2517                     sound amazing collection music  \n",
       "2518  love show song info screen play time notificat...  \n",
       "2519                                     work like Dots  \n",
       "\n",
       "[2520 rows x 11 columns]"
      ]
     },
     "execution_count": 49,
     "metadata": {},
     "output_type": "execute_result"
    }
   ],
   "source": [
    "df"
   ]
  },
  {
   "cell_type": "code",
   "execution_count": 50,
   "id": "50d946f1",
   "metadata": {
    "execution": {
     "iopub.execute_input": "2023-11-23T16:03:57.881616Z",
     "iopub.status.busy": "2023-11-23T16:03:57.881125Z",
     "iopub.status.idle": "2023-11-23T16:03:57.886989Z",
     "shell.execute_reply": "2023-11-23T16:03:57.885322Z"
    },
    "papermill": {
     "duration": 0.0437,
     "end_time": "2023-11-23T16:03:57.889720",
     "exception": false,
     "start_time": "2023-11-23T16:03:57.846020",
     "status": "completed"
    },
    "tags": []
   },
   "outputs": [],
   "source": [
    "le_model = LabelEncoder()\n",
    "# df['sentiment'] = le_model.fit_transform(df['sentiment'])"
   ]
  },
  {
   "cell_type": "code",
   "execution_count": 51,
   "id": "975826fa",
   "metadata": {
    "execution": {
     "iopub.execute_input": "2023-11-23T16:03:57.960340Z",
     "iopub.status.busy": "2023-11-23T16:03:57.959148Z",
     "iopub.status.idle": "2023-11-23T16:03:57.974413Z",
     "shell.execute_reply": "2023-11-23T16:03:57.972904Z"
    },
    "papermill": {
     "duration": 0.054204,
     "end_time": "2023-11-23T16:03:57.977414",
     "exception": false,
     "start_time": "2023-11-23T16:03:57.923210",
     "status": "completed"
    },
    "tags": []
   },
   "outputs": [],
   "source": [
    "X_train, X_test, y_train, y_test = train_test_split(df['Preprocessed'], df['sentiment'], \n",
    "                                                    test_size=0.2, random_state=42, stratify=df['sentiment'])"
   ]
  },
  {
   "cell_type": "code",
   "execution_count": 52,
   "id": "cb1afa6c",
   "metadata": {
    "execution": {
     "iopub.execute_input": "2023-11-23T16:03:58.050635Z",
     "iopub.status.busy": "2023-11-23T16:03:58.049381Z",
     "iopub.status.idle": "2023-11-23T16:03:58.058670Z",
     "shell.execute_reply": "2023-11-23T16:03:58.056848Z"
    },
    "papermill": {
     "duration": 0.049101,
     "end_time": "2023-11-23T16:03:58.061264",
     "exception": false,
     "start_time": "2023-11-23T16:03:58.012163",
     "status": "completed"
    },
    "tags": []
   },
   "outputs": [
    {
     "name": "stdout",
     "output_type": "stream",
     "text": [
      "Shape of X_train:  (2016,)\n",
      "Shape of X_test:  (504,)\n"
     ]
    }
   ],
   "source": [
    "print(\"Shape of X_train: \", X_train.shape)\n",
    "print(\"Shape of X_test: \", X_test.shape)"
   ]
  },
  {
   "cell_type": "code",
   "execution_count": 53,
   "id": "5cdefe60",
   "metadata": {
    "execution": {
     "iopub.execute_input": "2023-11-23T16:03:58.134704Z",
     "iopub.status.busy": "2023-11-23T16:03:58.134068Z",
     "iopub.status.idle": "2023-11-23T16:03:58.140827Z",
     "shell.execute_reply": "2023-11-23T16:03:58.139475Z"
    },
    "papermill": {
     "duration": 0.046419,
     "end_time": "2023-11-23T16:03:58.143271",
     "exception": false,
     "start_time": "2023-11-23T16:03:58.096852",
     "status": "completed"
    },
    "tags": []
   },
   "outputs": [],
   "source": [
    "# Create classifier\n",
    "clf = Pipeline([\n",
    "    ('vectorizer_tri_grams', TfidfVectorizer()),\n",
    "    ('naive_bayes', (MultinomialNB()))         \n",
    "])"
   ]
  },
  {
   "cell_type": "code",
   "execution_count": 54,
   "id": "5f2f30a5",
   "metadata": {
    "execution": {
     "iopub.execute_input": "2023-11-23T16:03:58.214134Z",
     "iopub.status.busy": "2023-11-23T16:03:58.213526Z",
     "iopub.status.idle": "2023-11-23T16:03:58.285152Z",
     "shell.execute_reply": "2023-11-23T16:03:58.283983Z"
    },
    "papermill": {
     "duration": 0.110701,
     "end_time": "2023-11-23T16:03:58.287943",
     "exception": false,
     "start_time": "2023-11-23T16:03:58.177242",
     "status": "completed"
    },
    "tags": []
   },
   "outputs": [
    {
     "data": {
      "text/html": [
       "<style>#sk-container-id-3 {color: black;background-color: white;}#sk-container-id-3 pre{padding: 0;}#sk-container-id-3 div.sk-toggleable {background-color: white;}#sk-container-id-3 label.sk-toggleable__label {cursor: pointer;display: block;width: 100%;margin-bottom: 0;padding: 0.3em;box-sizing: border-box;text-align: center;}#sk-container-id-3 label.sk-toggleable__label-arrow:before {content: \"▸\";float: left;margin-right: 0.25em;color: #696969;}#sk-container-id-3 label.sk-toggleable__label-arrow:hover:before {color: black;}#sk-container-id-3 div.sk-estimator:hover label.sk-toggleable__label-arrow:before {color: black;}#sk-container-id-3 div.sk-toggleable__content {max-height: 0;max-width: 0;overflow: hidden;text-align: left;background-color: #f0f8ff;}#sk-container-id-3 div.sk-toggleable__content pre {margin: 0.2em;color: black;border-radius: 0.25em;background-color: #f0f8ff;}#sk-container-id-3 input.sk-toggleable__control:checked~div.sk-toggleable__content {max-height: 200px;max-width: 100%;overflow: auto;}#sk-container-id-3 input.sk-toggleable__control:checked~label.sk-toggleable__label-arrow:before {content: \"▾\";}#sk-container-id-3 div.sk-estimator input.sk-toggleable__control:checked~label.sk-toggleable__label {background-color: #d4ebff;}#sk-container-id-3 div.sk-label input.sk-toggleable__control:checked~label.sk-toggleable__label {background-color: #d4ebff;}#sk-container-id-3 input.sk-hidden--visually {border: 0;clip: rect(1px 1px 1px 1px);clip: rect(1px, 1px, 1px, 1px);height: 1px;margin: -1px;overflow: hidden;padding: 0;position: absolute;width: 1px;}#sk-container-id-3 div.sk-estimator {font-family: monospace;background-color: #f0f8ff;border: 1px dotted black;border-radius: 0.25em;box-sizing: border-box;margin-bottom: 0.5em;}#sk-container-id-3 div.sk-estimator:hover {background-color: #d4ebff;}#sk-container-id-3 div.sk-parallel-item::after {content: \"\";width: 100%;border-bottom: 1px solid gray;flex-grow: 1;}#sk-container-id-3 div.sk-label:hover label.sk-toggleable__label {background-color: #d4ebff;}#sk-container-id-3 div.sk-serial::before {content: \"\";position: absolute;border-left: 1px solid gray;box-sizing: border-box;top: 0;bottom: 0;left: 50%;z-index: 0;}#sk-container-id-3 div.sk-serial {display: flex;flex-direction: column;align-items: center;background-color: white;padding-right: 0.2em;padding-left: 0.2em;position: relative;}#sk-container-id-3 div.sk-item {position: relative;z-index: 1;}#sk-container-id-3 div.sk-parallel {display: flex;align-items: stretch;justify-content: center;background-color: white;position: relative;}#sk-container-id-3 div.sk-item::before, #sk-container-id-3 div.sk-parallel-item::before {content: \"\";position: absolute;border-left: 1px solid gray;box-sizing: border-box;top: 0;bottom: 0;left: 50%;z-index: -1;}#sk-container-id-3 div.sk-parallel-item {display: flex;flex-direction: column;z-index: 1;position: relative;background-color: white;}#sk-container-id-3 div.sk-parallel-item:first-child::after {align-self: flex-end;width: 50%;}#sk-container-id-3 div.sk-parallel-item:last-child::after {align-self: flex-start;width: 50%;}#sk-container-id-3 div.sk-parallel-item:only-child::after {width: 0;}#sk-container-id-3 div.sk-dashed-wrapped {border: 1px dashed gray;margin: 0 0.4em 0.5em 0.4em;box-sizing: border-box;padding-bottom: 0.4em;background-color: white;}#sk-container-id-3 div.sk-label label {font-family: monospace;font-weight: bold;display: inline-block;line-height: 1.2em;}#sk-container-id-3 div.sk-label-container {text-align: center;}#sk-container-id-3 div.sk-container {/* jupyter's `normalize.less` sets `[hidden] { display: none; }` but bootstrap.min.css set `[hidden] { display: none !important; }` so we also need the `!important` here to be able to override the default hidden behavior on the sphinx rendered scikit-learn.org. See: https://github.com/scikit-learn/scikit-learn/issues/21755 */display: inline-block !important;position: relative;}#sk-container-id-3 div.sk-text-repr-fallback {display: none;}</style><div id=\"sk-container-id-3\" class=\"sk-top-container\"><div class=\"sk-text-repr-fallback\"><pre>Pipeline(steps=[(&#x27;vectorizer_tri_grams&#x27;, TfidfVectorizer()),\n",
       "                (&#x27;naive_bayes&#x27;, MultinomialNB())])</pre><b>In a Jupyter environment, please rerun this cell to show the HTML representation or trust the notebook. <br />On GitHub, the HTML representation is unable to render, please try loading this page with nbviewer.org.</b></div><div class=\"sk-container\" hidden><div class=\"sk-item sk-dashed-wrapped\"><div class=\"sk-label-container\"><div class=\"sk-label sk-toggleable\"><input class=\"sk-toggleable__control sk-hidden--visually\" id=\"sk-estimator-id-5\" type=\"checkbox\" ><label for=\"sk-estimator-id-5\" class=\"sk-toggleable__label sk-toggleable__label-arrow\">Pipeline</label><div class=\"sk-toggleable__content\"><pre>Pipeline(steps=[(&#x27;vectorizer_tri_grams&#x27;, TfidfVectorizer()),\n",
       "                (&#x27;naive_bayes&#x27;, MultinomialNB())])</pre></div></div></div><div class=\"sk-serial\"><div class=\"sk-item\"><div class=\"sk-estimator sk-toggleable\"><input class=\"sk-toggleable__control sk-hidden--visually\" id=\"sk-estimator-id-6\" type=\"checkbox\" ><label for=\"sk-estimator-id-6\" class=\"sk-toggleable__label sk-toggleable__label-arrow\">TfidfVectorizer</label><div class=\"sk-toggleable__content\"><pre>TfidfVectorizer()</pre></div></div></div><div class=\"sk-item\"><div class=\"sk-estimator sk-toggleable\"><input class=\"sk-toggleable__control sk-hidden--visually\" id=\"sk-estimator-id-7\" type=\"checkbox\" ><label for=\"sk-estimator-id-7\" class=\"sk-toggleable__label sk-toggleable__label-arrow\">MultinomialNB</label><div class=\"sk-toggleable__content\"><pre>MultinomialNB()</pre></div></div></div></div></div></div></div>"
      ],
      "text/plain": [
       "Pipeline(steps=[('vectorizer_tri_grams', TfidfVectorizer()),\n",
       "                ('naive_bayes', MultinomialNB())])"
      ]
     },
     "execution_count": 54,
     "metadata": {},
     "output_type": "execute_result"
    }
   ],
   "source": [
    "clf.fit(X_train, y_train)"
   ]
  },
  {
   "cell_type": "code",
   "execution_count": 55,
   "id": "51b66415",
   "metadata": {
    "execution": {
     "iopub.execute_input": "2023-11-23T16:03:58.362889Z",
     "iopub.status.busy": "2023-11-23T16:03:58.362102Z",
     "iopub.status.idle": "2023-11-23T16:03:58.395746Z",
     "shell.execute_reply": "2023-11-23T16:03:58.393904Z"
    },
    "papermill": {
     "duration": 0.07474,
     "end_time": "2023-11-23T16:03:58.398487",
     "exception": false,
     "start_time": "2023-11-23T16:03:58.323747",
     "status": "completed"
    },
    "tags": []
   },
   "outputs": [
    {
     "name": "stdout",
     "output_type": "stream",
     "text": [
      "0.7202380952380952\n",
      "              precision    recall  f1-score   support\n",
      "\n",
      "           1       0.00      0.00      0.00        26\n",
      "           2       0.00      0.00      0.00        15\n",
      "           3       0.00      0.00      0.00        26\n",
      "           4       0.00      0.00      0.00        74\n",
      "           5       0.72      1.00      0.84       363\n",
      "\n",
      "    accuracy                           0.72       504\n",
      "   macro avg       0.14      0.20      0.17       504\n",
      "weighted avg       0.52      0.72      0.60       504\n",
      "\n"
     ]
    }
   ],
   "source": [
    "y_pred = clf.predict(X_test)\n",
    "print(accuracy_score(y_test, y_pred))\n",
    "\n",
    "# Print classification report\n",
    "print(classification_report(y_test, y_pred))"
   ]
  },
  {
   "cell_type": "code",
   "execution_count": 56,
   "id": "6c602f8f",
   "metadata": {
    "execution": {
     "iopub.execute_input": "2023-11-23T16:03:58.477274Z",
     "iopub.status.busy": "2023-11-23T16:03:58.476041Z",
     "iopub.status.idle": "2023-11-23T16:03:58.482219Z",
     "shell.execute_reply": "2023-11-23T16:03:58.481248Z"
    },
    "papermill": {
     "duration": 0.049909,
     "end_time": "2023-11-23T16:03:58.485217",
     "exception": false,
     "start_time": "2023-11-23T16:03:58.435308",
     "status": "completed"
    },
    "tags": []
   },
   "outputs": [],
   "source": [
    "clf = Pipeline([\n",
    "    ('vectorizer_tri_grams', TfidfVectorizer()),\n",
    "    ('naive_bayes', (RandomForestClassifier()))         \n",
    "])"
   ]
  },
  {
   "cell_type": "code",
   "execution_count": 57,
   "id": "93f5ff9c",
   "metadata": {
    "execution": {
     "iopub.execute_input": "2023-11-23T16:03:58.562324Z",
     "iopub.status.busy": "2023-11-23T16:03:58.561602Z",
     "iopub.status.idle": "2023-11-23T16:04:00.105406Z",
     "shell.execute_reply": "2023-11-23T16:04:00.103787Z"
    },
    "papermill": {
     "duration": 1.586056,
     "end_time": "2023-11-23T16:04:00.108499",
     "exception": false,
     "start_time": "2023-11-23T16:03:58.522443",
     "status": "completed"
    },
    "tags": []
   },
   "outputs": [
    {
     "data": {
      "text/html": [
       "<style>#sk-container-id-4 {color: black;background-color: white;}#sk-container-id-4 pre{padding: 0;}#sk-container-id-4 div.sk-toggleable {background-color: white;}#sk-container-id-4 label.sk-toggleable__label {cursor: pointer;display: block;width: 100%;margin-bottom: 0;padding: 0.3em;box-sizing: border-box;text-align: center;}#sk-container-id-4 label.sk-toggleable__label-arrow:before {content: \"▸\";float: left;margin-right: 0.25em;color: #696969;}#sk-container-id-4 label.sk-toggleable__label-arrow:hover:before {color: black;}#sk-container-id-4 div.sk-estimator:hover label.sk-toggleable__label-arrow:before {color: black;}#sk-container-id-4 div.sk-toggleable__content {max-height: 0;max-width: 0;overflow: hidden;text-align: left;background-color: #f0f8ff;}#sk-container-id-4 div.sk-toggleable__content pre {margin: 0.2em;color: black;border-radius: 0.25em;background-color: #f0f8ff;}#sk-container-id-4 input.sk-toggleable__control:checked~div.sk-toggleable__content {max-height: 200px;max-width: 100%;overflow: auto;}#sk-container-id-4 input.sk-toggleable__control:checked~label.sk-toggleable__label-arrow:before {content: \"▾\";}#sk-container-id-4 div.sk-estimator input.sk-toggleable__control:checked~label.sk-toggleable__label {background-color: #d4ebff;}#sk-container-id-4 div.sk-label input.sk-toggleable__control:checked~label.sk-toggleable__label {background-color: #d4ebff;}#sk-container-id-4 input.sk-hidden--visually {border: 0;clip: rect(1px 1px 1px 1px);clip: rect(1px, 1px, 1px, 1px);height: 1px;margin: -1px;overflow: hidden;padding: 0;position: absolute;width: 1px;}#sk-container-id-4 div.sk-estimator {font-family: monospace;background-color: #f0f8ff;border: 1px dotted black;border-radius: 0.25em;box-sizing: border-box;margin-bottom: 0.5em;}#sk-container-id-4 div.sk-estimator:hover {background-color: #d4ebff;}#sk-container-id-4 div.sk-parallel-item::after {content: \"\";width: 100%;border-bottom: 1px solid gray;flex-grow: 1;}#sk-container-id-4 div.sk-label:hover label.sk-toggleable__label {background-color: #d4ebff;}#sk-container-id-4 div.sk-serial::before {content: \"\";position: absolute;border-left: 1px solid gray;box-sizing: border-box;top: 0;bottom: 0;left: 50%;z-index: 0;}#sk-container-id-4 div.sk-serial {display: flex;flex-direction: column;align-items: center;background-color: white;padding-right: 0.2em;padding-left: 0.2em;position: relative;}#sk-container-id-4 div.sk-item {position: relative;z-index: 1;}#sk-container-id-4 div.sk-parallel {display: flex;align-items: stretch;justify-content: center;background-color: white;position: relative;}#sk-container-id-4 div.sk-item::before, #sk-container-id-4 div.sk-parallel-item::before {content: \"\";position: absolute;border-left: 1px solid gray;box-sizing: border-box;top: 0;bottom: 0;left: 50%;z-index: -1;}#sk-container-id-4 div.sk-parallel-item {display: flex;flex-direction: column;z-index: 1;position: relative;background-color: white;}#sk-container-id-4 div.sk-parallel-item:first-child::after {align-self: flex-end;width: 50%;}#sk-container-id-4 div.sk-parallel-item:last-child::after {align-self: flex-start;width: 50%;}#sk-container-id-4 div.sk-parallel-item:only-child::after {width: 0;}#sk-container-id-4 div.sk-dashed-wrapped {border: 1px dashed gray;margin: 0 0.4em 0.5em 0.4em;box-sizing: border-box;padding-bottom: 0.4em;background-color: white;}#sk-container-id-4 div.sk-label label {font-family: monospace;font-weight: bold;display: inline-block;line-height: 1.2em;}#sk-container-id-4 div.sk-label-container {text-align: center;}#sk-container-id-4 div.sk-container {/* jupyter's `normalize.less` sets `[hidden] { display: none; }` but bootstrap.min.css set `[hidden] { display: none !important; }` so we also need the `!important` here to be able to override the default hidden behavior on the sphinx rendered scikit-learn.org. See: https://github.com/scikit-learn/scikit-learn/issues/21755 */display: inline-block !important;position: relative;}#sk-container-id-4 div.sk-text-repr-fallback {display: none;}</style><div id=\"sk-container-id-4\" class=\"sk-top-container\"><div class=\"sk-text-repr-fallback\"><pre>Pipeline(steps=[(&#x27;vectorizer_tri_grams&#x27;, TfidfVectorizer()),\n",
       "                (&#x27;naive_bayes&#x27;, RandomForestClassifier())])</pre><b>In a Jupyter environment, please rerun this cell to show the HTML representation or trust the notebook. <br />On GitHub, the HTML representation is unable to render, please try loading this page with nbviewer.org.</b></div><div class=\"sk-container\" hidden><div class=\"sk-item sk-dashed-wrapped\"><div class=\"sk-label-container\"><div class=\"sk-label sk-toggleable\"><input class=\"sk-toggleable__control sk-hidden--visually\" id=\"sk-estimator-id-8\" type=\"checkbox\" ><label for=\"sk-estimator-id-8\" class=\"sk-toggleable__label sk-toggleable__label-arrow\">Pipeline</label><div class=\"sk-toggleable__content\"><pre>Pipeline(steps=[(&#x27;vectorizer_tri_grams&#x27;, TfidfVectorizer()),\n",
       "                (&#x27;naive_bayes&#x27;, RandomForestClassifier())])</pre></div></div></div><div class=\"sk-serial\"><div class=\"sk-item\"><div class=\"sk-estimator sk-toggleable\"><input class=\"sk-toggleable__control sk-hidden--visually\" id=\"sk-estimator-id-9\" type=\"checkbox\" ><label for=\"sk-estimator-id-9\" class=\"sk-toggleable__label sk-toggleable__label-arrow\">TfidfVectorizer</label><div class=\"sk-toggleable__content\"><pre>TfidfVectorizer()</pre></div></div></div><div class=\"sk-item\"><div class=\"sk-estimator sk-toggleable\"><input class=\"sk-toggleable__control sk-hidden--visually\" id=\"sk-estimator-id-10\" type=\"checkbox\" ><label for=\"sk-estimator-id-10\" class=\"sk-toggleable__label sk-toggleable__label-arrow\">RandomForestClassifier</label><div class=\"sk-toggleable__content\"><pre>RandomForestClassifier()</pre></div></div></div></div></div></div></div>"
      ],
      "text/plain": [
       "Pipeline(steps=[('vectorizer_tri_grams', TfidfVectorizer()),\n",
       "                ('naive_bayes', RandomForestClassifier())])"
      ]
     },
     "execution_count": 57,
     "metadata": {},
     "output_type": "execute_result"
    }
   ],
   "source": [
    "clf.fit(X_train, y_train)"
   ]
  },
  {
   "cell_type": "code",
   "execution_count": 58,
   "id": "499e8551",
   "metadata": {
    "execution": {
     "iopub.execute_input": "2023-11-23T16:04:00.184796Z",
     "iopub.status.busy": "2023-11-23T16:04:00.182955Z",
     "iopub.status.idle": "2023-11-23T16:04:00.257423Z",
     "shell.execute_reply": "2023-11-23T16:04:00.255963Z"
    },
    "papermill": {
     "duration": 0.116729,
     "end_time": "2023-11-23T16:04:00.260495",
     "exception": false,
     "start_time": "2023-11-23T16:04:00.143766",
     "status": "completed"
    },
    "tags": []
   },
   "outputs": [
    {
     "name": "stdout",
     "output_type": "stream",
     "text": [
      "0.8174603174603174\n",
      "              precision    recall  f1-score   support\n",
      "\n",
      "           1       0.75      0.35      0.47        26\n",
      "           2       1.00      0.27      0.42        15\n",
      "           3       1.00      0.35      0.51        26\n",
      "           4       0.83      0.41      0.55        74\n",
      "           5       0.81      0.99      0.89       363\n",
      "\n",
      "    accuracy                           0.82       504\n",
      "   macro avg       0.88      0.47      0.57       504\n",
      "weighted avg       0.83      0.82      0.79       504\n",
      "\n"
     ]
    }
   ],
   "source": [
    "y_pred = clf.predict(X_test)\n",
    "print(accuracy_score(y_test, y_pred))\n",
    "\n",
    "print(classification_report(y_test, y_pred))"
   ]
  },
  {
   "cell_type": "code",
   "execution_count": 59,
   "id": "ce56ecea",
   "metadata": {
    "execution": {
     "iopub.execute_input": "2023-11-23T16:04:00.333179Z",
     "iopub.status.busy": "2023-11-23T16:04:00.332380Z",
     "iopub.status.idle": "2023-11-23T16:04:00.364863Z",
     "shell.execute_reply": "2023-11-23T16:04:00.363542Z"
    },
    "papermill": {
     "duration": 0.073219,
     "end_time": "2023-11-23T16:04:00.368134",
     "exception": false,
     "start_time": "2023-11-23T16:04:00.294915",
     "status": "completed"
    },
    "tags": []
   },
   "outputs": [
    {
     "data": {
      "text/html": [
       "<div>\n",
       "<style scoped>\n",
       "    .dataframe tbody tr th:only-of-type {\n",
       "        vertical-align: middle;\n",
       "    }\n",
       "\n",
       "    .dataframe tbody tr th {\n",
       "        vertical-align: top;\n",
       "    }\n",
       "\n",
       "    .dataframe thead th {\n",
       "        text-align: right;\n",
       "    }\n",
       "</style>\n",
       "<table border=\"1\" class=\"dataframe\">\n",
       "  <thead>\n",
       "    <tr style=\"text-align: right;\">\n",
       "      <th></th>\n",
       "      <th>date</th>\n",
       "      <th>time</th>\n",
       "      <th>id</th>\n",
       "      <th>reviewer name</th>\n",
       "      <th>reviewer address</th>\n",
       "      <th>contact number</th>\n",
       "      <th>variation</th>\n",
       "      <th>verified_reviews</th>\n",
       "      <th>feedback</th>\n",
       "    </tr>\n",
       "  </thead>\n",
       "  <tbody>\n",
       "    <tr>\n",
       "      <th>0</th>\n",
       "      <td>29-Jul-18</td>\n",
       "      <td>16:47:11</td>\n",
       "      <td>6074908</td>\n",
       "      <td>Russell Hensley</td>\n",
       "      <td>9059 Morales Run Suite 912\\nSouth Charles, MH ...</td>\n",
       "      <td>6932290613</td>\n",
       "      <td>Heather Gray Fabric</td>\n",
       "      <td>I have the original Alexa and the Tap and so f...</td>\n",
       "      <td>1</td>\n",
       "    </tr>\n",
       "    <tr>\n",
       "      <th>1</th>\n",
       "      <td>28-Jul-18</td>\n",
       "      <td>17:49:58</td>\n",
       "      <td>1159008</td>\n",
       "      <td>Adam Baxter</td>\n",
       "      <td>13728 Jones Mission Apt. 526\\nSouth Tylerfurt,...</td>\n",
       "      <td>385-994-9458</td>\n",
       "      <td>Black  Plus</td>\n",
       "      <td>Great product. More skills are needed. I love it.</td>\n",
       "      <td>1</td>\n",
       "    </tr>\n",
       "    <tr>\n",
       "      <th>2</th>\n",
       "      <td>30-Jul-18</td>\n",
       "      <td>16:46:29</td>\n",
       "      <td>1759753</td>\n",
       "      <td>Sarah Contreras</td>\n",
       "      <td>7113 Pratt Plains\\nPalmermouth, IN 02370</td>\n",
       "      <td>(738)354-8387</td>\n",
       "      <td>Configuration: Fire TV Stick</td>\n",
       "      <td>I will never buy anything Amazon makes again!T...</td>\n",
       "      <td>0</td>\n",
       "    </tr>\n",
       "    <tr>\n",
       "      <th>3</th>\n",
       "      <td>29-Jul-18</td>\n",
       "      <td>19:23:32</td>\n",
       "      <td>1861422</td>\n",
       "      <td>Tim Castillo</td>\n",
       "      <td>93586 Cook Union Apt. 080\\nMorganmouth, WI 51175</td>\n",
       "      <td>(294)877-6223</td>\n",
       "      <td>Black  Plus</td>\n",
       "      <td>Not perfect but very good! A few times Alexa p...</td>\n",
       "      <td>1</td>\n",
       "    </tr>\n",
       "    <tr>\n",
       "      <th>4</th>\n",
       "      <td>28-Jul-18</td>\n",
       "      <td>16:15:25</td>\n",
       "      <td>3116018</td>\n",
       "      <td>Barry Young</td>\n",
       "      <td>69809 Harrington Meadows Apt. 256\\nLake Courtn...</td>\n",
       "      <td>262-863-1391</td>\n",
       "      <td>Black  Show</td>\n",
       "      <td>Kids like it for games.  Showing the lyrics fo...</td>\n",
       "      <td>1</td>\n",
       "    </tr>\n",
       "  </tbody>\n",
       "</table>\n",
       "</div>"
      ],
      "text/plain": [
       "        date      time       id    reviewer name  \\\n",
       "0  29-Jul-18  16:47:11  6074908  Russell Hensley   \n",
       "1  28-Jul-18  17:49:58  1159008      Adam Baxter   \n",
       "2  30-Jul-18  16:46:29  1759753  Sarah Contreras   \n",
       "3  29-Jul-18  19:23:32  1861422     Tim Castillo   \n",
       "4  28-Jul-18  16:15:25  3116018      Barry Young   \n",
       "\n",
       "                                    reviewer address contact number  \\\n",
       "0  9059 Morales Run Suite 912\\nSouth Charles, MH ...     6932290613   \n",
       "1  13728 Jones Mission Apt. 526\\nSouth Tylerfurt,...   385-994-9458   \n",
       "2           7113 Pratt Plains\\nPalmermouth, IN 02370  (738)354-8387   \n",
       "3   93586 Cook Union Apt. 080\\nMorganmouth, WI 51175  (294)877-6223   \n",
       "4  69809 Harrington Meadows Apt. 256\\nLake Courtn...   262-863-1391   \n",
       "\n",
       "                      variation  \\\n",
       "0          Heather Gray Fabric    \n",
       "1                   Black  Plus   \n",
       "2  Configuration: Fire TV Stick   \n",
       "3                   Black  Plus   \n",
       "4                   Black  Show   \n",
       "\n",
       "                                    verified_reviews  feedback  \n",
       "0  I have the original Alexa and the Tap and so f...         1  \n",
       "1  Great product. More skills are needed. I love it.         1  \n",
       "2  I will never buy anything Amazon makes again!T...         0  \n",
       "3  Not perfect but very good! A few times Alexa p...         1  \n",
       "4  Kids like it for games.  Showing the lyrics fo...         1  "
      ]
     },
     "execution_count": 59,
     "metadata": {},
     "output_type": "execute_result"
    }
   ],
   "source": [
    "test_df = pd.read_csv('/kaggle/input/anyas-gojo-revival-space-shop/test.tsv', sep='\\t')\n",
    "test_df.head()"
   ]
  },
  {
   "cell_type": "code",
   "execution_count": 60,
   "id": "f44170a9",
   "metadata": {
    "execution": {
     "iopub.execute_input": "2023-11-23T16:04:00.444160Z",
     "iopub.status.busy": "2023-11-23T16:04:00.443642Z",
     "iopub.status.idle": "2023-11-23T16:04:00.450083Z",
     "shell.execute_reply": "2023-11-23T16:04:00.448382Z"
    },
    "papermill": {
     "duration": 0.04672,
     "end_time": "2023-11-23T16:04:00.452685",
     "exception": false,
     "start_time": "2023-11-23T16:04:00.405965",
     "status": "completed"
    },
    "tags": []
   },
   "outputs": [],
   "source": [
    "res = []"
   ]
  },
  {
   "cell_type": "code",
   "execution_count": 61,
   "id": "4e09e01c",
   "metadata": {
    "execution": {
     "iopub.execute_input": "2023-11-23T16:04:00.526668Z",
     "iopub.status.busy": "2023-11-23T16:04:00.526179Z",
     "iopub.status.idle": "2023-11-23T16:04:14.275920Z",
     "shell.execute_reply": "2023-11-23T16:04:14.274438Z"
    },
    "papermill": {
     "duration": 13.791144,
     "end_time": "2023-11-23T16:04:14.279419",
     "exception": false,
     "start_time": "2023-11-23T16:04:00.488275",
     "status": "completed"
    },
    "tags": []
   },
   "outputs": [],
   "source": [
    "for i in range(len(test_df['verified_reviews'])):\n",
    "    test_text = test_df['verified_reviews'][i]\n",
    "    test_text_processed = [preprocess(test_text)]\n",
    "    prediction = clf.predict(test_text_processed)\n",
    "    res.append(prediction[0])"
   ]
  },
  {
   "cell_type": "code",
   "execution_count": 62,
   "id": "5212744c",
   "metadata": {
    "execution": {
     "iopub.execute_input": "2023-11-23T16:04:14.355415Z",
     "iopub.status.busy": "2023-11-23T16:04:14.354961Z",
     "iopub.status.idle": "2023-11-23T16:04:14.363751Z",
     "shell.execute_reply": "2023-11-23T16:04:14.362165Z"
    },
    "papermill": {
     "duration": 0.050956,
     "end_time": "2023-11-23T16:04:14.366942",
     "exception": false,
     "start_time": "2023-11-23T16:04:14.315986",
     "status": "completed"
    },
    "tags": []
   },
   "outputs": [
    {
     "data": {
      "text/plain": [
       "630"
      ]
     },
     "execution_count": 62,
     "metadata": {},
     "output_type": "execute_result"
    }
   ],
   "source": [
    "len(res)"
   ]
  },
  {
   "cell_type": "code",
   "execution_count": 63,
   "id": "d1f03572",
   "metadata": {
    "execution": {
     "iopub.execute_input": "2023-11-23T16:04:14.445481Z",
     "iopub.status.busy": "2023-11-23T16:04:14.445047Z",
     "iopub.status.idle": "2023-11-23T16:04:14.453818Z",
     "shell.execute_reply": "2023-11-23T16:04:14.452390Z"
    },
    "papermill": {
     "duration": 0.050712,
     "end_time": "2023-11-23T16:04:14.456577",
     "exception": false,
     "start_time": "2023-11-23T16:04:14.405865",
     "status": "completed"
    },
    "tags": []
   },
   "outputs": [],
   "source": [
    "res = round(res)"
   ]
  },
  {
   "cell_type": "code",
   "execution_count": 64,
   "id": "031b96ee",
   "metadata": {
    "execution": {
     "iopub.execute_input": "2023-11-23T16:04:14.532657Z",
     "iopub.status.busy": "2023-11-23T16:04:14.532220Z",
     "iopub.status.idle": "2023-11-23T16:04:14.555562Z",
     "shell.execute_reply": "2023-11-23T16:04:14.554523Z"
    },
    "papermill": {
     "duration": 0.06477,
     "end_time": "2023-11-23T16:04:14.558613",
     "exception": false,
     "start_time": "2023-11-23T16:04:14.493843",
     "status": "completed"
    },
    "tags": []
   },
   "outputs": [],
   "source": [
    "import pandas as pd\n",
    "test = pd.read_csv('/kaggle/input/anyas-gojo-revival-space-shop/test.tsv', sep='\\t')\n",
    "\n",
    "df = pd.DataFrame({'id': test['id'], 'sentiment': res})\n",
    "df.set_index('id', inplace=True)\n",
    "df.to_csv('output_rfc.csv')"
   ]
  },
  {
   "cell_type": "code",
   "execution_count": 65,
   "id": "e6afe30f",
   "metadata": {
    "execution": {
     "iopub.execute_input": "2023-11-23T16:04:14.639875Z",
     "iopub.status.busy": "2023-11-23T16:04:14.639075Z",
     "iopub.status.idle": "2023-11-23T16:04:14.649789Z",
     "shell.execute_reply": "2023-11-23T16:04:14.648467Z"
    },
    "papermill": {
     "duration": 0.054945,
     "end_time": "2023-11-23T16:04:14.652720",
     "exception": false,
     "start_time": "2023-11-23T16:04:14.597775",
     "status": "completed"
    },
    "tags": []
   },
   "outputs": [
    {
     "data": {
      "text/html": [
       "<div>\n",
       "<style scoped>\n",
       "    .dataframe tbody tr th:only-of-type {\n",
       "        vertical-align: middle;\n",
       "    }\n",
       "\n",
       "    .dataframe tbody tr th {\n",
       "        vertical-align: top;\n",
       "    }\n",
       "\n",
       "    .dataframe thead th {\n",
       "        text-align: right;\n",
       "    }\n",
       "</style>\n",
       "<table border=\"1\" class=\"dataframe\">\n",
       "  <thead>\n",
       "    <tr style=\"text-align: right;\">\n",
       "      <th></th>\n",
       "      <th>sentiment</th>\n",
       "    </tr>\n",
       "    <tr>\n",
       "      <th>id</th>\n",
       "      <th></th>\n",
       "    </tr>\n",
       "  </thead>\n",
       "  <tbody>\n",
       "    <tr>\n",
       "      <th>6074908</th>\n",
       "      <td>5</td>\n",
       "    </tr>\n",
       "    <tr>\n",
       "      <th>1159008</th>\n",
       "      <td>5</td>\n",
       "    </tr>\n",
       "    <tr>\n",
       "      <th>1759753</th>\n",
       "      <td>5</td>\n",
       "    </tr>\n",
       "    <tr>\n",
       "      <th>1861422</th>\n",
       "      <td>5</td>\n",
       "    </tr>\n",
       "    <tr>\n",
       "      <th>3116018</th>\n",
       "      <td>5</td>\n",
       "    </tr>\n",
       "  </tbody>\n",
       "</table>\n",
       "</div>"
      ],
      "text/plain": [
       "         sentiment\n",
       "id                \n",
       "6074908          5\n",
       "1159008          5\n",
       "1759753          5\n",
       "1861422          5\n",
       "3116018          5"
      ]
     },
     "execution_count": 65,
     "metadata": {},
     "output_type": "execute_result"
    }
   ],
   "source": [
    "df.head()"
   ]
  },
  {
   "cell_type": "code",
   "execution_count": 66,
   "id": "c26a0ee0",
   "metadata": {
    "execution": {
     "iopub.execute_input": "2023-11-23T16:04:14.731146Z",
     "iopub.status.busy": "2023-11-23T16:04:14.730702Z",
     "iopub.status.idle": "2023-11-23T16:04:14.740265Z",
     "shell.execute_reply": "2023-11-23T16:04:14.738962Z"
    },
    "papermill": {
     "duration": 0.051763,
     "end_time": "2023-11-23T16:04:14.743118",
     "exception": false,
     "start_time": "2023-11-23T16:04:14.691355",
     "status": "completed"
    },
    "tags": []
   },
   "outputs": [
    {
     "data": {
      "text/plain": [
       "sentiment\n",
       "5    568\n",
       "4     38\n",
       "3     11\n",
       "1      8\n",
       "2      5\n",
       "Name: count, dtype: int64"
      ]
     },
     "execution_count": 66,
     "metadata": {},
     "output_type": "execute_result"
    }
   ],
   "source": [
    "df['sentiment'].value_counts()"
   ]
  },
  {
   "cell_type": "code",
   "execution_count": 67,
   "id": "cd6c6ee5",
   "metadata": {
    "execution": {
     "iopub.execute_input": "2023-11-23T16:04:14.822031Z",
     "iopub.status.busy": "2023-11-23T16:04:14.820385Z",
     "iopub.status.idle": "2023-11-23T16:04:14.826855Z",
     "shell.execute_reply": "2023-11-23T16:04:14.825819Z"
    },
    "papermill": {
     "duration": 0.046506,
     "end_time": "2023-11-23T16:04:14.829320",
     "exception": false,
     "start_time": "2023-11-23T16:04:14.782814",
     "status": "completed"
    },
    "tags": []
   },
   "outputs": [],
   "source": [
    "test_text = test_df['verified_reviews'][1]\n"
   ]
  },
  {
   "cell_type": "code",
   "execution_count": 68,
   "id": "9dc08310",
   "metadata": {
    "execution": {
     "iopub.execute_input": "2023-11-23T16:04:14.904740Z",
     "iopub.status.busy": "2023-11-23T16:04:14.904282Z",
     "iopub.status.idle": "2023-11-23T16:04:14.924063Z",
     "shell.execute_reply": "2023-11-23T16:04:14.922689Z"
    },
    "papermill": {
     "duration": 0.060958,
     "end_time": "2023-11-23T16:04:14.926727",
     "exception": false,
     "start_time": "2023-11-23T16:04:14.865769",
     "status": "completed"
    },
    "tags": []
   },
   "outputs": [
    {
     "data": {
      "text/plain": [
       "['great product skill need love']"
      ]
     },
     "execution_count": 68,
     "metadata": {},
     "output_type": "execute_result"
    }
   ],
   "source": [
    "test_text_processed = [preprocess(test_text)]\n",
    "test_text_processed"
   ]
  },
  {
   "cell_type": "code",
   "execution_count": 69,
   "id": "b92f90f3",
   "metadata": {
    "execution": {
     "iopub.execute_input": "2023-11-23T16:04:15.004339Z",
     "iopub.status.busy": "2023-11-23T16:04:15.003288Z",
     "iopub.status.idle": "2023-11-23T16:04:15.023333Z",
     "shell.execute_reply": "2023-11-23T16:04:15.021805Z"
    },
    "papermill": {
     "duration": 0.063165,
     "end_time": "2023-11-23T16:04:15.026923",
     "exception": false,
     "start_time": "2023-11-23T16:04:14.963758",
     "status": "completed"
    },
    "tags": []
   },
   "outputs": [],
   "source": [
    "test_text = clf.predict(test_text_processed)"
   ]
  },
  {
   "cell_type": "code",
   "execution_count": 70,
   "id": "fcc22847",
   "metadata": {
    "execution": {
     "iopub.execute_input": "2023-11-23T16:04:15.108863Z",
     "iopub.status.busy": "2023-11-23T16:04:15.108311Z",
     "iopub.status.idle": "2023-11-23T16:04:15.115002Z",
     "shell.execute_reply": "2023-11-23T16:04:15.113780Z"
    },
    "papermill": {
     "duration": 0.053736,
     "end_time": "2023-11-23T16:04:15.118701",
     "exception": false,
     "start_time": "2023-11-23T16:04:15.064965",
     "status": "completed"
    },
    "tags": []
   },
   "outputs": [
    {
     "name": "stdout",
     "output_type": "stream",
     "text": [
      "[5]\n"
     ]
    }
   ],
   "source": [
    "print(round([test_text[0]]))"
   ]
  },
  {
   "cell_type": "code",
   "execution_count": null,
   "id": "b7185aa6",
   "metadata": {
    "papermill": {
     "duration": 0.042379,
     "end_time": "2023-11-23T16:04:15.202005",
     "exception": false,
     "start_time": "2023-11-23T16:04:15.159626",
     "status": "completed"
    },
    "tags": []
   },
   "outputs": [],
   "source": []
  },
  {
   "cell_type": "code",
   "execution_count": 71,
   "id": "2d3ab6a5",
   "metadata": {
    "execution": {
     "iopub.execute_input": "2023-11-23T16:04:15.283853Z",
     "iopub.status.busy": "2023-11-23T16:04:15.283383Z",
     "iopub.status.idle": "2023-11-23T16:04:15.288936Z",
     "shell.execute_reply": "2023-11-23T16:04:15.287610Z"
    },
    "papermill": {
     "duration": 0.049088,
     "end_time": "2023-11-23T16:04:15.291492",
     "exception": false,
     "start_time": "2023-11-23T16:04:15.242404",
     "status": "completed"
    },
    "tags": []
   },
   "outputs": [],
   "source": [
    "#----------------------------------------------------------------------"
   ]
  },
  {
   "cell_type": "code",
   "execution_count": 72,
   "id": "e0d06eeb",
   "metadata": {
    "execution": {
     "iopub.execute_input": "2023-11-23T16:04:15.368689Z",
     "iopub.status.busy": "2023-11-23T16:04:15.367846Z",
     "iopub.status.idle": "2023-11-23T16:04:15.395989Z",
     "shell.execute_reply": "2023-11-23T16:04:15.394738Z"
    },
    "papermill": {
     "duration": 0.069435,
     "end_time": "2023-11-23T16:04:15.399113",
     "exception": false,
     "start_time": "2023-11-23T16:04:15.329678",
     "status": "completed"
    },
    "tags": []
   },
   "outputs": [],
   "source": [
    "import pandas as pd\n",
    "df = pd.read_csv('/kaggle/input/anyas-gojo-revival-space-shop/train.tsv', sep='\\t') #, names = columns\n"
   ]
  },
  {
   "cell_type": "code",
   "execution_count": 73,
   "id": "9928e4c6",
   "metadata": {
    "execution": {
     "iopub.execute_input": "2023-11-23T16:04:15.476610Z",
     "iopub.status.busy": "2023-11-23T16:04:15.476167Z",
     "iopub.status.idle": "2023-11-23T16:04:18.547033Z",
     "shell.execute_reply": "2023-11-23T16:04:18.545459Z"
    },
    "papermill": {
     "duration": 3.112334,
     "end_time": "2023-11-23T16:04:18.550473",
     "exception": false,
     "start_time": "2023-11-23T16:04:15.438139",
     "status": "completed"
    },
    "tags": []
   },
   "outputs": [],
   "source": [
    "import torch\n",
    "from torch.utils.data import DataLoader, TensorDataset, random_split\n",
    "from transformers import BertTokenizer, BertForSequenceClassification, AdamW\n",
    "from sklearn.model_selection import train_test_split\n"
   ]
  },
  {
   "cell_type": "code",
   "execution_count": 74,
   "id": "77239819",
   "metadata": {
    "execution": {
     "iopub.execute_input": "2023-11-23T16:04:18.630030Z",
     "iopub.status.busy": "2023-11-23T16:04:18.627809Z",
     "iopub.status.idle": "2023-11-23T16:04:18.643520Z",
     "shell.execute_reply": "2023-11-23T16:04:18.641769Z"
    },
    "papermill": {
     "duration": 0.06009,
     "end_time": "2023-11-23T16:04:18.648546",
     "exception": false,
     "start_time": "2023-11-23T16:04:18.588456",
     "status": "completed"
    },
    "tags": []
   },
   "outputs": [],
   "source": [
    "#  data preparation\n",
    "df['text'] = df['feedback'].astype(str) + ' ' + df['verified_reviews'].astype(str)\n",
    "texts = df['text'].values\n",
    "sentiments = df['sentiment'].values"
   ]
  },
  {
   "cell_type": "code",
   "execution_count": 75,
   "id": "33217607",
   "metadata": {
    "execution": {
     "iopub.execute_input": "2023-11-23T16:04:18.730885Z",
     "iopub.status.busy": "2023-11-23T16:04:18.730347Z",
     "iopub.status.idle": "2023-11-23T16:04:24.910322Z",
     "shell.execute_reply": "2023-11-23T16:04:24.908936Z"
    },
    "papermill": {
     "duration": 6.222646,
     "end_time": "2023-11-23T16:04:24.913549",
     "exception": false,
     "start_time": "2023-11-23T16:04:18.690903",
     "status": "completed"
    },
    "tags": []
   },
   "outputs": [
    {
     "data": {
      "application/vnd.jupyter.widget-view+json": {
       "model_id": "eb508b50bea24977a8d6021681a0a4e8",
       "version_major": 2,
       "version_minor": 0
      },
      "text/plain": [
       "Downloading tokenizer_config.json:   0%|          | 0.00/28.0 [00:00<?, ?B/s]"
      ]
     },
     "metadata": {},
     "output_type": "display_data"
    },
    {
     "data": {
      "application/vnd.jupyter.widget-view+json": {
       "model_id": "fc410d5f11234c50a240528b53369d6c",
       "version_major": 2,
       "version_minor": 0
      },
      "text/plain": [
       "Downloading vocab.txt:   0%|          | 0.00/232k [00:00<?, ?B/s]"
      ]
     },
     "metadata": {},
     "output_type": "display_data"
    },
    {
     "data": {
      "application/vnd.jupyter.widget-view+json": {
       "model_id": "90966dbdeb824472a24d8d8c20289e49",
       "version_major": 2,
       "version_minor": 0
      },
      "text/plain": [
       "Downloading tokenizer.json:   0%|          | 0.00/466k [00:00<?, ?B/s]"
      ]
     },
     "metadata": {},
     "output_type": "display_data"
    },
    {
     "data": {
      "application/vnd.jupyter.widget-view+json": {
       "model_id": "d5029d8a3008468ca873de5cbebd80c1",
       "version_major": 2,
       "version_minor": 0
      },
      "text/plain": [
       "Downloading config.json:   0%|          | 0.00/570 [00:00<?, ?B/s]"
      ]
     },
     "metadata": {},
     "output_type": "display_data"
    }
   ],
   "source": [
    "# Tokenize the text data\n",
    "tokenizer = BertTokenizer.from_pretrained('bert-base-uncased')\n",
    "tokenized_inputs = tokenizer(texts.tolist(), padding=True, truncation=True, return_tensors='pt')\n",
    "\n",
    "# Convert sentiment to PyTorch tensor\n",
    "labels = torch.tensor(sentiments)\n",
    "\n",
    "# Create a TensorDataset\n",
    "dataset = TensorDataset(tokenized_inputs.input_ids, tokenized_inputs.attention_mask, labels)"
   ]
  },
  {
   "cell_type": "code",
   "execution_count": 76,
   "id": "d3cff044",
   "metadata": {
    "execution": {
     "iopub.execute_input": "2023-11-23T16:04:24.993417Z",
     "iopub.status.busy": "2023-11-23T16:04:24.992978Z",
     "iopub.status.idle": "2023-11-23T16:04:25.013436Z",
     "shell.execute_reply": "2023-11-23T16:04:25.012162Z"
    },
    "papermill": {
     "duration": 0.065379,
     "end_time": "2023-11-23T16:04:25.016679",
     "exception": false,
     "start_time": "2023-11-23T16:04:24.951300",
     "status": "completed"
    },
    "tags": []
   },
   "outputs": [],
   "source": [
    "# Split the dataset into training and validation sets\n",
    "train_size = int(0.8 * len(dataset))\n",
    "val_size = len(dataset) - train_size\n",
    "train_dataset, val_dataset = random_split(dataset, [train_size, val_size])\n",
    "\n",
    "# Create DataLoader for training and validation\n",
    "train_dataloader = DataLoader(train_dataset, batch_size=8, shuffle=True)\n",
    "val_dataloader = DataLoader(val_dataset, batch_size=8, shuffle=False)"
   ]
  },
  {
   "cell_type": "code",
   "execution_count": 77,
   "id": "83847f4b",
   "metadata": {
    "execution": {
     "iopub.execute_input": "2023-11-23T16:04:25.093390Z",
     "iopub.status.busy": "2023-11-23T16:04:25.091799Z",
     "iopub.status.idle": "2023-11-23T16:04:29.386796Z",
     "shell.execute_reply": "2023-11-23T16:04:29.385048Z"
    },
    "papermill": {
     "duration": 4.336451,
     "end_time": "2023-11-23T16:04:29.390202",
     "exception": false,
     "start_time": "2023-11-23T16:04:25.053751",
     "status": "completed"
    },
    "tags": []
   },
   "outputs": [
    {
     "data": {
      "application/vnd.jupyter.widget-view+json": {
       "model_id": "34e93c43c4324bbfa414fa3fbc950291",
       "version_major": 2,
       "version_minor": 0
      },
      "text/plain": [
       "Downloading model.safetensors:   0%|          | 0.00/440M [00:00<?, ?B/s]"
      ]
     },
     "metadata": {},
     "output_type": "display_data"
    },
    {
     "name": "stderr",
     "output_type": "stream",
     "text": [
      "Some weights of BertForSequenceClassification were not initialized from the model checkpoint at bert-base-uncased and are newly initialized: ['classifier.bias', 'classifier.weight']\n",
      "You should probably TRAIN this model on a down-stream task to be able to use it for predictions and inference.\n"
     ]
    }
   ],
   "source": [
    "# Load pre-trained BERT model for sequence classification\n",
    "model = BertForSequenceClassification.from_pretrained('bert-base-uncased', num_labels=6)  # 5 classes for sentiment 1-5\n",
    "\n",
    "# Set up optimizer\n",
    "optimizer = AdamW(model.parameters(), lr=2e-5)"
   ]
  },
  {
   "cell_type": "code",
   "execution_count": 78,
   "id": "296adfa1",
   "metadata": {
    "execution": {
     "iopub.execute_input": "2023-11-23T16:04:29.467837Z",
     "iopub.status.busy": "2023-11-23T16:04:29.466609Z",
     "iopub.status.idle": "2023-11-23T16:04:29.474649Z",
     "shell.execute_reply": "2023-11-23T16:04:29.473391Z"
    },
    "papermill": {
     "duration": 0.049859,
     "end_time": "2023-11-23T16:04:29.477285",
     "exception": false,
     "start_time": "2023-11-23T16:04:29.427426",
     "status": "completed"
    },
    "tags": []
   },
   "outputs": [],
   "source": [
    "# # Fine-tuning loop\n",
    "# epochs = 5\n",
    "# device = torch.device(\"cuda\" if torch.cuda.is_available() else \"cpu\")\n",
    "# model.to(device)\n",
    "\n",
    "# for epoch in range(epochs):\n",
    "#     # Training loop\n",
    "#     model.train()\n",
    "#     for batch in train_dataloader:\n",
    "#         input_ids, attention_mask, labels = batch\n",
    "#         input_ids, attention_mask, labels = input_ids.to(device), attention_mask.to(device), labels.to(device)\n",
    "        \n",
    "#         optimizer.zero_grad()\n",
    "#         outputs = model(input_ids, attention_mask=attention_mask, labels=labels)\n",
    "#         loss = outputs.loss\n",
    "#         loss.backward()\n",
    "#         optimizer.step()\n",
    "\n",
    "#     # Validation loop\n",
    "#     model.eval()\n",
    "#     val_loss = 0.0\n",
    "#     total_batches = len(val_dataloader)\n",
    "#     with torch.no_grad():\n",
    "#         for batch in val_dataloader:\n",
    "#             input_ids, attention_mask, labels = batch\n",
    "#             input_ids, attention_mask, labels = input_ids.to(device), attention_mask.to(device), labels.to(device)\n",
    "\n",
    "#             outputs = model(input_ids, attention_mask=attention_mask, labels=labels)\n",
    "#             val_loss += outputs.loss.item()\n",
    "\n",
    "#     avg_val_loss = val_loss / total_batches\n",
    "#     print(f\"Epoch {epoch + 1}/{epochs} - Validation Loss: {avg_val_loss}\")"
   ]
  },
  {
   "cell_type": "code",
   "execution_count": 79,
   "id": "25f82b5c",
   "metadata": {
    "execution": {
     "iopub.execute_input": "2023-11-23T16:04:29.555496Z",
     "iopub.status.busy": "2023-11-23T16:04:29.554367Z",
     "iopub.status.idle": "2023-11-23T16:04:29.559793Z",
     "shell.execute_reply": "2023-11-23T16:04:29.558687Z"
    },
    "papermill": {
     "duration": 0.047788,
     "end_time": "2023-11-23T16:04:29.562326",
     "exception": false,
     "start_time": "2023-11-23T16:04:29.514538",
     "status": "completed"
    },
    "tags": []
   },
   "outputs": [],
   "source": [
    "# Save the fine-tuned model\n",
    "# model.save_pretrained('fine_tuned_sentiment_model')"
   ]
  },
  {
   "cell_type": "code",
   "execution_count": null,
   "id": "cdb7977b",
   "metadata": {
    "papermill": {
     "duration": 0.039285,
     "end_time": "2023-11-23T16:04:29.638548",
     "exception": false,
     "start_time": "2023-11-23T16:04:29.599263",
     "status": "completed"
    },
    "tags": []
   },
   "outputs": [],
   "source": []
  },
  {
   "cell_type": "code",
   "execution_count": null,
   "id": "ef20fe5e",
   "metadata": {
    "papermill": {
     "duration": 0.035854,
     "end_time": "2023-11-23T16:04:29.710701",
     "exception": false,
     "start_time": "2023-11-23T16:04:29.674847",
     "status": "completed"
    },
    "tags": []
   },
   "outputs": [],
   "source": []
  }
 ],
 "metadata": {
  "kaggle": {
   "accelerator": "none",
   "dataSources": [
    {
     "databundleVersionId": 6967454,
     "sourceId": 63364,
     "sourceType": "competition"
    }
   ],
   "dockerImageVersionId": 30587,
   "isGpuEnabled": false,
   "isInternetEnabled": true,
   "language": "python",
   "sourceType": "notebook"
  },
  "kernelspec": {
   "display_name": "Python 3",
   "language": "python",
   "name": "python3"
  },
  "language_info": {
   "codemirror_mode": {
    "name": "ipython",
    "version": 3
   },
   "file_extension": ".py",
   "mimetype": "text/x-python",
   "name": "python",
   "nbconvert_exporter": "python",
   "pygments_lexer": "ipython3",
   "version": "3.10.12"
  },
  "papermill": {
   "default_parameters": {},
   "duration": 102.785774,
   "end_time": "2023-11-23T16:04:32.428473",
   "environment_variables": {},
   "exception": null,
   "input_path": "__notebook__.ipynb",
   "output_path": "__notebook__.ipynb",
   "parameters": {},
   "start_time": "2023-11-23T16:02:49.642699",
   "version": "2.4.0"
  },
  "widgets": {
   "application/vnd.jupyter.widget-state+json": {
    "state": {
     "04191eac90ab42babf2b2f7e811fe59b": {
      "model_module": "@jupyter-widgets/base",
      "model_module_version": "1.2.0",
      "model_name": "LayoutModel",
      "state": {
       "_model_module": "@jupyter-widgets/base",
       "_model_module_version": "1.2.0",
       "_model_name": "LayoutModel",
       "_view_count": null,
       "_view_module": "@jupyter-widgets/base",
       "_view_module_version": "1.2.0",
       "_view_name": "LayoutView",
       "align_content": null,
       "align_items": null,
       "align_self": null,
       "border": null,
       "bottom": null,
       "display": null,
       "flex": null,
       "flex_flow": null,
       "grid_area": null,
       "grid_auto_columns": null,
       "grid_auto_flow": null,
       "grid_auto_rows": null,
       "grid_column": null,
       "grid_gap": null,
       "grid_row": null,
       "grid_template_areas": null,
       "grid_template_columns": null,
       "grid_template_rows": null,
       "height": null,
       "justify_content": null,
       "justify_items": null,
       "left": null,
       "margin": null,
       "max_height": null,
       "max_width": null,
       "min_height": null,
       "min_width": null,
       "object_fit": null,
       "object_position": null,
       "order": null,
       "overflow": null,
       "overflow_x": null,
       "overflow_y": null,
       "padding": null,
       "right": null,
       "top": null,
       "visibility": null,
       "width": null
      }
     },
     "0a8ee293ffb74abb9f41ca607344e4fe": {
      "model_module": "@jupyter-widgets/controls",
      "model_module_version": "1.5.0",
      "model_name": "ProgressStyleModel",
      "state": {
       "_model_module": "@jupyter-widgets/controls",
       "_model_module_version": "1.5.0",
       "_model_name": "ProgressStyleModel",
       "_view_count": null,
       "_view_module": "@jupyter-widgets/base",
       "_view_module_version": "1.2.0",
       "_view_name": "StyleView",
       "bar_color": null,
       "description_width": ""
      }
     },
     "0b5dfff7d156481897ab4a2d03782fad": {
      "model_module": "@jupyter-widgets/base",
      "model_module_version": "1.2.0",
      "model_name": "LayoutModel",
      "state": {
       "_model_module": "@jupyter-widgets/base",
       "_model_module_version": "1.2.0",
       "_model_name": "LayoutModel",
       "_view_count": null,
       "_view_module": "@jupyter-widgets/base",
       "_view_module_version": "1.2.0",
       "_view_name": "LayoutView",
       "align_content": null,
       "align_items": null,
       "align_self": null,
       "border": null,
       "bottom": null,
       "display": null,
       "flex": null,
       "flex_flow": null,
       "grid_area": null,
       "grid_auto_columns": null,
       "grid_auto_flow": null,
       "grid_auto_rows": null,
       "grid_column": null,
       "grid_gap": null,
       "grid_row": null,
       "grid_template_areas": null,
       "grid_template_columns": null,
       "grid_template_rows": null,
       "height": null,
       "justify_content": null,
       "justify_items": null,
       "left": null,
       "margin": null,
       "max_height": null,
       "max_width": null,
       "min_height": null,
       "min_width": null,
       "object_fit": null,
       "object_position": null,
       "order": null,
       "overflow": null,
       "overflow_x": null,
       "overflow_y": null,
       "padding": null,
       "right": null,
       "top": null,
       "visibility": null,
       "width": null
      }
     },
     "0b84d94b31a44f4b8fefcdcc4306a13c": {
      "model_module": "@jupyter-widgets/controls",
      "model_module_version": "1.5.0",
      "model_name": "FloatProgressModel",
      "state": {
       "_dom_classes": [],
       "_model_module": "@jupyter-widgets/controls",
       "_model_module_version": "1.5.0",
       "_model_name": "FloatProgressModel",
       "_view_count": null,
       "_view_module": "@jupyter-widgets/controls",
       "_view_module_version": "1.5.0",
       "_view_name": "ProgressView",
       "bar_style": "success",
       "description": "",
       "description_tooltip": null,
       "layout": "IPY_MODEL_cb575a7e529844de9332198a81bcbb54",
       "max": 440449768.0,
       "min": 0.0,
       "orientation": "horizontal",
       "style": "IPY_MODEL_c79b30d24c524ed99ffa5b01398719ed",
       "value": 440449768.0
      }
     },
     "131e7747de8a4c9f8b7ec69e964e9b60": {
      "model_module": "@jupyter-widgets/controls",
      "model_module_version": "1.5.0",
      "model_name": "HTMLModel",
      "state": {
       "_dom_classes": [],
       "_model_module": "@jupyter-widgets/controls",
       "_model_module_version": "1.5.0",
       "_model_name": "HTMLModel",
       "_view_count": null,
       "_view_module": "@jupyter-widgets/controls",
       "_view_module_version": "1.5.0",
       "_view_name": "HTMLView",
       "description": "",
       "description_tooltip": null,
       "layout": "IPY_MODEL_632e6f14550542a5b075f5a8bf55f555",
       "placeholder": "​",
       "style": "IPY_MODEL_b7186621d616495197e10f0d6c9dd223",
       "value": " 232k/232k [00:00&lt;00:00, 1.42MB/s]"
      }
     },
     "13bebe1701ca44dfafcaee626bec5d09": {
      "model_module": "@jupyter-widgets/controls",
      "model_module_version": "1.5.0",
      "model_name": "HTMLModel",
      "state": {
       "_dom_classes": [],
       "_model_module": "@jupyter-widgets/controls",
       "_model_module_version": "1.5.0",
       "_model_name": "HTMLModel",
       "_view_count": null,
       "_view_module": "@jupyter-widgets/controls",
       "_view_module_version": "1.5.0",
       "_view_name": "HTMLView",
       "description": "",
       "description_tooltip": null,
       "layout": "IPY_MODEL_0b5dfff7d156481897ab4a2d03782fad",
       "placeholder": "​",
       "style": "IPY_MODEL_aab5d882c3f54b21a975289957805b05",
       "value": " 440M/440M [00:01&lt;00:00, 277MB/s]"
      }
     },
     "13e3d981b24b4813b6d601ec69c33fa8": {
      "model_module": "@jupyter-widgets/controls",
      "model_module_version": "1.5.0",
      "model_name": "DescriptionStyleModel",
      "state": {
       "_model_module": "@jupyter-widgets/controls",
       "_model_module_version": "1.5.0",
       "_model_name": "DescriptionStyleModel",
       "_view_count": null,
       "_view_module": "@jupyter-widgets/base",
       "_view_module_version": "1.2.0",
       "_view_name": "StyleView",
       "description_width": ""
      }
     },
     "1505320c4a4b4125bbda38ea49605f2b": {
      "model_module": "@jupyter-widgets/controls",
      "model_module_version": "1.5.0",
      "model_name": "FloatProgressModel",
      "state": {
       "_dom_classes": [],
       "_model_module": "@jupyter-widgets/controls",
       "_model_module_version": "1.5.0",
       "_model_name": "FloatProgressModel",
       "_view_count": null,
       "_view_module": "@jupyter-widgets/controls",
       "_view_module_version": "1.5.0",
       "_view_name": "ProgressView",
       "bar_style": "success",
       "description": "",
       "description_tooltip": null,
       "layout": "IPY_MODEL_e01a2f3846d24309b680dcc09b7979e1",
       "max": 231508.0,
       "min": 0.0,
       "orientation": "horizontal",
       "style": "IPY_MODEL_0a8ee293ffb74abb9f41ca607344e4fe",
       "value": 231508.0
      }
     },
     "1b0c752227e746bb8514320f08f72e88": {
      "model_module": "@jupyter-widgets/controls",
      "model_module_version": "1.5.0",
      "model_name": "HTMLModel",
      "state": {
       "_dom_classes": [],
       "_model_module": "@jupyter-widgets/controls",
       "_model_module_version": "1.5.0",
       "_model_name": "HTMLModel",
       "_view_count": null,
       "_view_module": "@jupyter-widgets/controls",
       "_view_module_version": "1.5.0",
       "_view_name": "HTMLView",
       "description": "",
       "description_tooltip": null,
       "layout": "IPY_MODEL_e57ea18bf580416f8421ff305259ffbb",
       "placeholder": "​",
       "style": "IPY_MODEL_a3341e2a5ff54131b5dcb31804937dd2",
       "value": "Downloading vocab.txt: 100%"
      }
     },
     "2eb8e321748946f98f247aa00c114675": {
      "model_module": "@jupyter-widgets/controls",
      "model_module_version": "1.5.0",
      "model_name": "HTMLModel",
      "state": {
       "_dom_classes": [],
       "_model_module": "@jupyter-widgets/controls",
       "_model_module_version": "1.5.0",
       "_model_name": "HTMLModel",
       "_view_count": null,
       "_view_module": "@jupyter-widgets/controls",
       "_view_module_version": "1.5.0",
       "_view_name": "HTMLView",
       "description": "",
       "description_tooltip": null,
       "layout": "IPY_MODEL_f49e9690b8fe4d0992c31fa7f1691167",
       "placeholder": "​",
       "style": "IPY_MODEL_8237461508724b8c8cded97386276360",
       "value": "Downloading tokenizer_config.json: 100%"
      }
     },
     "34e93c43c4324bbfa414fa3fbc950291": {
      "model_module": "@jupyter-widgets/controls",
      "model_module_version": "1.5.0",
      "model_name": "HBoxModel",
      "state": {
       "_dom_classes": [],
       "_model_module": "@jupyter-widgets/controls",
       "_model_module_version": "1.5.0",
       "_model_name": "HBoxModel",
       "_view_count": null,
       "_view_module": "@jupyter-widgets/controls",
       "_view_module_version": "1.5.0",
       "_view_name": "HBoxView",
       "box_style": "",
       "children": [
        "IPY_MODEL_d0069d0c49e547bfa230584ac7d43912",
        "IPY_MODEL_0b84d94b31a44f4b8fefcdcc4306a13c",
        "IPY_MODEL_13bebe1701ca44dfafcaee626bec5d09"
       ],
       "layout": "IPY_MODEL_f5abf1c2bd40418d8003b0fb806f8372"
      }
     },
     "3602630aba7d4fbdb2cadd9fad6ab4b8": {
      "model_module": "@jupyter-widgets/base",
      "model_module_version": "1.2.0",
      "model_name": "LayoutModel",
      "state": {
       "_model_module": "@jupyter-widgets/base",
       "_model_module_version": "1.2.0",
       "_model_name": "LayoutModel",
       "_view_count": null,
       "_view_module": "@jupyter-widgets/base",
       "_view_module_version": "1.2.0",
       "_view_name": "LayoutView",
       "align_content": null,
       "align_items": null,
       "align_self": null,
       "border": null,
       "bottom": null,
       "display": null,
       "flex": null,
       "flex_flow": null,
       "grid_area": null,
       "grid_auto_columns": null,
       "grid_auto_flow": null,
       "grid_auto_rows": null,
       "grid_column": null,
       "grid_gap": null,
       "grid_row": null,
       "grid_template_areas": null,
       "grid_template_columns": null,
       "grid_template_rows": null,
       "height": null,
       "justify_content": null,
       "justify_items": null,
       "left": null,
       "margin": null,
       "max_height": null,
       "max_width": null,
       "min_height": null,
       "min_width": null,
       "object_fit": null,
       "object_position": null,
       "order": null,
       "overflow": null,
       "overflow_x": null,
       "overflow_y": null,
       "padding": null,
       "right": null,
       "top": null,
       "visibility": null,
       "width": null
      }
     },
     "3e613ad051e04c6b8ec4a4fb9d2b82c7": {
      "model_module": "@jupyter-widgets/base",
      "model_module_version": "1.2.0",
      "model_name": "LayoutModel",
      "state": {
       "_model_module": "@jupyter-widgets/base",
       "_model_module_version": "1.2.0",
       "_model_name": "LayoutModel",
       "_view_count": null,
       "_view_module": "@jupyter-widgets/base",
       "_view_module_version": "1.2.0",
       "_view_name": "LayoutView",
       "align_content": null,
       "align_items": null,
       "align_self": null,
       "border": null,
       "bottom": null,
       "display": null,
       "flex": null,
       "flex_flow": null,
       "grid_area": null,
       "grid_auto_columns": null,
       "grid_auto_flow": null,
       "grid_auto_rows": null,
       "grid_column": null,
       "grid_gap": null,
       "grid_row": null,
       "grid_template_areas": null,
       "grid_template_columns": null,
       "grid_template_rows": null,
       "height": null,
       "justify_content": null,
       "justify_items": null,
       "left": null,
       "margin": null,
       "max_height": null,
       "max_width": null,
       "min_height": null,
       "min_width": null,
       "object_fit": null,
       "object_position": null,
       "order": null,
       "overflow": null,
       "overflow_x": null,
       "overflow_y": null,
       "padding": null,
       "right": null,
       "top": null,
       "visibility": null,
       "width": null
      }
     },
     "3f80a08c63794e10b5b9e4fe8c978202": {
      "model_module": "@jupyter-widgets/controls",
      "model_module_version": "1.5.0",
      "model_name": "DescriptionStyleModel",
      "state": {
       "_model_module": "@jupyter-widgets/controls",
       "_model_module_version": "1.5.0",
       "_model_name": "DescriptionStyleModel",
       "_view_count": null,
       "_view_module": "@jupyter-widgets/base",
       "_view_module_version": "1.2.0",
       "_view_name": "StyleView",
       "description_width": ""
      }
     },
     "4893c7356528492bac36a700f9b2ed93": {
      "model_module": "@jupyter-widgets/base",
      "model_module_version": "1.2.0",
      "model_name": "LayoutModel",
      "state": {
       "_model_module": "@jupyter-widgets/base",
       "_model_module_version": "1.2.0",
       "_model_name": "LayoutModel",
       "_view_count": null,
       "_view_module": "@jupyter-widgets/base",
       "_view_module_version": "1.2.0",
       "_view_name": "LayoutView",
       "align_content": null,
       "align_items": null,
       "align_self": null,
       "border": null,
       "bottom": null,
       "display": null,
       "flex": null,
       "flex_flow": null,
       "grid_area": null,
       "grid_auto_columns": null,
       "grid_auto_flow": null,
       "grid_auto_rows": null,
       "grid_column": null,
       "grid_gap": null,
       "grid_row": null,
       "grid_template_areas": null,
       "grid_template_columns": null,
       "grid_template_rows": null,
       "height": null,
       "justify_content": null,
       "justify_items": null,
       "left": null,
       "margin": null,
       "max_height": null,
       "max_width": null,
       "min_height": null,
       "min_width": null,
       "object_fit": null,
       "object_position": null,
       "order": null,
       "overflow": null,
       "overflow_x": null,
       "overflow_y": null,
       "padding": null,
       "right": null,
       "top": null,
       "visibility": null,
       "width": null
      }
     },
     "491371f0e6924c049b1ff5393a05fe53": {
      "model_module": "@jupyter-widgets/controls",
      "model_module_version": "1.5.0",
      "model_name": "FloatProgressModel",
      "state": {
       "_dom_classes": [],
       "_model_module": "@jupyter-widgets/controls",
       "_model_module_version": "1.5.0",
       "_model_name": "FloatProgressModel",
       "_view_count": null,
       "_view_module": "@jupyter-widgets/controls",
       "_view_module_version": "1.5.0",
       "_view_name": "ProgressView",
       "bar_style": "success",
       "description": "",
       "description_tooltip": null,
       "layout": "IPY_MODEL_d2432b758c024f548afccc2491af4b7f",
       "max": 28.0,
       "min": 0.0,
       "orientation": "horizontal",
       "style": "IPY_MODEL_cac014f7ede346f19f0937f3ede8c59d",
       "value": 28.0
      }
     },
     "4926321423a94ad59463be27229fff35": {
      "model_module": "@jupyter-widgets/controls",
      "model_module_version": "1.5.0",
      "model_name": "ProgressStyleModel",
      "state": {
       "_model_module": "@jupyter-widgets/controls",
       "_model_module_version": "1.5.0",
       "_model_name": "ProgressStyleModel",
       "_view_count": null,
       "_view_module": "@jupyter-widgets/base",
       "_view_module_version": "1.2.0",
       "_view_name": "StyleView",
       "bar_color": null,
       "description_width": ""
      }
     },
     "4b0ec383ef3a485599f6dacdb8823fdf": {
      "model_module": "@jupyter-widgets/controls",
      "model_module_version": "1.5.0",
      "model_name": "HTMLModel",
      "state": {
       "_dom_classes": [],
       "_model_module": "@jupyter-widgets/controls",
       "_model_module_version": "1.5.0",
       "_model_name": "HTMLModel",
       "_view_count": null,
       "_view_module": "@jupyter-widgets/controls",
       "_view_module_version": "1.5.0",
       "_view_name": "HTMLView",
       "description": "",
       "description_tooltip": null,
       "layout": "IPY_MODEL_940bb2dae4564815a4e0a494654abea8",
       "placeholder": "​",
       "style": "IPY_MODEL_3f80a08c63794e10b5b9e4fe8c978202",
       "value": " 28.0/28.0 [00:00&lt;00:00, 1.62kB/s]"
      }
     },
     "4f374cc1861243aa946862fbb0bee344": {
      "model_module": "@jupyter-widgets/base",
      "model_module_version": "1.2.0",
      "model_name": "LayoutModel",
      "state": {
       "_model_module": "@jupyter-widgets/base",
       "_model_module_version": "1.2.0",
       "_model_name": "LayoutModel",
       "_view_count": null,
       "_view_module": "@jupyter-widgets/base",
       "_view_module_version": "1.2.0",
       "_view_name": "LayoutView",
       "align_content": null,
       "align_items": null,
       "align_self": null,
       "border": null,
       "bottom": null,
       "display": null,
       "flex": null,
       "flex_flow": null,
       "grid_area": null,
       "grid_auto_columns": null,
       "grid_auto_flow": null,
       "grid_auto_rows": null,
       "grid_column": null,
       "grid_gap": null,
       "grid_row": null,
       "grid_template_areas": null,
       "grid_template_columns": null,
       "grid_template_rows": null,
       "height": null,
       "justify_content": null,
       "justify_items": null,
       "left": null,
       "margin": null,
       "max_height": null,
       "max_width": null,
       "min_height": null,
       "min_width": null,
       "object_fit": null,
       "object_position": null,
       "order": null,
       "overflow": null,
       "overflow_x": null,
       "overflow_y": null,
       "padding": null,
       "right": null,
       "top": null,
       "visibility": null,
       "width": null
      }
     },
     "50c12cb4ef234bc1973c79a074a0324d": {
      "model_module": "@jupyter-widgets/controls",
      "model_module_version": "1.5.0",
      "model_name": "HTMLModel",
      "state": {
       "_dom_classes": [],
       "_model_module": "@jupyter-widgets/controls",
       "_model_module_version": "1.5.0",
       "_model_name": "HTMLModel",
       "_view_count": null,
       "_view_module": "@jupyter-widgets/controls",
       "_view_module_version": "1.5.0",
       "_view_name": "HTMLView",
       "description": "",
       "description_tooltip": null,
       "layout": "IPY_MODEL_991d461cc3e544819ad522b9c0fc11fc",
       "placeholder": "​",
       "style": "IPY_MODEL_5ad506cbb12e4dda94d8cf214cd1da92",
       "value": "Downloading config.json: 100%"
      }
     },
     "565893af21b74641affa0e7781e28c54": {
      "model_module": "@jupyter-widgets/controls",
      "model_module_version": "1.5.0",
      "model_name": "DescriptionStyleModel",
      "state": {
       "_model_module": "@jupyter-widgets/controls",
       "_model_module_version": "1.5.0",
       "_model_name": "DescriptionStyleModel",
       "_view_count": null,
       "_view_module": "@jupyter-widgets/base",
       "_view_module_version": "1.2.0",
       "_view_name": "StyleView",
       "description_width": ""
      }
     },
     "5ad506cbb12e4dda94d8cf214cd1da92": {
      "model_module": "@jupyter-widgets/controls",
      "model_module_version": "1.5.0",
      "model_name": "DescriptionStyleModel",
      "state": {
       "_model_module": "@jupyter-widgets/controls",
       "_model_module_version": "1.5.0",
       "_model_name": "DescriptionStyleModel",
       "_view_count": null,
       "_view_module": "@jupyter-widgets/base",
       "_view_module_version": "1.2.0",
       "_view_name": "StyleView",
       "description_width": ""
      }
     },
     "632e6f14550542a5b075f5a8bf55f555": {
      "model_module": "@jupyter-widgets/base",
      "model_module_version": "1.2.0",
      "model_name": "LayoutModel",
      "state": {
       "_model_module": "@jupyter-widgets/base",
       "_model_module_version": "1.2.0",
       "_model_name": "LayoutModel",
       "_view_count": null,
       "_view_module": "@jupyter-widgets/base",
       "_view_module_version": "1.2.0",
       "_view_name": "LayoutView",
       "align_content": null,
       "align_items": null,
       "align_self": null,
       "border": null,
       "bottom": null,
       "display": null,
       "flex": null,
       "flex_flow": null,
       "grid_area": null,
       "grid_auto_columns": null,
       "grid_auto_flow": null,
       "grid_auto_rows": null,
       "grid_column": null,
       "grid_gap": null,
       "grid_row": null,
       "grid_template_areas": null,
       "grid_template_columns": null,
       "grid_template_rows": null,
       "height": null,
       "justify_content": null,
       "justify_items": null,
       "left": null,
       "margin": null,
       "max_height": null,
       "max_width": null,
       "min_height": null,
       "min_width": null,
       "object_fit": null,
       "object_position": null,
       "order": null,
       "overflow": null,
       "overflow_x": null,
       "overflow_y": null,
       "padding": null,
       "right": null,
       "top": null,
       "visibility": null,
       "width": null
      }
     },
     "75281ea2ac1b40adb406e1ecd505b119": {
      "model_module": "@jupyter-widgets/controls",
      "model_module_version": "1.5.0",
      "model_name": "DescriptionStyleModel",
      "state": {
       "_model_module": "@jupyter-widgets/controls",
       "_model_module_version": "1.5.0",
       "_model_name": "DescriptionStyleModel",
       "_view_count": null,
       "_view_module": "@jupyter-widgets/base",
       "_view_module_version": "1.2.0",
       "_view_name": "StyleView",
       "description_width": ""
      }
     },
     "8237461508724b8c8cded97386276360": {
      "model_module": "@jupyter-widgets/controls",
      "model_module_version": "1.5.0",
      "model_name": "DescriptionStyleModel",
      "state": {
       "_model_module": "@jupyter-widgets/controls",
       "_model_module_version": "1.5.0",
       "_model_name": "DescriptionStyleModel",
       "_view_count": null,
       "_view_module": "@jupyter-widgets/base",
       "_view_module_version": "1.2.0",
       "_view_name": "StyleView",
       "description_width": ""
      }
     },
     "900896771669472da2a6321d9f3bed09": {
      "model_module": "@jupyter-widgets/base",
      "model_module_version": "1.2.0",
      "model_name": "LayoutModel",
      "state": {
       "_model_module": "@jupyter-widgets/base",
       "_model_module_version": "1.2.0",
       "_model_name": "LayoutModel",
       "_view_count": null,
       "_view_module": "@jupyter-widgets/base",
       "_view_module_version": "1.2.0",
       "_view_name": "LayoutView",
       "align_content": null,
       "align_items": null,
       "align_self": null,
       "border": null,
       "bottom": null,
       "display": null,
       "flex": null,
       "flex_flow": null,
       "grid_area": null,
       "grid_auto_columns": null,
       "grid_auto_flow": null,
       "grid_auto_rows": null,
       "grid_column": null,
       "grid_gap": null,
       "grid_row": null,
       "grid_template_areas": null,
       "grid_template_columns": null,
       "grid_template_rows": null,
       "height": null,
       "justify_content": null,
       "justify_items": null,
       "left": null,
       "margin": null,
       "max_height": null,
       "max_width": null,
       "min_height": null,
       "min_width": null,
       "object_fit": null,
       "object_position": null,
       "order": null,
       "overflow": null,
       "overflow_x": null,
       "overflow_y": null,
       "padding": null,
       "right": null,
       "top": null,
       "visibility": null,
       "width": null
      }
     },
     "90966dbdeb824472a24d8d8c20289e49": {
      "model_module": "@jupyter-widgets/controls",
      "model_module_version": "1.5.0",
      "model_name": "HBoxModel",
      "state": {
       "_dom_classes": [],
       "_model_module": "@jupyter-widgets/controls",
       "_model_module_version": "1.5.0",
       "_model_name": "HBoxModel",
       "_view_count": null,
       "_view_module": "@jupyter-widgets/controls",
       "_view_module_version": "1.5.0",
       "_view_name": "HBoxView",
       "box_style": "",
       "children": [
        "IPY_MODEL_90c652a656334737887c78969ca2c06d",
        "IPY_MODEL_f7d4dd032eee4a3d807819c4001402e7",
        "IPY_MODEL_a9cab8fda136413e9ec61cb832c75d64"
       ],
       "layout": "IPY_MODEL_3e613ad051e04c6b8ec4a4fb9d2b82c7"
      }
     },
     "90c652a656334737887c78969ca2c06d": {
      "model_module": "@jupyter-widgets/controls",
      "model_module_version": "1.5.0",
      "model_name": "HTMLModel",
      "state": {
       "_dom_classes": [],
       "_model_module": "@jupyter-widgets/controls",
       "_model_module_version": "1.5.0",
       "_model_name": "HTMLModel",
       "_view_count": null,
       "_view_module": "@jupyter-widgets/controls",
       "_view_module_version": "1.5.0",
       "_view_name": "HTMLView",
       "description": "",
       "description_tooltip": null,
       "layout": "IPY_MODEL_4f374cc1861243aa946862fbb0bee344",
       "placeholder": "​",
       "style": "IPY_MODEL_75281ea2ac1b40adb406e1ecd505b119",
       "value": "Downloading tokenizer.json: 100%"
      }
     },
     "9277bce62a314938aa769a7fd9b85fef": {
      "model_module": "@jupyter-widgets/controls",
      "model_module_version": "1.5.0",
      "model_name": "FloatProgressModel",
      "state": {
       "_dom_classes": [],
       "_model_module": "@jupyter-widgets/controls",
       "_model_module_version": "1.5.0",
       "_model_name": "FloatProgressModel",
       "_view_count": null,
       "_view_module": "@jupyter-widgets/controls",
       "_view_module_version": "1.5.0",
       "_view_name": "ProgressView",
       "bar_style": "success",
       "description": "",
       "description_tooltip": null,
       "layout": "IPY_MODEL_3602630aba7d4fbdb2cadd9fad6ab4b8",
       "max": 570.0,
       "min": 0.0,
       "orientation": "horizontal",
       "style": "IPY_MODEL_9f6ba76c3abe451bb96547995aef21bc",
       "value": 570.0
      }
     },
     "940bb2dae4564815a4e0a494654abea8": {
      "model_module": "@jupyter-widgets/base",
      "model_module_version": "1.2.0",
      "model_name": "LayoutModel",
      "state": {
       "_model_module": "@jupyter-widgets/base",
       "_model_module_version": "1.2.0",
       "_model_name": "LayoutModel",
       "_view_count": null,
       "_view_module": "@jupyter-widgets/base",
       "_view_module_version": "1.2.0",
       "_view_name": "LayoutView",
       "align_content": null,
       "align_items": null,
       "align_self": null,
       "border": null,
       "bottom": null,
       "display": null,
       "flex": null,
       "flex_flow": null,
       "grid_area": null,
       "grid_auto_columns": null,
       "grid_auto_flow": null,
       "grid_auto_rows": null,
       "grid_column": null,
       "grid_gap": null,
       "grid_row": null,
       "grid_template_areas": null,
       "grid_template_columns": null,
       "grid_template_rows": null,
       "height": null,
       "justify_content": null,
       "justify_items": null,
       "left": null,
       "margin": null,
       "max_height": null,
       "max_width": null,
       "min_height": null,
       "min_width": null,
       "object_fit": null,
       "object_position": null,
       "order": null,
       "overflow": null,
       "overflow_x": null,
       "overflow_y": null,
       "padding": null,
       "right": null,
       "top": null,
       "visibility": null,
       "width": null
      }
     },
     "991d461cc3e544819ad522b9c0fc11fc": {
      "model_module": "@jupyter-widgets/base",
      "model_module_version": "1.2.0",
      "model_name": "LayoutModel",
      "state": {
       "_model_module": "@jupyter-widgets/base",
       "_model_module_version": "1.2.0",
       "_model_name": "LayoutModel",
       "_view_count": null,
       "_view_module": "@jupyter-widgets/base",
       "_view_module_version": "1.2.0",
       "_view_name": "LayoutView",
       "align_content": null,
       "align_items": null,
       "align_self": null,
       "border": null,
       "bottom": null,
       "display": null,
       "flex": null,
       "flex_flow": null,
       "grid_area": null,
       "grid_auto_columns": null,
       "grid_auto_flow": null,
       "grid_auto_rows": null,
       "grid_column": null,
       "grid_gap": null,
       "grid_row": null,
       "grid_template_areas": null,
       "grid_template_columns": null,
       "grid_template_rows": null,
       "height": null,
       "justify_content": null,
       "justify_items": null,
       "left": null,
       "margin": null,
       "max_height": null,
       "max_width": null,
       "min_height": null,
       "min_width": null,
       "object_fit": null,
       "object_position": null,
       "order": null,
       "overflow": null,
       "overflow_x": null,
       "overflow_y": null,
       "padding": null,
       "right": null,
       "top": null,
       "visibility": null,
       "width": null
      }
     },
     "9f6ba76c3abe451bb96547995aef21bc": {
      "model_module": "@jupyter-widgets/controls",
      "model_module_version": "1.5.0",
      "model_name": "ProgressStyleModel",
      "state": {
       "_model_module": "@jupyter-widgets/controls",
       "_model_module_version": "1.5.0",
       "_model_name": "ProgressStyleModel",
       "_view_count": null,
       "_view_module": "@jupyter-widgets/base",
       "_view_module_version": "1.2.0",
       "_view_name": "StyleView",
       "bar_color": null,
       "description_width": ""
      }
     },
     "a3341e2a5ff54131b5dcb31804937dd2": {
      "model_module": "@jupyter-widgets/controls",
      "model_module_version": "1.5.0",
      "model_name": "DescriptionStyleModel",
      "state": {
       "_model_module": "@jupyter-widgets/controls",
       "_model_module_version": "1.5.0",
       "_model_name": "DescriptionStyleModel",
       "_view_count": null,
       "_view_module": "@jupyter-widgets/base",
       "_view_module_version": "1.2.0",
       "_view_name": "StyleView",
       "description_width": ""
      }
     },
     "a54ed482c3e84304898640056db74503": {
      "model_module": "@jupyter-widgets/base",
      "model_module_version": "1.2.0",
      "model_name": "LayoutModel",
      "state": {
       "_model_module": "@jupyter-widgets/base",
       "_model_module_version": "1.2.0",
       "_model_name": "LayoutModel",
       "_view_count": null,
       "_view_module": "@jupyter-widgets/base",
       "_view_module_version": "1.2.0",
       "_view_name": "LayoutView",
       "align_content": null,
       "align_items": null,
       "align_self": null,
       "border": null,
       "bottom": null,
       "display": null,
       "flex": null,
       "flex_flow": null,
       "grid_area": null,
       "grid_auto_columns": null,
       "grid_auto_flow": null,
       "grid_auto_rows": null,
       "grid_column": null,
       "grid_gap": null,
       "grid_row": null,
       "grid_template_areas": null,
       "grid_template_columns": null,
       "grid_template_rows": null,
       "height": null,
       "justify_content": null,
       "justify_items": null,
       "left": null,
       "margin": null,
       "max_height": null,
       "max_width": null,
       "min_height": null,
       "min_width": null,
       "object_fit": null,
       "object_position": null,
       "order": null,
       "overflow": null,
       "overflow_x": null,
       "overflow_y": null,
       "padding": null,
       "right": null,
       "top": null,
       "visibility": null,
       "width": null
      }
     },
     "a9cab8fda136413e9ec61cb832c75d64": {
      "model_module": "@jupyter-widgets/controls",
      "model_module_version": "1.5.0",
      "model_name": "HTMLModel",
      "state": {
       "_dom_classes": [],
       "_model_module": "@jupyter-widgets/controls",
       "_model_module_version": "1.5.0",
       "_model_name": "HTMLModel",
       "_view_count": null,
       "_view_module": "@jupyter-widgets/controls",
       "_view_module_version": "1.5.0",
       "_view_name": "HTMLView",
       "description": "",
       "description_tooltip": null,
       "layout": "IPY_MODEL_a54ed482c3e84304898640056db74503",
       "placeholder": "​",
       "style": "IPY_MODEL_13e3d981b24b4813b6d601ec69c33fa8",
       "value": " 466k/466k [00:00&lt;00:00, 1.98MB/s]"
      }
     },
     "aab5d882c3f54b21a975289957805b05": {
      "model_module": "@jupyter-widgets/controls",
      "model_module_version": "1.5.0",
      "model_name": "DescriptionStyleModel",
      "state": {
       "_model_module": "@jupyter-widgets/controls",
       "_model_module_version": "1.5.0",
       "_model_name": "DescriptionStyleModel",
       "_view_count": null,
       "_view_module": "@jupyter-widgets/base",
       "_view_module_version": "1.2.0",
       "_view_name": "StyleView",
       "description_width": ""
      }
     },
     "b7186621d616495197e10f0d6c9dd223": {
      "model_module": "@jupyter-widgets/controls",
      "model_module_version": "1.5.0",
      "model_name": "DescriptionStyleModel",
      "state": {
       "_model_module": "@jupyter-widgets/controls",
       "_model_module_version": "1.5.0",
       "_model_name": "DescriptionStyleModel",
       "_view_count": null,
       "_view_module": "@jupyter-widgets/base",
       "_view_module_version": "1.2.0",
       "_view_name": "StyleView",
       "description_width": ""
      }
     },
     "b991c1ef9287445088fa51ec6c41c145": {
      "model_module": "@jupyter-widgets/controls",
      "model_module_version": "1.5.0",
      "model_name": "HTMLModel",
      "state": {
       "_dom_classes": [],
       "_model_module": "@jupyter-widgets/controls",
       "_model_module_version": "1.5.0",
       "_model_name": "HTMLModel",
       "_view_count": null,
       "_view_module": "@jupyter-widgets/controls",
       "_view_module_version": "1.5.0",
       "_view_name": "HTMLView",
       "description": "",
       "description_tooltip": null,
       "layout": "IPY_MODEL_ea9ff9248cf241be9d2d86bef0e31527",
       "placeholder": "​",
       "style": "IPY_MODEL_be3cbfe73ee64f6fb2fca58bc3738cd0",
       "value": " 570/570 [00:00&lt;00:00, 39.5kB/s]"
      }
     },
     "be3cbfe73ee64f6fb2fca58bc3738cd0": {
      "model_module": "@jupyter-widgets/controls",
      "model_module_version": "1.5.0",
      "model_name": "DescriptionStyleModel",
      "state": {
       "_model_module": "@jupyter-widgets/controls",
       "_model_module_version": "1.5.0",
       "_model_name": "DescriptionStyleModel",
       "_view_count": null,
       "_view_module": "@jupyter-widgets/base",
       "_view_module_version": "1.2.0",
       "_view_name": "StyleView",
       "description_width": ""
      }
     },
     "c32becaca06441a0b982867754f46f57": {
      "model_module": "@jupyter-widgets/base",
      "model_module_version": "1.2.0",
      "model_name": "LayoutModel",
      "state": {
       "_model_module": "@jupyter-widgets/base",
       "_model_module_version": "1.2.0",
       "_model_name": "LayoutModel",
       "_view_count": null,
       "_view_module": "@jupyter-widgets/base",
       "_view_module_version": "1.2.0",
       "_view_name": "LayoutView",
       "align_content": null,
       "align_items": null,
       "align_self": null,
       "border": null,
       "bottom": null,
       "display": null,
       "flex": null,
       "flex_flow": null,
       "grid_area": null,
       "grid_auto_columns": null,
       "grid_auto_flow": null,
       "grid_auto_rows": null,
       "grid_column": null,
       "grid_gap": null,
       "grid_row": null,
       "grid_template_areas": null,
       "grid_template_columns": null,
       "grid_template_rows": null,
       "height": null,
       "justify_content": null,
       "justify_items": null,
       "left": null,
       "margin": null,
       "max_height": null,
       "max_width": null,
       "min_height": null,
       "min_width": null,
       "object_fit": null,
       "object_position": null,
       "order": null,
       "overflow": null,
       "overflow_x": null,
       "overflow_y": null,
       "padding": null,
       "right": null,
       "top": null,
       "visibility": null,
       "width": null
      }
     },
     "c79b30d24c524ed99ffa5b01398719ed": {
      "model_module": "@jupyter-widgets/controls",
      "model_module_version": "1.5.0",
      "model_name": "ProgressStyleModel",
      "state": {
       "_model_module": "@jupyter-widgets/controls",
       "_model_module_version": "1.5.0",
       "_model_name": "ProgressStyleModel",
       "_view_count": null,
       "_view_module": "@jupyter-widgets/base",
       "_view_module_version": "1.2.0",
       "_view_name": "StyleView",
       "bar_color": null,
       "description_width": ""
      }
     },
     "cac014f7ede346f19f0937f3ede8c59d": {
      "model_module": "@jupyter-widgets/controls",
      "model_module_version": "1.5.0",
      "model_name": "ProgressStyleModel",
      "state": {
       "_model_module": "@jupyter-widgets/controls",
       "_model_module_version": "1.5.0",
       "_model_name": "ProgressStyleModel",
       "_view_count": null,
       "_view_module": "@jupyter-widgets/base",
       "_view_module_version": "1.2.0",
       "_view_name": "StyleView",
       "bar_color": null,
       "description_width": ""
      }
     },
     "cb575a7e529844de9332198a81bcbb54": {
      "model_module": "@jupyter-widgets/base",
      "model_module_version": "1.2.0",
      "model_name": "LayoutModel",
      "state": {
       "_model_module": "@jupyter-widgets/base",
       "_model_module_version": "1.2.0",
       "_model_name": "LayoutModel",
       "_view_count": null,
       "_view_module": "@jupyter-widgets/base",
       "_view_module_version": "1.2.0",
       "_view_name": "LayoutView",
       "align_content": null,
       "align_items": null,
       "align_self": null,
       "border": null,
       "bottom": null,
       "display": null,
       "flex": null,
       "flex_flow": null,
       "grid_area": null,
       "grid_auto_columns": null,
       "grid_auto_flow": null,
       "grid_auto_rows": null,
       "grid_column": null,
       "grid_gap": null,
       "grid_row": null,
       "grid_template_areas": null,
       "grid_template_columns": null,
       "grid_template_rows": null,
       "height": null,
       "justify_content": null,
       "justify_items": null,
       "left": null,
       "margin": null,
       "max_height": null,
       "max_width": null,
       "min_height": null,
       "min_width": null,
       "object_fit": null,
       "object_position": null,
       "order": null,
       "overflow": null,
       "overflow_x": null,
       "overflow_y": null,
       "padding": null,
       "right": null,
       "top": null,
       "visibility": null,
       "width": null
      }
     },
     "d0069d0c49e547bfa230584ac7d43912": {
      "model_module": "@jupyter-widgets/controls",
      "model_module_version": "1.5.0",
      "model_name": "HTMLModel",
      "state": {
       "_dom_classes": [],
       "_model_module": "@jupyter-widgets/controls",
       "_model_module_version": "1.5.0",
       "_model_name": "HTMLModel",
       "_view_count": null,
       "_view_module": "@jupyter-widgets/controls",
       "_view_module_version": "1.5.0",
       "_view_name": "HTMLView",
       "description": "",
       "description_tooltip": null,
       "layout": "IPY_MODEL_c32becaca06441a0b982867754f46f57",
       "placeholder": "​",
       "style": "IPY_MODEL_565893af21b74641affa0e7781e28c54",
       "value": "Downloading model.safetensors: 100%"
      }
     },
     "d2432b758c024f548afccc2491af4b7f": {
      "model_module": "@jupyter-widgets/base",
      "model_module_version": "1.2.0",
      "model_name": "LayoutModel",
      "state": {
       "_model_module": "@jupyter-widgets/base",
       "_model_module_version": "1.2.0",
       "_model_name": "LayoutModel",
       "_view_count": null,
       "_view_module": "@jupyter-widgets/base",
       "_view_module_version": "1.2.0",
       "_view_name": "LayoutView",
       "align_content": null,
       "align_items": null,
       "align_self": null,
       "border": null,
       "bottom": null,
       "display": null,
       "flex": null,
       "flex_flow": null,
       "grid_area": null,
       "grid_auto_columns": null,
       "grid_auto_flow": null,
       "grid_auto_rows": null,
       "grid_column": null,
       "grid_gap": null,
       "grid_row": null,
       "grid_template_areas": null,
       "grid_template_columns": null,
       "grid_template_rows": null,
       "height": null,
       "justify_content": null,
       "justify_items": null,
       "left": null,
       "margin": null,
       "max_height": null,
       "max_width": null,
       "min_height": null,
       "min_width": null,
       "object_fit": null,
       "object_position": null,
       "order": null,
       "overflow": null,
       "overflow_x": null,
       "overflow_y": null,
       "padding": null,
       "right": null,
       "top": null,
       "visibility": null,
       "width": null
      }
     },
     "d5029d8a3008468ca873de5cbebd80c1": {
      "model_module": "@jupyter-widgets/controls",
      "model_module_version": "1.5.0",
      "model_name": "HBoxModel",
      "state": {
       "_dom_classes": [],
       "_model_module": "@jupyter-widgets/controls",
       "_model_module_version": "1.5.0",
       "_model_name": "HBoxModel",
       "_view_count": null,
       "_view_module": "@jupyter-widgets/controls",
       "_view_module_version": "1.5.0",
       "_view_name": "HBoxView",
       "box_style": "",
       "children": [
        "IPY_MODEL_50c12cb4ef234bc1973c79a074a0324d",
        "IPY_MODEL_9277bce62a314938aa769a7fd9b85fef",
        "IPY_MODEL_b991c1ef9287445088fa51ec6c41c145"
       ],
       "layout": "IPY_MODEL_f20a36032a8d44f48bb3aeeb7807c3d2"
      }
     },
     "e01a2f3846d24309b680dcc09b7979e1": {
      "model_module": "@jupyter-widgets/base",
      "model_module_version": "1.2.0",
      "model_name": "LayoutModel",
      "state": {
       "_model_module": "@jupyter-widgets/base",
       "_model_module_version": "1.2.0",
       "_model_name": "LayoutModel",
       "_view_count": null,
       "_view_module": "@jupyter-widgets/base",
       "_view_module_version": "1.2.0",
       "_view_name": "LayoutView",
       "align_content": null,
       "align_items": null,
       "align_self": null,
       "border": null,
       "bottom": null,
       "display": null,
       "flex": null,
       "flex_flow": null,
       "grid_area": null,
       "grid_auto_columns": null,
       "grid_auto_flow": null,
       "grid_auto_rows": null,
       "grid_column": null,
       "grid_gap": null,
       "grid_row": null,
       "grid_template_areas": null,
       "grid_template_columns": null,
       "grid_template_rows": null,
       "height": null,
       "justify_content": null,
       "justify_items": null,
       "left": null,
       "margin": null,
       "max_height": null,
       "max_width": null,
       "min_height": null,
       "min_width": null,
       "object_fit": null,
       "object_position": null,
       "order": null,
       "overflow": null,
       "overflow_x": null,
       "overflow_y": null,
       "padding": null,
       "right": null,
       "top": null,
       "visibility": null,
       "width": null
      }
     },
     "e57ea18bf580416f8421ff305259ffbb": {
      "model_module": "@jupyter-widgets/base",
      "model_module_version": "1.2.0",
      "model_name": "LayoutModel",
      "state": {
       "_model_module": "@jupyter-widgets/base",
       "_model_module_version": "1.2.0",
       "_model_name": "LayoutModel",
       "_view_count": null,
       "_view_module": "@jupyter-widgets/base",
       "_view_module_version": "1.2.0",
       "_view_name": "LayoutView",
       "align_content": null,
       "align_items": null,
       "align_self": null,
       "border": null,
       "bottom": null,
       "display": null,
       "flex": null,
       "flex_flow": null,
       "grid_area": null,
       "grid_auto_columns": null,
       "grid_auto_flow": null,
       "grid_auto_rows": null,
       "grid_column": null,
       "grid_gap": null,
       "grid_row": null,
       "grid_template_areas": null,
       "grid_template_columns": null,
       "grid_template_rows": null,
       "height": null,
       "justify_content": null,
       "justify_items": null,
       "left": null,
       "margin": null,
       "max_height": null,
       "max_width": null,
       "min_height": null,
       "min_width": null,
       "object_fit": null,
       "object_position": null,
       "order": null,
       "overflow": null,
       "overflow_x": null,
       "overflow_y": null,
       "padding": null,
       "right": null,
       "top": null,
       "visibility": null,
       "width": null
      }
     },
     "ea9ff9248cf241be9d2d86bef0e31527": {
      "model_module": "@jupyter-widgets/base",
      "model_module_version": "1.2.0",
      "model_name": "LayoutModel",
      "state": {
       "_model_module": "@jupyter-widgets/base",
       "_model_module_version": "1.2.0",
       "_model_name": "LayoutModel",
       "_view_count": null,
       "_view_module": "@jupyter-widgets/base",
       "_view_module_version": "1.2.0",
       "_view_name": "LayoutView",
       "align_content": null,
       "align_items": null,
       "align_self": null,
       "border": null,
       "bottom": null,
       "display": null,
       "flex": null,
       "flex_flow": null,
       "grid_area": null,
       "grid_auto_columns": null,
       "grid_auto_flow": null,
       "grid_auto_rows": null,
       "grid_column": null,
       "grid_gap": null,
       "grid_row": null,
       "grid_template_areas": null,
       "grid_template_columns": null,
       "grid_template_rows": null,
       "height": null,
       "justify_content": null,
       "justify_items": null,
       "left": null,
       "margin": null,
       "max_height": null,
       "max_width": null,
       "min_height": null,
       "min_width": null,
       "object_fit": null,
       "object_position": null,
       "order": null,
       "overflow": null,
       "overflow_x": null,
       "overflow_y": null,
       "padding": null,
       "right": null,
       "top": null,
       "visibility": null,
       "width": null
      }
     },
     "eb508b50bea24977a8d6021681a0a4e8": {
      "model_module": "@jupyter-widgets/controls",
      "model_module_version": "1.5.0",
      "model_name": "HBoxModel",
      "state": {
       "_dom_classes": [],
       "_model_module": "@jupyter-widgets/controls",
       "_model_module_version": "1.5.0",
       "_model_name": "HBoxModel",
       "_view_count": null,
       "_view_module": "@jupyter-widgets/controls",
       "_view_module_version": "1.5.0",
       "_view_name": "HBoxView",
       "box_style": "",
       "children": [
        "IPY_MODEL_2eb8e321748946f98f247aa00c114675",
        "IPY_MODEL_491371f0e6924c049b1ff5393a05fe53",
        "IPY_MODEL_4b0ec383ef3a485599f6dacdb8823fdf"
       ],
       "layout": "IPY_MODEL_900896771669472da2a6321d9f3bed09"
      }
     },
     "f20a36032a8d44f48bb3aeeb7807c3d2": {
      "model_module": "@jupyter-widgets/base",
      "model_module_version": "1.2.0",
      "model_name": "LayoutModel",
      "state": {
       "_model_module": "@jupyter-widgets/base",
       "_model_module_version": "1.2.0",
       "_model_name": "LayoutModel",
       "_view_count": null,
       "_view_module": "@jupyter-widgets/base",
       "_view_module_version": "1.2.0",
       "_view_name": "LayoutView",
       "align_content": null,
       "align_items": null,
       "align_self": null,
       "border": null,
       "bottom": null,
       "display": null,
       "flex": null,
       "flex_flow": null,
       "grid_area": null,
       "grid_auto_columns": null,
       "grid_auto_flow": null,
       "grid_auto_rows": null,
       "grid_column": null,
       "grid_gap": null,
       "grid_row": null,
       "grid_template_areas": null,
       "grid_template_columns": null,
       "grid_template_rows": null,
       "height": null,
       "justify_content": null,
       "justify_items": null,
       "left": null,
       "margin": null,
       "max_height": null,
       "max_width": null,
       "min_height": null,
       "min_width": null,
       "object_fit": null,
       "object_position": null,
       "order": null,
       "overflow": null,
       "overflow_x": null,
       "overflow_y": null,
       "padding": null,
       "right": null,
       "top": null,
       "visibility": null,
       "width": null
      }
     },
     "f49e9690b8fe4d0992c31fa7f1691167": {
      "model_module": "@jupyter-widgets/base",
      "model_module_version": "1.2.0",
      "model_name": "LayoutModel",
      "state": {
       "_model_module": "@jupyter-widgets/base",
       "_model_module_version": "1.2.0",
       "_model_name": "LayoutModel",
       "_view_count": null,
       "_view_module": "@jupyter-widgets/base",
       "_view_module_version": "1.2.0",
       "_view_name": "LayoutView",
       "align_content": null,
       "align_items": null,
       "align_self": null,
       "border": null,
       "bottom": null,
       "display": null,
       "flex": null,
       "flex_flow": null,
       "grid_area": null,
       "grid_auto_columns": null,
       "grid_auto_flow": null,
       "grid_auto_rows": null,
       "grid_column": null,
       "grid_gap": null,
       "grid_row": null,
       "grid_template_areas": null,
       "grid_template_columns": null,
       "grid_template_rows": null,
       "height": null,
       "justify_content": null,
       "justify_items": null,
       "left": null,
       "margin": null,
       "max_height": null,
       "max_width": null,
       "min_height": null,
       "min_width": null,
       "object_fit": null,
       "object_position": null,
       "order": null,
       "overflow": null,
       "overflow_x": null,
       "overflow_y": null,
       "padding": null,
       "right": null,
       "top": null,
       "visibility": null,
       "width": null
      }
     },
     "f5abf1c2bd40418d8003b0fb806f8372": {
      "model_module": "@jupyter-widgets/base",
      "model_module_version": "1.2.0",
      "model_name": "LayoutModel",
      "state": {
       "_model_module": "@jupyter-widgets/base",
       "_model_module_version": "1.2.0",
       "_model_name": "LayoutModel",
       "_view_count": null,
       "_view_module": "@jupyter-widgets/base",
       "_view_module_version": "1.2.0",
       "_view_name": "LayoutView",
       "align_content": null,
       "align_items": null,
       "align_self": null,
       "border": null,
       "bottom": null,
       "display": null,
       "flex": null,
       "flex_flow": null,
       "grid_area": null,
       "grid_auto_columns": null,
       "grid_auto_flow": null,
       "grid_auto_rows": null,
       "grid_column": null,
       "grid_gap": null,
       "grid_row": null,
       "grid_template_areas": null,
       "grid_template_columns": null,
       "grid_template_rows": null,
       "height": null,
       "justify_content": null,
       "justify_items": null,
       "left": null,
       "margin": null,
       "max_height": null,
       "max_width": null,
       "min_height": null,
       "min_width": null,
       "object_fit": null,
       "object_position": null,
       "order": null,
       "overflow": null,
       "overflow_x": null,
       "overflow_y": null,
       "padding": null,
       "right": null,
       "top": null,
       "visibility": null,
       "width": null
      }
     },
     "f7d4dd032eee4a3d807819c4001402e7": {
      "model_module": "@jupyter-widgets/controls",
      "model_module_version": "1.5.0",
      "model_name": "FloatProgressModel",
      "state": {
       "_dom_classes": [],
       "_model_module": "@jupyter-widgets/controls",
       "_model_module_version": "1.5.0",
       "_model_name": "FloatProgressModel",
       "_view_count": null,
       "_view_module": "@jupyter-widgets/controls",
       "_view_module_version": "1.5.0",
       "_view_name": "ProgressView",
       "bar_style": "success",
       "description": "",
       "description_tooltip": null,
       "layout": "IPY_MODEL_4893c7356528492bac36a700f9b2ed93",
       "max": 466062.0,
       "min": 0.0,
       "orientation": "horizontal",
       "style": "IPY_MODEL_4926321423a94ad59463be27229fff35",
       "value": 466062.0
      }
     },
     "fc410d5f11234c50a240528b53369d6c": {
      "model_module": "@jupyter-widgets/controls",
      "model_module_version": "1.5.0",
      "model_name": "HBoxModel",
      "state": {
       "_dom_classes": [],
       "_model_module": "@jupyter-widgets/controls",
       "_model_module_version": "1.5.0",
       "_model_name": "HBoxModel",
       "_view_count": null,
       "_view_module": "@jupyter-widgets/controls",
       "_view_module_version": "1.5.0",
       "_view_name": "HBoxView",
       "box_style": "",
       "children": [
        "IPY_MODEL_1b0c752227e746bb8514320f08f72e88",
        "IPY_MODEL_1505320c4a4b4125bbda38ea49605f2b",
        "IPY_MODEL_131e7747de8a4c9f8b7ec69e964e9b60"
       ],
       "layout": "IPY_MODEL_04191eac90ab42babf2b2f7e811fe59b"
      }
     }
    },
    "version_major": 2,
    "version_minor": 0
   }
  }
 },
 "nbformat": 4,
 "nbformat_minor": 5
}
